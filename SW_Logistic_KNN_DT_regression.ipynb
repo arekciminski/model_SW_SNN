{
  "nbformat": 4,
  "nbformat_minor": 0,
  "metadata": {
    "colab": {
      "provenance": [],
      "gpuType": "T4",
      "mount_file_id": "1ekMYzvoGA7YIPAOEXQfhGF1If9tLIkS7",
      "authorship_tag": "ABX9TyOJxgcib2GK+a4COdlUV/qv",
      "include_colab_link": true
    },
    "kernelspec": {
      "name": "python3",
      "display_name": "Python 3"
    },
    "language_info": {
      "name": "python"
    },
    "accelerator": "GPU",
    "gpuClass": "standard"
  },
  "cells": [
    {
      "cell_type": "markdown",
      "metadata": {
        "id": "view-in-github",
        "colab_type": "text"
      },
      "source": [
        "<a href=\"https://colab.research.google.com/github/arekciminski/model_SW_SNN/blob/Dane_do_duzej_sieci_v2/SW_Logistic_KNN_DT_regression.ipynb\" target=\"_parent\"><img src=\"https://colab.research.google.com/assets/colab-badge.svg\" alt=\"Open In Colab\"/></a>"
      ]
    },
    {
      "cell_type": "markdown",
      "source": [
        "#Ładowanie bibliotek "
      ],
      "metadata": {
        "id": "1vk_hqSJu_OZ"
      }
    },
    {
      "cell_type": "code",
      "source": [
        "import os.path\n",
        "import pandas as pd\n",
        "import seaborn as sns\n",
        "\n",
        "from sklearn.model_selection import train_test_split\n",
        "from sklearn.linear_model import LogisticRegression\n",
        "from sklearn.metrics import RocCurveDisplay, roc_auc_score, roc_curve, confusion_matrix, accuracy_score, recall_score, f1_score, precision_score,balanced_accuracy_score\n",
        "from sklearn.preprocessing import MinMaxScaler\n",
        "from sklearn.neighbors import KNeighborsClassifier\n",
        "from sklearn.model_selection import GridSearchCV\n",
        "from sklearn.tree import DecisionTreeClassifier"
      ],
      "metadata": {
        "id": "2GpR9WcQtDn5"
      },
      "execution_count": null,
      "outputs": []
    },
    {
      "cell_type": "markdown",
      "source": [
        "\n",
        "#Ładowanie pliku z danymi z GitHub'a"
      ],
      "metadata": {
        "id": "baYnwXD2vDDA"
      }
    },
    {
      "cell_type": "code",
      "source": [
        "#file_name='dane_do_uczenia_1_1000000.zip'\n",
        "'''if os.path.exists(file_name)==0:\n",
        "  from google.colab import drive\n",
        "  drive.mount(\"/content/drive/dane_do_uczenia_1_1000000.zip\")'''\n",
        "#!unzip \"dane_do_uczenia_1_1000000.zip\"\n"
      ],
      "metadata": {
        "colab": {
          "base_uri": "https://localhost:8080/",
          "height": 35
        },
        "id": "Ix7H8bOTeGJi",
        "outputId": "6705bb7b-7b76-4b47-ceda-e60eba38bb91"
      },
      "execution_count": null,
      "outputs": [
        {
          "output_type": "execute_result",
          "data": {
            "text/plain": [
              "'if os.path.exists(file_name)==0:\\n  from google.colab import drive\\n  drive.mount(\"/content/drive/dane_do_uczenia_1_1000000.zip\")'"
            ],
            "application/vnd.google.colaboratory.intrinsic+json": {
              "type": "string"
            }
          },
          "metadata": {},
          "execution_count": 30
        }
      ]
    },
    {
      "cell_type": "code",
      "execution_count": null,
      "metadata": {
        "id": "_qDmRlkZo_nl"
      },
      "outputs": [],
      "source": [
        "file_name=\"dane_do_uczenia_1_50000.csv\"\n",
        "#https://raw.githubusercontent.com/arekciminski/model_SW_SNN/Dane_do_duzej_sieci_v2/dane_do_uczenia_1_50000.csv\n",
        "if os.path.exists(file_name)==0:\n",
        "  #!wget \"https://raw.githubusercontent.com/arekciminski/model_SW_SNN/Dane_do_duzej_sieci_v2/dane_do_uczenia_4000000.csv\"\n",
        "  !wget 'https://raw.githubusercontent.com/arekciminski/model_SW_SNN/Dane_do_duzej_sieci_v2/dane_do_uczenia_1_50000.csv'"
      ]
    },
    {
      "cell_type": "markdown",
      "source": [
        "#Ładowanie pliku lokalnego do pamięci\n"
      ],
      "metadata": {
        "id": "o2OubPjqvHYI"
      }
    },
    {
      "cell_type": "code",
      "source": [
        "df= pd.read_csv(file_name,decimal =',',sep=';')"
      ],
      "metadata": {
        "id": "5Uhy1rjKpoTO"
      },
      "execution_count": null,
      "outputs": []
    },
    {
      "cell_type": "code",
      "source": [
        "df.shape"
      ],
      "metadata": {
        "colab": {
          "base_uri": "https://localhost:8080/"
        },
        "id": "vNTHBwqKy1H6",
        "outputId": "657c9641-ad8c-41b5-946c-5d15aa9ecffb"
      },
      "execution_count": null,
      "outputs": [
        {
          "output_type": "execute_result",
          "data": {
            "text/plain": [
              "(50000, 19)"
            ]
          },
          "metadata": {},
          "execution_count": 33
        }
      ]
    },
    {
      "cell_type": "code",
      "source": [
        "df.head()"
      ],
      "metadata": {
        "colab": {
          "base_uri": "https://localhost:8080/",
          "height": 288
        },
        "id": "6VpN2ZSKzEug",
        "outputId": "fbaa6d51-e442-4043-83cd-24f0ca1cbb25"
      },
      "execution_count": null,
      "outputs": [
        {
          "output_type": "execute_result",
          "data": {
            "text/plain": [
              "   Unnamed: 0  error_output  time_output  head_output_083  head_output_158  \\\n",
              "0           0             0            0       199.933365       199.647156   \n",
              "1           1             4            0       220.021545       219.745071   \n",
              "2           2             0            0       194.770889       194.528488   \n",
              "3           3             4            0       218.792007       218.509995   \n",
              "4           4             0            0       190.849152       190.601852   \n",
              "\n",
              "   head_output_180  flow_output_F1  flow_output_K1  flow_output_P1  \\\n",
              "0       167.500000      138.377930       83.717445        2.380052   \n",
              "1       168.699997      177.392029      112.017647        0.000000   \n",
              "2       170.199997      205.863663       13.969801       90.367699   \n",
              "3       170.500000        0.000000       99.217644        0.000000   \n",
              "4       168.899994      264.401123       63.869576       62.547928   \n",
              "\n",
              "   tank_output_180  energy_output_F1  energy_output_K1  energy_output_P1  \\\n",
              "0       167.500000         20.431585         10.736735          0.539035   \n",
              "1       168.699997         28.465670         23.276525          0.000000   \n",
              "2       170.199997         35.464478          3.120016          6.956906   \n",
              "3       170.500000          0.000000         18.729397          0.000000   \n",
              "4       168.899994         47.016254          6.140797          4.026922   \n",
              "\n",
              "   tank_input_180  pump_input_F1  pump_input_K1  pump_input_P1  \\\n",
              "0             1.5           0.71           0.73           0.71   \n",
              "1             2.7           0.77           0.92           0.85   \n",
              "2             4.2           0.83           0.63           0.77   \n",
              "3             4.5           0.52           0.89           0.64   \n",
              "4             2.9           0.95           0.60           0.63   \n",
              "\n",
              "   demand_input_par2  demand_input_kar2  \n",
              "0              0.456              0.362  \n",
              "1              0.377              0.524  \n",
              "2              0.586              0.476  \n",
              "3              0.352              0.444  \n",
              "4              0.562              0.614  "
            ],
            "text/html": [
              "\n",
              "  <div id=\"df-1c4b0cfa-6d35-452e-8c21-1356c05ba08f\">\n",
              "    <div class=\"colab-df-container\">\n",
              "      <div>\n",
              "<style scoped>\n",
              "    .dataframe tbody tr th:only-of-type {\n",
              "        vertical-align: middle;\n",
              "    }\n",
              "\n",
              "    .dataframe tbody tr th {\n",
              "        vertical-align: top;\n",
              "    }\n",
              "\n",
              "    .dataframe thead th {\n",
              "        text-align: right;\n",
              "    }\n",
              "</style>\n",
              "<table border=\"1\" class=\"dataframe\">\n",
              "  <thead>\n",
              "    <tr style=\"text-align: right;\">\n",
              "      <th></th>\n",
              "      <th>Unnamed: 0</th>\n",
              "      <th>error_output</th>\n",
              "      <th>time_output</th>\n",
              "      <th>head_output_083</th>\n",
              "      <th>head_output_158</th>\n",
              "      <th>head_output_180</th>\n",
              "      <th>flow_output_F1</th>\n",
              "      <th>flow_output_K1</th>\n",
              "      <th>flow_output_P1</th>\n",
              "      <th>tank_output_180</th>\n",
              "      <th>energy_output_F1</th>\n",
              "      <th>energy_output_K1</th>\n",
              "      <th>energy_output_P1</th>\n",
              "      <th>tank_input_180</th>\n",
              "      <th>pump_input_F1</th>\n",
              "      <th>pump_input_K1</th>\n",
              "      <th>pump_input_P1</th>\n",
              "      <th>demand_input_par2</th>\n",
              "      <th>demand_input_kar2</th>\n",
              "    </tr>\n",
              "  </thead>\n",
              "  <tbody>\n",
              "    <tr>\n",
              "      <th>0</th>\n",
              "      <td>0</td>\n",
              "      <td>0</td>\n",
              "      <td>0</td>\n",
              "      <td>199.933365</td>\n",
              "      <td>199.647156</td>\n",
              "      <td>167.500000</td>\n",
              "      <td>138.377930</td>\n",
              "      <td>83.717445</td>\n",
              "      <td>2.380052</td>\n",
              "      <td>167.500000</td>\n",
              "      <td>20.431585</td>\n",
              "      <td>10.736735</td>\n",
              "      <td>0.539035</td>\n",
              "      <td>1.5</td>\n",
              "      <td>0.71</td>\n",
              "      <td>0.73</td>\n",
              "      <td>0.71</td>\n",
              "      <td>0.456</td>\n",
              "      <td>0.362</td>\n",
              "    </tr>\n",
              "    <tr>\n",
              "      <th>1</th>\n",
              "      <td>1</td>\n",
              "      <td>4</td>\n",
              "      <td>0</td>\n",
              "      <td>220.021545</td>\n",
              "      <td>219.745071</td>\n",
              "      <td>168.699997</td>\n",
              "      <td>177.392029</td>\n",
              "      <td>112.017647</td>\n",
              "      <td>0.000000</td>\n",
              "      <td>168.699997</td>\n",
              "      <td>28.465670</td>\n",
              "      <td>23.276525</td>\n",
              "      <td>0.000000</td>\n",
              "      <td>2.7</td>\n",
              "      <td>0.77</td>\n",
              "      <td>0.92</td>\n",
              "      <td>0.85</td>\n",
              "      <td>0.377</td>\n",
              "      <td>0.524</td>\n",
              "    </tr>\n",
              "    <tr>\n",
              "      <th>2</th>\n",
              "      <td>2</td>\n",
              "      <td>0</td>\n",
              "      <td>0</td>\n",
              "      <td>194.770889</td>\n",
              "      <td>194.528488</td>\n",
              "      <td>170.199997</td>\n",
              "      <td>205.863663</td>\n",
              "      <td>13.969801</td>\n",
              "      <td>90.367699</td>\n",
              "      <td>170.199997</td>\n",
              "      <td>35.464478</td>\n",
              "      <td>3.120016</td>\n",
              "      <td>6.956906</td>\n",
              "      <td>4.2</td>\n",
              "      <td>0.83</td>\n",
              "      <td>0.63</td>\n",
              "      <td>0.77</td>\n",
              "      <td>0.586</td>\n",
              "      <td>0.476</td>\n",
              "    </tr>\n",
              "    <tr>\n",
              "      <th>3</th>\n",
              "      <td>3</td>\n",
              "      <td>4</td>\n",
              "      <td>0</td>\n",
              "      <td>218.792007</td>\n",
              "      <td>218.509995</td>\n",
              "      <td>170.500000</td>\n",
              "      <td>0.000000</td>\n",
              "      <td>99.217644</td>\n",
              "      <td>0.000000</td>\n",
              "      <td>170.500000</td>\n",
              "      <td>0.000000</td>\n",
              "      <td>18.729397</td>\n",
              "      <td>0.000000</td>\n",
              "      <td>4.5</td>\n",
              "      <td>0.52</td>\n",
              "      <td>0.89</td>\n",
              "      <td>0.64</td>\n",
              "      <td>0.352</td>\n",
              "      <td>0.444</td>\n",
              "    </tr>\n",
              "    <tr>\n",
              "      <th>4</th>\n",
              "      <td>4</td>\n",
              "      <td>0</td>\n",
              "      <td>0</td>\n",
              "      <td>190.849152</td>\n",
              "      <td>190.601852</td>\n",
              "      <td>168.899994</td>\n",
              "      <td>264.401123</td>\n",
              "      <td>63.869576</td>\n",
              "      <td>62.547928</td>\n",
              "      <td>168.899994</td>\n",
              "      <td>47.016254</td>\n",
              "      <td>6.140797</td>\n",
              "      <td>4.026922</td>\n",
              "      <td>2.9</td>\n",
              "      <td>0.95</td>\n",
              "      <td>0.60</td>\n",
              "      <td>0.63</td>\n",
              "      <td>0.562</td>\n",
              "      <td>0.614</td>\n",
              "    </tr>\n",
              "  </tbody>\n",
              "</table>\n",
              "</div>\n",
              "      <button class=\"colab-df-convert\" onclick=\"convertToInteractive('df-1c4b0cfa-6d35-452e-8c21-1356c05ba08f')\"\n",
              "              title=\"Convert this dataframe to an interactive table.\"\n",
              "              style=\"display:none;\">\n",
              "        \n",
              "  <svg xmlns=\"http://www.w3.org/2000/svg\" height=\"24px\"viewBox=\"0 0 24 24\"\n",
              "       width=\"24px\">\n",
              "    <path d=\"M0 0h24v24H0V0z\" fill=\"none\"/>\n",
              "    <path d=\"M18.56 5.44l.94 2.06.94-2.06 2.06-.94-2.06-.94-.94-2.06-.94 2.06-2.06.94zm-11 1L8.5 8.5l.94-2.06 2.06-.94-2.06-.94L8.5 2.5l-.94 2.06-2.06.94zm10 10l.94 2.06.94-2.06 2.06-.94-2.06-.94-.94-2.06-.94 2.06-2.06.94z\"/><path d=\"M17.41 7.96l-1.37-1.37c-.4-.4-.92-.59-1.43-.59-.52 0-1.04.2-1.43.59L10.3 9.45l-7.72 7.72c-.78.78-.78 2.05 0 2.83L4 21.41c.39.39.9.59 1.41.59.51 0 1.02-.2 1.41-.59l7.78-7.78 2.81-2.81c.8-.78.8-2.07 0-2.86zM5.41 20L4 18.59l7.72-7.72 1.47 1.35L5.41 20z\"/>\n",
              "  </svg>\n",
              "      </button>\n",
              "      \n",
              "  <style>\n",
              "    .colab-df-container {\n",
              "      display:flex;\n",
              "      flex-wrap:wrap;\n",
              "      gap: 12px;\n",
              "    }\n",
              "\n",
              "    .colab-df-convert {\n",
              "      background-color: #E8F0FE;\n",
              "      border: none;\n",
              "      border-radius: 50%;\n",
              "      cursor: pointer;\n",
              "      display: none;\n",
              "      fill: #1967D2;\n",
              "      height: 32px;\n",
              "      padding: 0 0 0 0;\n",
              "      width: 32px;\n",
              "    }\n",
              "\n",
              "    .colab-df-convert:hover {\n",
              "      background-color: #E2EBFA;\n",
              "      box-shadow: 0px 1px 2px rgba(60, 64, 67, 0.3), 0px 1px 3px 1px rgba(60, 64, 67, 0.15);\n",
              "      fill: #174EA6;\n",
              "    }\n",
              "\n",
              "    [theme=dark] .colab-df-convert {\n",
              "      background-color: #3B4455;\n",
              "      fill: #D2E3FC;\n",
              "    }\n",
              "\n",
              "    [theme=dark] .colab-df-convert:hover {\n",
              "      background-color: #434B5C;\n",
              "      box-shadow: 0px 1px 3px 1px rgba(0, 0, 0, 0.15);\n",
              "      filter: drop-shadow(0px 1px 2px rgba(0, 0, 0, 0.3));\n",
              "      fill: #FFFFFF;\n",
              "    }\n",
              "  </style>\n",
              "\n",
              "      <script>\n",
              "        const buttonEl =\n",
              "          document.querySelector('#df-1c4b0cfa-6d35-452e-8c21-1356c05ba08f button.colab-df-convert');\n",
              "        buttonEl.style.display =\n",
              "          google.colab.kernel.accessAllowed ? 'block' : 'none';\n",
              "\n",
              "        async function convertToInteractive(key) {\n",
              "          const element = document.querySelector('#df-1c4b0cfa-6d35-452e-8c21-1356c05ba08f');\n",
              "          const dataTable =\n",
              "            await google.colab.kernel.invokeFunction('convertToInteractive',\n",
              "                                                     [key], {});\n",
              "          if (!dataTable) return;\n",
              "\n",
              "          const docLinkHtml = 'Like what you see? Visit the ' +\n",
              "            '<a target=\"_blank\" href=https://colab.research.google.com/notebooks/data_table.ipynb>data table notebook</a>'\n",
              "            + ' to learn more about interactive tables.';\n",
              "          element.innerHTML = '';\n",
              "          dataTable['output_type'] = 'display_data';\n",
              "          await google.colab.output.renderOutput(dataTable, element);\n",
              "          const docLink = document.createElement('div');\n",
              "          docLink.innerHTML = docLinkHtml;\n",
              "          element.appendChild(docLink);\n",
              "        }\n",
              "      </script>\n",
              "    </div>\n",
              "  </div>\n",
              "  "
            ]
          },
          "metadata": {},
          "execution_count": 34
        }
      ]
    },
    {
      "cell_type": "markdown",
      "source": [
        "#Losowa zmiana pozycji wierszy w df\n"
      ],
      "metadata": {
        "id": "1RzzSte6vMHp"
      }
    },
    {
      "cell_type": "code",
      "source": [
        "df = df.sample(frac = 1)"
      ],
      "metadata": {
        "id": "Uyb1K7hZtmUO"
      },
      "execution_count": null,
      "outputs": []
    },
    {
      "cell_type": "code",
      "source": [
        "df['error_output'].value_counts()"
      ],
      "metadata": {
        "colab": {
          "base_uri": "https://localhost:8080/"
        },
        "id": "H0xo0nZjtxbw",
        "outputId": "7bd9bc3e-7794-4884-8f3d-ddd898b1a3be"
      },
      "execution_count": null,
      "outputs": [
        {
          "output_type": "execute_result",
          "data": {
            "text/plain": [
              "4    40068\n",
              "0     9932\n",
              "Name: error_output, dtype: int64"
            ]
          },
          "metadata": {},
          "execution_count": 36
        }
      ]
    },
    {
      "cell_type": "code",
      "source": [],
      "metadata": {
        "id": "Uro8msiGzD-A"
      },
      "execution_count": null,
      "outputs": []
    },
    {
      "cell_type": "markdown",
      "source": [
        "#Podział danych na X i y"
      ],
      "metadata": {
        "id": "423q4tCVvt9I"
      }
    },
    {
      "cell_type": "code",
      "source": [
        "df.columns"
      ],
      "metadata": {
        "colab": {
          "base_uri": "https://localhost:8080/"
        },
        "id": "DI_eftoyv7bg",
        "outputId": "b8ab2baa-681b-45d6-f1d0-733c9cbc86c9"
      },
      "execution_count": null,
      "outputs": [
        {
          "output_type": "execute_result",
          "data": {
            "text/plain": [
              "Index(['Unnamed: 0', 'error_output', 'time_output', 'head_output_083',\n",
              "       'head_output_158', 'head_output_180', 'flow_output_F1',\n",
              "       'flow_output_K1', 'flow_output_P1', 'tank_output_180',\n",
              "       'energy_output_F1', 'energy_output_K1', 'energy_output_P1',\n",
              "       'tank_input_180', 'pump_input_F1', 'pump_input_K1', 'pump_input_P1',\n",
              "       'demand_input_par2', 'demand_input_kar2'],\n",
              "      dtype='object')"
            ]
          },
          "metadata": {},
          "execution_count": 37
        }
      ]
    },
    {
      "cell_type": "code",
      "source": [
        "x_columns =['tank_input_180', 'pump_input_F1', 'pump_input_K1', 'pump_input_P1',\n",
        "       'demand_input_par2', 'demand_input_kar2']\n",
        "y_column = ['error_output']"
      ],
      "metadata": {
        "id": "M69MhA2av3fN"
      },
      "execution_count": null,
      "outputs": []
    },
    {
      "cell_type": "code",
      "source": [
        "X = df[x_columns]\n",
        "y = df[y_column].replace([4,6],[1,1])\n",
        "y"
      ],
      "metadata": {
        "colab": {
          "base_uri": "https://localhost:8080/",
          "height": 424
        },
        "id": "edERo4WMwOr-",
        "outputId": "fa7dcd52-f5d3-4f8a-eca6-8c769366f771"
      },
      "execution_count": null,
      "outputs": [
        {
          "output_type": "execute_result",
          "data": {
            "text/plain": [
              "       error_output\n",
              "37208             0\n",
              "20146             1\n",
              "37840             1\n",
              "49522             1\n",
              "19399             1\n",
              "...             ...\n",
              "38477             1\n",
              "4294              1\n",
              "6826              1\n",
              "885               1\n",
              "19468             0\n",
              "\n",
              "[50000 rows x 1 columns]"
            ],
            "text/html": [
              "\n",
              "  <div id=\"df-82f4458a-5633-477a-bd21-6b8e3030cbca\">\n",
              "    <div class=\"colab-df-container\">\n",
              "      <div>\n",
              "<style scoped>\n",
              "    .dataframe tbody tr th:only-of-type {\n",
              "        vertical-align: middle;\n",
              "    }\n",
              "\n",
              "    .dataframe tbody tr th {\n",
              "        vertical-align: top;\n",
              "    }\n",
              "\n",
              "    .dataframe thead th {\n",
              "        text-align: right;\n",
              "    }\n",
              "</style>\n",
              "<table border=\"1\" class=\"dataframe\">\n",
              "  <thead>\n",
              "    <tr style=\"text-align: right;\">\n",
              "      <th></th>\n",
              "      <th>error_output</th>\n",
              "    </tr>\n",
              "  </thead>\n",
              "  <tbody>\n",
              "    <tr>\n",
              "      <th>37208</th>\n",
              "      <td>0</td>\n",
              "    </tr>\n",
              "    <tr>\n",
              "      <th>20146</th>\n",
              "      <td>1</td>\n",
              "    </tr>\n",
              "    <tr>\n",
              "      <th>37840</th>\n",
              "      <td>1</td>\n",
              "    </tr>\n",
              "    <tr>\n",
              "      <th>49522</th>\n",
              "      <td>1</td>\n",
              "    </tr>\n",
              "    <tr>\n",
              "      <th>19399</th>\n",
              "      <td>1</td>\n",
              "    </tr>\n",
              "    <tr>\n",
              "      <th>...</th>\n",
              "      <td>...</td>\n",
              "    </tr>\n",
              "    <tr>\n",
              "      <th>38477</th>\n",
              "      <td>1</td>\n",
              "    </tr>\n",
              "    <tr>\n",
              "      <th>4294</th>\n",
              "      <td>1</td>\n",
              "    </tr>\n",
              "    <tr>\n",
              "      <th>6826</th>\n",
              "      <td>1</td>\n",
              "    </tr>\n",
              "    <tr>\n",
              "      <th>885</th>\n",
              "      <td>1</td>\n",
              "    </tr>\n",
              "    <tr>\n",
              "      <th>19468</th>\n",
              "      <td>0</td>\n",
              "    </tr>\n",
              "  </tbody>\n",
              "</table>\n",
              "<p>50000 rows × 1 columns</p>\n",
              "</div>\n",
              "      <button class=\"colab-df-convert\" onclick=\"convertToInteractive('df-82f4458a-5633-477a-bd21-6b8e3030cbca')\"\n",
              "              title=\"Convert this dataframe to an interactive table.\"\n",
              "              style=\"display:none;\">\n",
              "        \n",
              "  <svg xmlns=\"http://www.w3.org/2000/svg\" height=\"24px\"viewBox=\"0 0 24 24\"\n",
              "       width=\"24px\">\n",
              "    <path d=\"M0 0h24v24H0V0z\" fill=\"none\"/>\n",
              "    <path d=\"M18.56 5.44l.94 2.06.94-2.06 2.06-.94-2.06-.94-.94-2.06-.94 2.06-2.06.94zm-11 1L8.5 8.5l.94-2.06 2.06-.94-2.06-.94L8.5 2.5l-.94 2.06-2.06.94zm10 10l.94 2.06.94-2.06 2.06-.94-2.06-.94-.94-2.06-.94 2.06-2.06.94z\"/><path d=\"M17.41 7.96l-1.37-1.37c-.4-.4-.92-.59-1.43-.59-.52 0-1.04.2-1.43.59L10.3 9.45l-7.72 7.72c-.78.78-.78 2.05 0 2.83L4 21.41c.39.39.9.59 1.41.59.51 0 1.02-.2 1.41-.59l7.78-7.78 2.81-2.81c.8-.78.8-2.07 0-2.86zM5.41 20L4 18.59l7.72-7.72 1.47 1.35L5.41 20z\"/>\n",
              "  </svg>\n",
              "      </button>\n",
              "      \n",
              "  <style>\n",
              "    .colab-df-container {\n",
              "      display:flex;\n",
              "      flex-wrap:wrap;\n",
              "      gap: 12px;\n",
              "    }\n",
              "\n",
              "    .colab-df-convert {\n",
              "      background-color: #E8F0FE;\n",
              "      border: none;\n",
              "      border-radius: 50%;\n",
              "      cursor: pointer;\n",
              "      display: none;\n",
              "      fill: #1967D2;\n",
              "      height: 32px;\n",
              "      padding: 0 0 0 0;\n",
              "      width: 32px;\n",
              "    }\n",
              "\n",
              "    .colab-df-convert:hover {\n",
              "      background-color: #E2EBFA;\n",
              "      box-shadow: 0px 1px 2px rgba(60, 64, 67, 0.3), 0px 1px 3px 1px rgba(60, 64, 67, 0.15);\n",
              "      fill: #174EA6;\n",
              "    }\n",
              "\n",
              "    [theme=dark] .colab-df-convert {\n",
              "      background-color: #3B4455;\n",
              "      fill: #D2E3FC;\n",
              "    }\n",
              "\n",
              "    [theme=dark] .colab-df-convert:hover {\n",
              "      background-color: #434B5C;\n",
              "      box-shadow: 0px 1px 3px 1px rgba(0, 0, 0, 0.15);\n",
              "      filter: drop-shadow(0px 1px 2px rgba(0, 0, 0, 0.3));\n",
              "      fill: #FFFFFF;\n",
              "    }\n",
              "  </style>\n",
              "\n",
              "      <script>\n",
              "        const buttonEl =\n",
              "          document.querySelector('#df-82f4458a-5633-477a-bd21-6b8e3030cbca button.colab-df-convert');\n",
              "        buttonEl.style.display =\n",
              "          google.colab.kernel.accessAllowed ? 'block' : 'none';\n",
              "\n",
              "        async function convertToInteractive(key) {\n",
              "          const element = document.querySelector('#df-82f4458a-5633-477a-bd21-6b8e3030cbca');\n",
              "          const dataTable =\n",
              "            await google.colab.kernel.invokeFunction('convertToInteractive',\n",
              "                                                     [key], {});\n",
              "          if (!dataTable) return;\n",
              "\n",
              "          const docLinkHtml = 'Like what you see? Visit the ' +\n",
              "            '<a target=\"_blank\" href=https://colab.research.google.com/notebooks/data_table.ipynb>data table notebook</a>'\n",
              "            + ' to learn more about interactive tables.';\n",
              "          element.innerHTML = '';\n",
              "          dataTable['output_type'] = 'display_data';\n",
              "          await google.colab.output.renderOutput(dataTable, element);\n",
              "          const docLink = document.createElement('div');\n",
              "          docLink.innerHTML = docLinkHtml;\n",
              "          element.appendChild(docLink);\n",
              "        }\n",
              "      </script>\n",
              "    </div>\n",
              "  </div>\n",
              "  "
            ]
          },
          "metadata": {},
          "execution_count": 39
        }
      ]
    },
    {
      "cell_type": "markdown",
      "source": [
        "#Podział danych na testowe i treningowe"
      ],
      "metadata": {
        "id": "FWZ6Omcrvnt5"
      }
    },
    {
      "cell_type": "code",
      "source": [
        "X_train, X_test, y_train, y_test = train_test_split(X, y, test_size=0.3)"
      ],
      "metadata": {
        "id": "TQtGNzUAt0uj"
      },
      "execution_count": null,
      "outputs": []
    },
    {
      "cell_type": "markdown",
      "source": [
        "#Model regresji logistycznej"
      ],
      "metadata": {
        "id": "PWrijzu1yKXA"
      }
    },
    {
      "cell_type": "code",
      "source": [
        "model_LR = LogisticRegression( max_iter = 5000)\n",
        "model_LR.fit(X_train, y_train)"
      ],
      "metadata": {
        "colab": {
          "base_uri": "https://localhost:8080/",
          "height": 130
        },
        "id": "3hNOJ_csx1K1",
        "outputId": "4687ace2-2d7e-4624-a01d-676d808e710b"
      },
      "execution_count": null,
      "outputs": [
        {
          "output_type": "stream",
          "name": "stderr",
          "text": [
            "/usr/local/lib/python3.10/dist-packages/sklearn/utils/validation.py:1143: DataConversionWarning: A column-vector y was passed when a 1d array was expected. Please change the shape of y to (n_samples, ), for example using ravel().\n",
            "  y = column_or_1d(y, warn=True)\n"
          ]
        },
        {
          "output_type": "execute_result",
          "data": {
            "text/plain": [
              "LogisticRegression(max_iter=5000)"
            ],
            "text/html": [
              "<style>#sk-container-id-2 {color: black;background-color: white;}#sk-container-id-2 pre{padding: 0;}#sk-container-id-2 div.sk-toggleable {background-color: white;}#sk-container-id-2 label.sk-toggleable__label {cursor: pointer;display: block;width: 100%;margin-bottom: 0;padding: 0.3em;box-sizing: border-box;text-align: center;}#sk-container-id-2 label.sk-toggleable__label-arrow:before {content: \"▸\";float: left;margin-right: 0.25em;color: #696969;}#sk-container-id-2 label.sk-toggleable__label-arrow:hover:before {color: black;}#sk-container-id-2 div.sk-estimator:hover label.sk-toggleable__label-arrow:before {color: black;}#sk-container-id-2 div.sk-toggleable__content {max-height: 0;max-width: 0;overflow: hidden;text-align: left;background-color: #f0f8ff;}#sk-container-id-2 div.sk-toggleable__content pre {margin: 0.2em;color: black;border-radius: 0.25em;background-color: #f0f8ff;}#sk-container-id-2 input.sk-toggleable__control:checked~div.sk-toggleable__content {max-height: 200px;max-width: 100%;overflow: auto;}#sk-container-id-2 input.sk-toggleable__control:checked~label.sk-toggleable__label-arrow:before {content: \"▾\";}#sk-container-id-2 div.sk-estimator input.sk-toggleable__control:checked~label.sk-toggleable__label {background-color: #d4ebff;}#sk-container-id-2 div.sk-label input.sk-toggleable__control:checked~label.sk-toggleable__label {background-color: #d4ebff;}#sk-container-id-2 input.sk-hidden--visually {border: 0;clip: rect(1px 1px 1px 1px);clip: rect(1px, 1px, 1px, 1px);height: 1px;margin: -1px;overflow: hidden;padding: 0;position: absolute;width: 1px;}#sk-container-id-2 div.sk-estimator {font-family: monospace;background-color: #f0f8ff;border: 1px dotted black;border-radius: 0.25em;box-sizing: border-box;margin-bottom: 0.5em;}#sk-container-id-2 div.sk-estimator:hover {background-color: #d4ebff;}#sk-container-id-2 div.sk-parallel-item::after {content: \"\";width: 100%;border-bottom: 1px solid gray;flex-grow: 1;}#sk-container-id-2 div.sk-label:hover label.sk-toggleable__label {background-color: #d4ebff;}#sk-container-id-2 div.sk-serial::before {content: \"\";position: absolute;border-left: 1px solid gray;box-sizing: border-box;top: 0;bottom: 0;left: 50%;z-index: 0;}#sk-container-id-2 div.sk-serial {display: flex;flex-direction: column;align-items: center;background-color: white;padding-right: 0.2em;padding-left: 0.2em;position: relative;}#sk-container-id-2 div.sk-item {position: relative;z-index: 1;}#sk-container-id-2 div.sk-parallel {display: flex;align-items: stretch;justify-content: center;background-color: white;position: relative;}#sk-container-id-2 div.sk-item::before, #sk-container-id-2 div.sk-parallel-item::before {content: \"\";position: absolute;border-left: 1px solid gray;box-sizing: border-box;top: 0;bottom: 0;left: 50%;z-index: -1;}#sk-container-id-2 div.sk-parallel-item {display: flex;flex-direction: column;z-index: 1;position: relative;background-color: white;}#sk-container-id-2 div.sk-parallel-item:first-child::after {align-self: flex-end;width: 50%;}#sk-container-id-2 div.sk-parallel-item:last-child::after {align-self: flex-start;width: 50%;}#sk-container-id-2 div.sk-parallel-item:only-child::after {width: 0;}#sk-container-id-2 div.sk-dashed-wrapped {border: 1px dashed gray;margin: 0 0.4em 0.5em 0.4em;box-sizing: border-box;padding-bottom: 0.4em;background-color: white;}#sk-container-id-2 div.sk-label label {font-family: monospace;font-weight: bold;display: inline-block;line-height: 1.2em;}#sk-container-id-2 div.sk-label-container {text-align: center;}#sk-container-id-2 div.sk-container {/* jupyter's `normalize.less` sets `[hidden] { display: none; }` but bootstrap.min.css set `[hidden] { display: none !important; }` so we also need the `!important` here to be able to override the default hidden behavior on the sphinx rendered scikit-learn.org. See: https://github.com/scikit-learn/scikit-learn/issues/21755 */display: inline-block !important;position: relative;}#sk-container-id-2 div.sk-text-repr-fallback {display: none;}</style><div id=\"sk-container-id-2\" class=\"sk-top-container\"><div class=\"sk-text-repr-fallback\"><pre>LogisticRegression(max_iter=5000)</pre><b>In a Jupyter environment, please rerun this cell to show the HTML representation or trust the notebook. <br />On GitHub, the HTML representation is unable to render, please try loading this page with nbviewer.org.</b></div><div class=\"sk-container\" hidden><div class=\"sk-item\"><div class=\"sk-estimator sk-toggleable\"><input class=\"sk-toggleable__control sk-hidden--visually\" id=\"sk-estimator-id-2\" type=\"checkbox\" checked><label for=\"sk-estimator-id-2\" class=\"sk-toggleable__label sk-toggleable__label-arrow\">LogisticRegression</label><div class=\"sk-toggleable__content\"><pre>LogisticRegression(max_iter=5000)</pre></div></div></div></div></div>"
            ]
          },
          "metadata": {},
          "execution_count": 41
        }
      ]
    },
    {
      "cell_type": "markdown",
      "source": [
        "#Predykcja na podstawie modelu"
      ],
      "metadata": {
        "id": "hipxwuhKyOmC"
      }
    },
    {
      "cell_type": "code",
      "source": [
        "y_pred_LR = model_LR.predict(X_test)\n",
        "y_scores_LR = model_LR.predict_proba(X_test)"
      ],
      "metadata": {
        "id": "0BKYWmevyD6r"
      },
      "execution_count": null,
      "outputs": []
    },
    {
      "cell_type": "markdown",
      "source": [
        "#Macierz pomyłek"
      ],
      "metadata": {
        "id": "oU3by3_b0qpk"
      }
    },
    {
      "cell_type": "code",
      "source": [
        "cm = confusion_matrix(y_test, y_pred_LR)\n",
        "cm\n",
        "#sns.heatmap(cm,annot = True)"
      ],
      "metadata": {
        "colab": {
          "base_uri": "https://localhost:8080/"
        },
        "id": "Jml7T5PIySbv",
        "outputId": "6a0584f1-c929-4dca-ebd9-944684911953"
      },
      "execution_count": null,
      "outputs": [
        {
          "output_type": "execute_result",
          "data": {
            "text/plain": [
              "array([[  656,  2339],\n",
              "       [  612, 11393]])"
            ]
          },
          "metadata": {},
          "execution_count": 43
        }
      ]
    },
    {
      "cell_type": "markdown",
      "source": [
        "#Wskaźniki"
      ],
      "metadata": {
        "id": "B8UgdzQ60tlX"
      }
    },
    {
      "cell_type": "code",
      "source": [
        "acc_test_LR = accuracy_score(y_test, y_pred_LR)\n",
        "b_acc_test_LR = balanced_accuracy_score(y_test, y_pred_LR)\n",
        "prec_test_LR = precision_score(y_test, y_pred_LR)\n",
        "f1_test_LR = f1_score(y_test, y_pred_LR)\n",
        "\n",
        "print(f\"Accuracy:{acc_test_LR:0.4f}\" )\n",
        "print(f\"Balance Accuracy:{b_acc_test_LR:0.4f}\" )\n",
        "print(f\"Preccision:{prec_test_LR:0.4f}\" )\n",
        "print(f\"F1 test:{f1_test_LR:0.4f}\" )"
      ],
      "metadata": {
        "colab": {
          "base_uri": "https://localhost:8080/"
        },
        "id": "hjMABbaq0BIg",
        "outputId": "b8c614fe-5312-4ea4-d6eb-bfe70375f4a3"
      },
      "execution_count": null,
      "outputs": [
        {
          "output_type": "stream",
          "name": "stdout",
          "text": [
            "Accuracy:0.8033\n",
            "Balance Accuracy:0.5840\n",
            "Preccision:0.8297\n",
            "F1 test:0.8853\n"
          ]
        }
      ]
    },
    {
      "cell_type": "code",
      "source": [
        "from joblib import dump, load\n",
        "dump(model_LR, 'LR_best_model.joblib')"
      ],
      "metadata": {
        "colab": {
          "base_uri": "https://localhost:8080/"
        },
        "id": "3zl_HYDpsNLN",
        "outputId": "7ed3d26b-ab64-4c79-a165-c50a88507b96"
      },
      "execution_count": null,
      "outputs": [
        {
          "output_type": "execute_result",
          "data": {
            "text/plain": [
              "['LR_best_model.joblib']"
            ]
          },
          "metadata": {},
          "execution_count": 45
        }
      ]
    },
    {
      "cell_type": "code",
      "source": [
        "scaler = MinMaxScaler()\n",
        "\n",
        "# \"Nauczenie\" (sfitowanie) skalera\n",
        "scaler.fit(X)\n",
        "\n",
        "X_train_scaled_KNN = scaler.transform(X_train)\n",
        "X_test_scaled_KNN = scaler.transform(X_test)\n",
        "\n",
        "# FYI\n",
        "X_train_scaled_with_names = pd.DataFrame(X_train_scaled_KNN, index = X_train.index, columns = X_train.columns)\n",
        "X_test_scaled_with_names = pd.DataFrame(X_test_scaled_KNN, index = X_test.index, columns = X_train.columns)"
      ],
      "metadata": {
        "id": "F40F5Lre0GGg"
      },
      "execution_count": null,
      "outputs": []
    },
    {
      "cell_type": "code",
      "source": [
        "param_grid_knn ={\n",
        "    \n",
        "    'n_neighbors' : list(range(3,8)),\n",
        "    'weights' : ['uniform', 'distance'],\n",
        "    'algorithm' : ['ball_tree', 'kd_tree', 'brute'],\n",
        "    'metric' : ['euclidean']\n",
        "}"
      ],
      "metadata": {
        "id": "YQ5o9wzgID0V"
      },
      "execution_count": null,
      "outputs": []
    },
    {
      "cell_type": "code",
      "source": [],
      "metadata": {
        "id": "0mkDhBDmLntR"
      },
      "execution_count": null,
      "outputs": []
    },
    {
      "cell_type": "code",
      "source": [
        "#knn = KNeighborsClassifier()\n",
        "\n",
        "#GS = GridSearchCV(knn, param_grid_knn,verbose=1)\n",
        "\n",
        "#GS.fit(X_train_scaled_KNN, y_train.values.ravel())\n",
        "\n"
      ],
      "metadata": {
        "id": "2SXE815G1u78"
      },
      "execution_count": null,
      "outputs": []
    },
    {
      "cell_type": "code",
      "source": [
        "#print(GS.best_params_)"
      ],
      "metadata": {
        "id": "pdvACkfhOobT"
      },
      "execution_count": null,
      "outputs": []
    },
    {
      "cell_type": "code",
      "source": [
        "best_params_={'algorithm': 'ball_tree', 'metric': 'euclidean', 'n_neighbors': 7, 'weights': 'distance'}"
      ],
      "metadata": {
        "id": "muPT46t4Sp8v"
      },
      "execution_count": null,
      "outputs": []
    },
    {
      "cell_type": "code",
      "source": [
        "#knn_best  = KNeighborsClassifier(algorithm = GS.best_params_['algorithm'], metric = GS.best_params_['metric'],\n",
        "#                           n_neighbors = GS.best_params_['n_neighbors'], weights = GS.best_params_['weights'])\n",
        "\n",
        "knn_best  = KNeighborsClassifier(algorithm = best_params_['algorithm'], metric = best_params_['metric'],\n",
        "                           n_neighbors = best_params_['n_neighbors'], weights = best_params_['weights'])"
      ],
      "metadata": {
        "id": "Wl8-mY5oMJw1"
      },
      "execution_count": null,
      "outputs": []
    },
    {
      "cell_type": "code",
      "source": [
        "knn_best.fit(X_train_scaled_KNN, y_train)"
      ],
      "metadata": {
        "id": "o0ki7Nu1OdMS",
        "colab": {
          "base_uri": "https://localhost:8080/",
          "height": 148
        },
        "outputId": "207617a0-70de-40ed-8efc-22223c6d71cc"
      },
      "execution_count": null,
      "outputs": [
        {
          "output_type": "stream",
          "name": "stderr",
          "text": [
            "/usr/local/lib/python3.10/dist-packages/sklearn/neighbors/_classification.py:215: DataConversionWarning: A column-vector y was passed when a 1d array was expected. Please change the shape of y to (n_samples,), for example using ravel().\n",
            "  return self._fit(X, y)\n"
          ]
        },
        {
          "output_type": "execute_result",
          "data": {
            "text/plain": [
              "KNeighborsClassifier(algorithm='ball_tree', metric='euclidean', n_neighbors=7,\n",
              "                     weights='distance')"
            ],
            "text/html": [
              "<style>#sk-container-id-3 {color: black;background-color: white;}#sk-container-id-3 pre{padding: 0;}#sk-container-id-3 div.sk-toggleable {background-color: white;}#sk-container-id-3 label.sk-toggleable__label {cursor: pointer;display: block;width: 100%;margin-bottom: 0;padding: 0.3em;box-sizing: border-box;text-align: center;}#sk-container-id-3 label.sk-toggleable__label-arrow:before {content: \"▸\";float: left;margin-right: 0.25em;color: #696969;}#sk-container-id-3 label.sk-toggleable__label-arrow:hover:before {color: black;}#sk-container-id-3 div.sk-estimator:hover label.sk-toggleable__label-arrow:before {color: black;}#sk-container-id-3 div.sk-toggleable__content {max-height: 0;max-width: 0;overflow: hidden;text-align: left;background-color: #f0f8ff;}#sk-container-id-3 div.sk-toggleable__content pre {margin: 0.2em;color: black;border-radius: 0.25em;background-color: #f0f8ff;}#sk-container-id-3 input.sk-toggleable__control:checked~div.sk-toggleable__content {max-height: 200px;max-width: 100%;overflow: auto;}#sk-container-id-3 input.sk-toggleable__control:checked~label.sk-toggleable__label-arrow:before {content: \"▾\";}#sk-container-id-3 div.sk-estimator input.sk-toggleable__control:checked~label.sk-toggleable__label {background-color: #d4ebff;}#sk-container-id-3 div.sk-label input.sk-toggleable__control:checked~label.sk-toggleable__label {background-color: #d4ebff;}#sk-container-id-3 input.sk-hidden--visually {border: 0;clip: rect(1px 1px 1px 1px);clip: rect(1px, 1px, 1px, 1px);height: 1px;margin: -1px;overflow: hidden;padding: 0;position: absolute;width: 1px;}#sk-container-id-3 div.sk-estimator {font-family: monospace;background-color: #f0f8ff;border: 1px dotted black;border-radius: 0.25em;box-sizing: border-box;margin-bottom: 0.5em;}#sk-container-id-3 div.sk-estimator:hover {background-color: #d4ebff;}#sk-container-id-3 div.sk-parallel-item::after {content: \"\";width: 100%;border-bottom: 1px solid gray;flex-grow: 1;}#sk-container-id-3 div.sk-label:hover label.sk-toggleable__label {background-color: #d4ebff;}#sk-container-id-3 div.sk-serial::before {content: \"\";position: absolute;border-left: 1px solid gray;box-sizing: border-box;top: 0;bottom: 0;left: 50%;z-index: 0;}#sk-container-id-3 div.sk-serial {display: flex;flex-direction: column;align-items: center;background-color: white;padding-right: 0.2em;padding-left: 0.2em;position: relative;}#sk-container-id-3 div.sk-item {position: relative;z-index: 1;}#sk-container-id-3 div.sk-parallel {display: flex;align-items: stretch;justify-content: center;background-color: white;position: relative;}#sk-container-id-3 div.sk-item::before, #sk-container-id-3 div.sk-parallel-item::before {content: \"\";position: absolute;border-left: 1px solid gray;box-sizing: border-box;top: 0;bottom: 0;left: 50%;z-index: -1;}#sk-container-id-3 div.sk-parallel-item {display: flex;flex-direction: column;z-index: 1;position: relative;background-color: white;}#sk-container-id-3 div.sk-parallel-item:first-child::after {align-self: flex-end;width: 50%;}#sk-container-id-3 div.sk-parallel-item:last-child::after {align-self: flex-start;width: 50%;}#sk-container-id-3 div.sk-parallel-item:only-child::after {width: 0;}#sk-container-id-3 div.sk-dashed-wrapped {border: 1px dashed gray;margin: 0 0.4em 0.5em 0.4em;box-sizing: border-box;padding-bottom: 0.4em;background-color: white;}#sk-container-id-3 div.sk-label label {font-family: monospace;font-weight: bold;display: inline-block;line-height: 1.2em;}#sk-container-id-3 div.sk-label-container {text-align: center;}#sk-container-id-3 div.sk-container {/* jupyter's `normalize.less` sets `[hidden] { display: none; }` but bootstrap.min.css set `[hidden] { display: none !important; }` so we also need the `!important` here to be able to override the default hidden behavior on the sphinx rendered scikit-learn.org. See: https://github.com/scikit-learn/scikit-learn/issues/21755 */display: inline-block !important;position: relative;}#sk-container-id-3 div.sk-text-repr-fallback {display: none;}</style><div id=\"sk-container-id-3\" class=\"sk-top-container\"><div class=\"sk-text-repr-fallback\"><pre>KNeighborsClassifier(algorithm=&#x27;ball_tree&#x27;, metric=&#x27;euclidean&#x27;, n_neighbors=7,\n",
              "                     weights=&#x27;distance&#x27;)</pre><b>In a Jupyter environment, please rerun this cell to show the HTML representation or trust the notebook. <br />On GitHub, the HTML representation is unable to render, please try loading this page with nbviewer.org.</b></div><div class=\"sk-container\" hidden><div class=\"sk-item\"><div class=\"sk-estimator sk-toggleable\"><input class=\"sk-toggleable__control sk-hidden--visually\" id=\"sk-estimator-id-3\" type=\"checkbox\" checked><label for=\"sk-estimator-id-3\" class=\"sk-toggleable__label sk-toggleable__label-arrow\">KNeighborsClassifier</label><div class=\"sk-toggleable__content\"><pre>KNeighborsClassifier(algorithm=&#x27;ball_tree&#x27;, metric=&#x27;euclidean&#x27;, n_neighbors=7,\n",
              "                     weights=&#x27;distance&#x27;)</pre></div></div></div></div></div>"
            ]
          },
          "metadata": {},
          "execution_count": 54
        }
      ]
    },
    {
      "cell_type": "code",
      "source": [
        "y_pred_KNN  = knn_best.predict(X_test_scaled_KNN)"
      ],
      "metadata": {
        "id": "K5h_Mkv6OD0L"
      },
      "execution_count": null,
      "outputs": []
    },
    {
      "cell_type": "code",
      "source": [
        "cm = confusion_matrix(y_test, y_pred_KNN)\n",
        "cm"
      ],
      "metadata": {
        "id": "Xqy-sD_123--",
        "colab": {
          "base_uri": "https://localhost:8080/"
        },
        "outputId": "b7825fe9-6302-4a6a-d48c-520c9b8079d6"
      },
      "execution_count": null,
      "outputs": [
        {
          "output_type": "execute_result",
          "data": {
            "text/plain": [
              "array([[ 2543,   452],\n",
              "       [  346, 11659]])"
            ]
          },
          "metadata": {},
          "execution_count": 56
        }
      ]
    },
    {
      "cell_type": "code",
      "source": [],
      "metadata": {
        "id": "AksQIqKVMGNW"
      },
      "execution_count": null,
      "outputs": []
    },
    {
      "cell_type": "markdown",
      "source": [],
      "metadata": {
        "id": "cEIzJShV22cC"
      }
    },
    {
      "cell_type": "code",
      "source": [
        "acc_test_KNN = accuracy_score(y_test, y_pred_KNN)\n",
        "b_acc_test_KNN = balanced_accuracy_score(y_test, y_pred_KNN)\n",
        "prec_test_KNN = precision_score(y_test, y_pred_KNN)\n",
        "f1_test_KNN = f1_score(y_test, y_pred_KNN)\n",
        "\n",
        "print(f\"Accuracy:{acc_test_KNN:0.4f}\" )\n",
        "print(f\"Balance Accuracy:{b_acc_test_KNN:0.4f}\" )\n",
        "print(f\"Preccision:{prec_test_KNN:0.4f}\" )\n",
        "print(f\"F1 test:{f1_test_KNN:0.4f}\" )"
      ],
      "metadata": {
        "id": "CUqfkmkl2NYD",
        "colab": {
          "base_uri": "https://localhost:8080/"
        },
        "outputId": "24669c83-bb87-4522-9282-2e515c7c46fb"
      },
      "execution_count": null,
      "outputs": [
        {
          "output_type": "stream",
          "name": "stdout",
          "text": [
            "Accuracy:0.9468\n",
            "Balance Accuracy:0.9101\n",
            "Preccision:0.9627\n",
            "F1 test:0.9669\n"
          ]
        }
      ]
    },
    {
      "cell_type": "code",
      "source": [
        "from joblib import dump, load\n",
        "dump(knn_best, 'KNN_best_model.joblib') "
      ],
      "metadata": {
        "id": "Z2bT4FLAOCbA",
        "colab": {
          "base_uri": "https://localhost:8080/"
        },
        "outputId": "70b2ddfc-6e59-40c0-bd39-2c4b16f53ee6"
      },
      "execution_count": null,
      "outputs": [
        {
          "output_type": "execute_result",
          "data": {
            "text/plain": [
              "['KNN_best_model.joblib']"
            ]
          },
          "metadata": {},
          "execution_count": 58
        }
      ]
    },
    {
      "cell_type": "code",
      "source": [
        "param_grid_dt = {\n",
        "    'criterion' :['gini', 'entropy', 'log_loss'],\n",
        "    'max_depth' : list(range(2,20,4)),\n",
        "    'min_samples_split': list(range(2,50, 5))\n",
        "}"
      ],
      "metadata": {
        "id": "CcSe7MReQz3g"
      },
      "execution_count": null,
      "outputs": []
    },
    {
      "cell_type": "code",
      "source": [
        "'''dt = DecisionTreeClassifier()\n",
        "\n",
        "\n",
        "GS = GridSearchCV(dt, param_grid_dt)\n",
        "\n",
        "GS.fit(X_train, y_train)'''\n"
      ],
      "metadata": {
        "id": "kEp0fzfw2qra",
        "colab": {
          "base_uri": "https://localhost:8080/",
          "height": 35
        },
        "outputId": "d5943f8d-a90c-4016-ffa6-d7b5c79ee98f"
      },
      "execution_count": null,
      "outputs": [
        {
          "output_type": "execute_result",
          "data": {
            "text/plain": [
              "'dt = DecisionTreeClassifier()\\n\\n\\nGS = GridSearchCV(dt, param_grid_dt)\\n\\nGS.fit(X_train, y_train)'"
            ],
            "application/vnd.google.colaboratory.intrinsic+json": {
              "type": "string"
            }
          },
          "metadata": {},
          "execution_count": 61
        }
      ]
    },
    {
      "cell_type": "code",
      "source": [],
      "metadata": {
        "id": "k0ukRzsEoQnP"
      },
      "execution_count": null,
      "outputs": []
    },
    {
      "cell_type": "code",
      "source": [
        "#GS.best_params_"
      ],
      "metadata": {
        "id": "0S7bksR1Sk71"
      },
      "execution_count": null,
      "outputs": []
    },
    {
      "cell_type": "code",
      "source": [
        "best_params_ = {'criterion': 'gini', 'max_depth': 18, 'min_samples_split': 2}"
      ],
      "metadata": {
        "id": "gCMLa76bTGHr"
      },
      "execution_count": null,
      "outputs": []
    },
    {
      "cell_type": "code",
      "source": [
        "#dt_best = DecisionTreeClassifier(criterion=GS.best_params_['criterion'],max_depth = GS.best_params_['max_depth'])\n",
        "dt_best = DecisionTreeClassifier(criterion=best_params_['criterion'],max_depth = best_params_['max_depth'])"
      ],
      "metadata": {
        "id": "urNVafp4SyOD"
      },
      "execution_count": null,
      "outputs": []
    },
    {
      "cell_type": "code",
      "source": [
        "dt_best.fit(X_train, y_train)"
      ],
      "metadata": {
        "id": "I4sUQEA4SyxS",
        "colab": {
          "base_uri": "https://localhost:8080/",
          "height": 75
        },
        "outputId": "e185f912-1d5f-46b9-a5ab-8457954d4f85"
      },
      "execution_count": null,
      "outputs": [
        {
          "output_type": "execute_result",
          "data": {
            "text/plain": [
              "DecisionTreeClassifier(max_depth=18)"
            ],
            "text/html": [
              "<style>#sk-container-id-6 {color: black;background-color: white;}#sk-container-id-6 pre{padding: 0;}#sk-container-id-6 div.sk-toggleable {background-color: white;}#sk-container-id-6 label.sk-toggleable__label {cursor: pointer;display: block;width: 100%;margin-bottom: 0;padding: 0.3em;box-sizing: border-box;text-align: center;}#sk-container-id-6 label.sk-toggleable__label-arrow:before {content: \"▸\";float: left;margin-right: 0.25em;color: #696969;}#sk-container-id-6 label.sk-toggleable__label-arrow:hover:before {color: black;}#sk-container-id-6 div.sk-estimator:hover label.sk-toggleable__label-arrow:before {color: black;}#sk-container-id-6 div.sk-toggleable__content {max-height: 0;max-width: 0;overflow: hidden;text-align: left;background-color: #f0f8ff;}#sk-container-id-6 div.sk-toggleable__content pre {margin: 0.2em;color: black;border-radius: 0.25em;background-color: #f0f8ff;}#sk-container-id-6 input.sk-toggleable__control:checked~div.sk-toggleable__content {max-height: 200px;max-width: 100%;overflow: auto;}#sk-container-id-6 input.sk-toggleable__control:checked~label.sk-toggleable__label-arrow:before {content: \"▾\";}#sk-container-id-6 div.sk-estimator input.sk-toggleable__control:checked~label.sk-toggleable__label {background-color: #d4ebff;}#sk-container-id-6 div.sk-label input.sk-toggleable__control:checked~label.sk-toggleable__label {background-color: #d4ebff;}#sk-container-id-6 input.sk-hidden--visually {border: 0;clip: rect(1px 1px 1px 1px);clip: rect(1px, 1px, 1px, 1px);height: 1px;margin: -1px;overflow: hidden;padding: 0;position: absolute;width: 1px;}#sk-container-id-6 div.sk-estimator {font-family: monospace;background-color: #f0f8ff;border: 1px dotted black;border-radius: 0.25em;box-sizing: border-box;margin-bottom: 0.5em;}#sk-container-id-6 div.sk-estimator:hover {background-color: #d4ebff;}#sk-container-id-6 div.sk-parallel-item::after {content: \"\";width: 100%;border-bottom: 1px solid gray;flex-grow: 1;}#sk-container-id-6 div.sk-label:hover label.sk-toggleable__label {background-color: #d4ebff;}#sk-container-id-6 div.sk-serial::before {content: \"\";position: absolute;border-left: 1px solid gray;box-sizing: border-box;top: 0;bottom: 0;left: 50%;z-index: 0;}#sk-container-id-6 div.sk-serial {display: flex;flex-direction: column;align-items: center;background-color: white;padding-right: 0.2em;padding-left: 0.2em;position: relative;}#sk-container-id-6 div.sk-item {position: relative;z-index: 1;}#sk-container-id-6 div.sk-parallel {display: flex;align-items: stretch;justify-content: center;background-color: white;position: relative;}#sk-container-id-6 div.sk-item::before, #sk-container-id-6 div.sk-parallel-item::before {content: \"\";position: absolute;border-left: 1px solid gray;box-sizing: border-box;top: 0;bottom: 0;left: 50%;z-index: -1;}#sk-container-id-6 div.sk-parallel-item {display: flex;flex-direction: column;z-index: 1;position: relative;background-color: white;}#sk-container-id-6 div.sk-parallel-item:first-child::after {align-self: flex-end;width: 50%;}#sk-container-id-6 div.sk-parallel-item:last-child::after {align-self: flex-start;width: 50%;}#sk-container-id-6 div.sk-parallel-item:only-child::after {width: 0;}#sk-container-id-6 div.sk-dashed-wrapped {border: 1px dashed gray;margin: 0 0.4em 0.5em 0.4em;box-sizing: border-box;padding-bottom: 0.4em;background-color: white;}#sk-container-id-6 div.sk-label label {font-family: monospace;font-weight: bold;display: inline-block;line-height: 1.2em;}#sk-container-id-6 div.sk-label-container {text-align: center;}#sk-container-id-6 div.sk-container {/* jupyter's `normalize.less` sets `[hidden] { display: none; }` but bootstrap.min.css set `[hidden] { display: none !important; }` so we also need the `!important` here to be able to override the default hidden behavior on the sphinx rendered scikit-learn.org. See: https://github.com/scikit-learn/scikit-learn/issues/21755 */display: inline-block !important;position: relative;}#sk-container-id-6 div.sk-text-repr-fallback {display: none;}</style><div id=\"sk-container-id-6\" class=\"sk-top-container\"><div class=\"sk-text-repr-fallback\"><pre>DecisionTreeClassifier(max_depth=18)</pre><b>In a Jupyter environment, please rerun this cell to show the HTML representation or trust the notebook. <br />On GitHub, the HTML representation is unable to render, please try loading this page with nbviewer.org.</b></div><div class=\"sk-container\" hidden><div class=\"sk-item\"><div class=\"sk-estimator sk-toggleable\"><input class=\"sk-toggleable__control sk-hidden--visually\" id=\"sk-estimator-id-6\" type=\"checkbox\" checked><label for=\"sk-estimator-id-6\" class=\"sk-toggleable__label sk-toggleable__label-arrow\">DecisionTreeClassifier</label><div class=\"sk-toggleable__content\"><pre>DecisionTreeClassifier(max_depth=18)</pre></div></div></div></div></div>"
            ]
          },
          "metadata": {},
          "execution_count": 76
        }
      ]
    },
    {
      "cell_type": "code",
      "source": [
        "y_pred_test_dt = dt_best.predict(X_test)\n",
        "y_pred_train_dt = dt_best.predict(X_train)"
      ],
      "metadata": {
        "id": "EERZKhWiQSO2"
      },
      "execution_count": null,
      "outputs": []
    },
    {
      "cell_type": "code",
      "source": [
        "acc_test_dt = accuracy_score(y_test, y_pred_test_dt)\n",
        "b_acc_test_dt = balanced_accuracy_score(y_test, y_pred_test_dt)\n",
        "prec_test_dt = precision_score(y_test, y_pred_test_dt)\n",
        "f1_test_dt = f1_score(y_test, y_pred_test_dt)\n",
        "\n",
        "print(f\"Accuracy:{acc_test_dt:0.4f}\" )\n",
        "print(f\"Balance Accuracy:{b_acc_test_dt:0.4f}\" )\n",
        "print(f\"Preccision:{prec_test_dt:0.4f}\" )\n",
        "print(f\"F1 test:{f1_test_dt:0.4f}\" )"
      ],
      "metadata": {
        "id": "CWd8sCA5QjZN",
        "colab": {
          "base_uri": "https://localhost:8080/"
        },
        "outputId": "01772706-c066-47ce-beb2-9c4a43b40cba"
      },
      "execution_count": null,
      "outputs": [
        {
          "output_type": "stream",
          "name": "stdout",
          "text": [
            "Accuracy:0.9672\n",
            "Balance Accuracy:0.9501\n",
            "Preccision:0.9804\n",
            "F1 test:0.9795\n"
          ]
        }
      ]
    },
    {
      "cell_type": "code",
      "source": [
        "from joblib import dump, load\n",
        "dump(dt_best, 'DT_best_model.joblib')"
      ],
      "metadata": {
        "id": "mtjKd8YlU5H_",
        "colab": {
          "base_uri": "https://localhost:8080/"
        },
        "outputId": "3cc3d8b0-0bca-4c5a-9e2e-ba8d66d6707a"
      },
      "execution_count": null,
      "outputs": [
        {
          "output_type": "execute_result",
          "data": {
            "text/plain": [
              "['DT_best_model.joblib']"
            ]
          },
          "metadata": {},
          "execution_count": 79
        }
      ]
    },
    {
      "cell_type": "code",
      "source": [],
      "metadata": {
        "id": "s_QNEyeQrfVN"
      },
      "execution_count": null,
      "outputs": []
    }
  ]
}