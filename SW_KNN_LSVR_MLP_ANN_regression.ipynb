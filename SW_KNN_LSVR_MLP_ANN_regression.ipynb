{
  "nbformat": 4,
  "nbformat_minor": 0,
  "metadata": {
    "colab": {
      "provenance": [],
      "gpuType": "T4",
      "include_colab_link": true
    },
    "kernelspec": {
      "name": "python3",
      "display_name": "Python 3"
    },
    "language_info": {
      "name": "python"
    },
    "accelerator": "GPU",
    "gpuClass": "standard"
  },
  "cells": [
    {
      "cell_type": "markdown",
      "metadata": {
        "id": "view-in-github",
        "colab_type": "text"
      },
      "source": [
        "<a href=\"https://colab.research.google.com/github/arekciminski/model_SW_SNN/blob/Prediction_model/SW_KNN_LSVR_MLP_ANN_regression.ipynb\" target=\"_parent\"><img src=\"https://colab.research.google.com/assets/colab-badge.svg\" alt=\"Open In Colab\"/></a>"
      ]
    },
    {
      "cell_type": "markdown",
      "source": [
        "#Ładowanie bibliotek "
      ],
      "metadata": {
        "id": "1vk_hqSJu_OZ"
      }
    },
    {
      "cell_type": "code",
      "source": [
        "import os.path\n",
        "import pandas as pd\n",
        "import seaborn as sns\n",
        "from joblib import dump, load\n",
        "from sklearn.model_selection import train_test_split\n",
        "from sklearn.metrics import mean_squared_error, r2_score\n",
        "from sklearn.preprocessing import MinMaxScaler\n",
        "from sklearn.model_selection import GridSearchCV\n",
        "from sklearn.tree import DecisionTreeRegressor\n",
        "from sklearn.model_selection import cross_val_score"
      ],
      "metadata": {
        "id": "2GpR9WcQtDn5"
      },
      "execution_count": 2,
      "outputs": []
    },
    {
      "cell_type": "markdown",
      "source": [
        "#Ładowanie pliku z danymi z Google Drive"
      ],
      "metadata": {
        "id": "baYnwXD2vDDA"
      }
    },
    {
      "cell_type": "code",
      "source": [
        "file_name='dane_do_uczenia_1_500000.csv'\n",
        "folder = '/content/drive/MyDrive/Colab Notebooks/final_project/'\n",
        "from google.colab import drive\n",
        "drive.mount(\"/content/drive/\")"
      ],
      "metadata": {
        "id": "Ix7H8bOTeGJi",
        "colab": {
          "base_uri": "https://localhost:8080/"
        },
        "outputId": "fab49ec6-de3d-4ce8-e618-9560780735fa"
      },
      "execution_count": 3,
      "outputs": [
        {
          "output_type": "stream",
          "name": "stdout",
          "text": [
            "Mounted at /content/drive/\n"
          ]
        }
      ]
    },
    {
      "cell_type": "markdown",
      "source": [
        "#Ładowanie pliku lokalnego do pamięci\n"
      ],
      "metadata": {
        "id": "o2OubPjqvHYI"
      }
    },
    {
      "cell_type": "code",
      "source": [
        "df= pd.read_csv(folder + file_name,decimal =',',sep=';')"
      ],
      "metadata": {
        "id": "5Uhy1rjKpoTO"
      },
      "execution_count": 4,
      "outputs": []
    },
    {
      "cell_type": "code",
      "source": [
        "df = df[df['error_output']==0]"
      ],
      "metadata": {
        "id": "OfBVzaEUQYkw"
      },
      "execution_count": 5,
      "outputs": []
    },
    {
      "cell_type": "code",
      "source": [
        "df = df.iloc[0:100000,:]"
      ],
      "metadata": {
        "id": "0W2s7fluRZvx"
      },
      "execution_count": 6,
      "outputs": []
    },
    {
      "cell_type": "code",
      "source": [
        "\n",
        "df.shape"
      ],
      "metadata": {
        "id": "vNTHBwqKy1H6",
        "colab": {
          "base_uri": "https://localhost:8080/"
        },
        "outputId": "8cfb10ec-2e27-4d2c-8dd8-9a97a3a35541"
      },
      "execution_count": 7,
      "outputs": [
        {
          "output_type": "execute_result",
          "data": {
            "text/plain": [
              "(100000, 22)"
            ]
          },
          "metadata": {},
          "execution_count": 7
        }
      ]
    },
    {
      "cell_type": "code",
      "source": [
        "df.head()"
      ],
      "metadata": {
        "id": "6VpN2ZSKzEug",
        "colab": {
          "base_uri": "https://localhost:8080/",
          "height": 317
        },
        "outputId": "7821f428-791c-437b-b3bc-a6efb7240340"
      },
      "execution_count": 8,
      "outputs": [
        {
          "output_type": "execute_result",
          "data": {
            "text/plain": [
              "    Unnamed: 0  error_output  time_output  head_output_001  head_output_002  \\\n",
              "3            3             0            0       171.688080       204.964844   \n",
              "8            8             0            0       171.587021       181.432541   \n",
              "12          12             0            0       170.038803       203.679108   \n",
              "13          13             0            0       177.310242       196.880997   \n",
              "14          14             0            0       170.258987       202.284668   \n",
              "\n",
              "    head_output_055  head_output_083  head_output_158  head_output_180  \\\n",
              "3        204.508545       204.187195       204.079819       169.699997   \n",
              "8        181.311340       181.065262       180.895660       167.619995   \n",
              "12       203.759109       203.419128       203.280502       168.229996   \n",
              "13       196.835800       196.622559       196.429016       169.710007   \n",
              "14       202.366318       202.218246       201.977463       169.259995   \n",
              "\n",
              "    flow_output_F1  ...  tank_output_180  energy_output_F1  energy_output_K1  \\\n",
              "3       137.287430  ...       169.580811         21.494255         30.574085   \n",
              "8       199.358078  ...       167.838211         31.701595          6.275290   \n",
              "12      130.457672  ...       168.356750         18.574577         11.199346   \n",
              "13      283.203064  ...       170.197037         52.643723          9.536500   \n",
              "14       94.678185  ...       169.416534         12.031251          7.318162   \n",
              "\n",
              "    energy_output_P1  tank_input_180  pump_input_F1  pump_input_K1  \\\n",
              "3           7.613600            3.70           0.73           0.82   \n",
              "8           2.028228            1.62           0.80           0.51   \n",
              "12         14.652009            2.23           0.71           0.76   \n",
              "13          7.073823            3.71           1.00           0.67   \n",
              "14          8.812004            3.26           0.70           0.73   \n",
              "\n",
              "    pump_input_P1  demand_input_par2  demand_input_kar2  \n",
              "3            0.81               1.35               1.38  \n",
              "8            0.58               1.03               1.05  \n",
              "12           0.96               1.26               1.06  \n",
              "13           0.77               0.77               0.91  \n",
              "14           0.83               0.67               0.55  \n",
              "\n",
              "[5 rows x 22 columns]"
            ],
            "text/html": [
              "\n",
              "  <div id=\"df-b7fefc31-2b2a-41ba-9db1-d2afcc49dc77\">\n",
              "    <div class=\"colab-df-container\">\n",
              "      <div>\n",
              "<style scoped>\n",
              "    .dataframe tbody tr th:only-of-type {\n",
              "        vertical-align: middle;\n",
              "    }\n",
              "\n",
              "    .dataframe tbody tr th {\n",
              "        vertical-align: top;\n",
              "    }\n",
              "\n",
              "    .dataframe thead th {\n",
              "        text-align: right;\n",
              "    }\n",
              "</style>\n",
              "<table border=\"1\" class=\"dataframe\">\n",
              "  <thead>\n",
              "    <tr style=\"text-align: right;\">\n",
              "      <th></th>\n",
              "      <th>Unnamed: 0</th>\n",
              "      <th>error_output</th>\n",
              "      <th>time_output</th>\n",
              "      <th>head_output_001</th>\n",
              "      <th>head_output_002</th>\n",
              "      <th>head_output_055</th>\n",
              "      <th>head_output_083</th>\n",
              "      <th>head_output_158</th>\n",
              "      <th>head_output_180</th>\n",
              "      <th>flow_output_F1</th>\n",
              "      <th>...</th>\n",
              "      <th>tank_output_180</th>\n",
              "      <th>energy_output_F1</th>\n",
              "      <th>energy_output_K1</th>\n",
              "      <th>energy_output_P1</th>\n",
              "      <th>tank_input_180</th>\n",
              "      <th>pump_input_F1</th>\n",
              "      <th>pump_input_K1</th>\n",
              "      <th>pump_input_P1</th>\n",
              "      <th>demand_input_par2</th>\n",
              "      <th>demand_input_kar2</th>\n",
              "    </tr>\n",
              "  </thead>\n",
              "  <tbody>\n",
              "    <tr>\n",
              "      <th>3</th>\n",
              "      <td>3</td>\n",
              "      <td>0</td>\n",
              "      <td>0</td>\n",
              "      <td>171.688080</td>\n",
              "      <td>204.964844</td>\n",
              "      <td>204.508545</td>\n",
              "      <td>204.187195</td>\n",
              "      <td>204.079819</td>\n",
              "      <td>169.699997</td>\n",
              "      <td>137.287430</td>\n",
              "      <td>...</td>\n",
              "      <td>169.580811</td>\n",
              "      <td>21.494255</td>\n",
              "      <td>30.574085</td>\n",
              "      <td>7.613600</td>\n",
              "      <td>3.70</td>\n",
              "      <td>0.73</td>\n",
              "      <td>0.82</td>\n",
              "      <td>0.81</td>\n",
              "      <td>1.35</td>\n",
              "      <td>1.38</td>\n",
              "    </tr>\n",
              "    <tr>\n",
              "      <th>8</th>\n",
              "      <td>8</td>\n",
              "      <td>0</td>\n",
              "      <td>0</td>\n",
              "      <td>171.587021</td>\n",
              "      <td>181.432541</td>\n",
              "      <td>181.311340</td>\n",
              "      <td>181.065262</td>\n",
              "      <td>180.895660</td>\n",
              "      <td>167.619995</td>\n",
              "      <td>199.358078</td>\n",
              "      <td>...</td>\n",
              "      <td>167.838211</td>\n",
              "      <td>31.701595</td>\n",
              "      <td>6.275290</td>\n",
              "      <td>2.028228</td>\n",
              "      <td>1.62</td>\n",
              "      <td>0.80</td>\n",
              "      <td>0.51</td>\n",
              "      <td>0.58</td>\n",
              "      <td>1.03</td>\n",
              "      <td>1.05</td>\n",
              "    </tr>\n",
              "    <tr>\n",
              "      <th>12</th>\n",
              "      <td>12</td>\n",
              "      <td>0</td>\n",
              "      <td>0</td>\n",
              "      <td>170.038803</td>\n",
              "      <td>203.679108</td>\n",
              "      <td>203.759109</td>\n",
              "      <td>203.419128</td>\n",
              "      <td>203.280502</td>\n",
              "      <td>168.229996</td>\n",
              "      <td>130.457672</td>\n",
              "      <td>...</td>\n",
              "      <td>168.356750</td>\n",
              "      <td>18.574577</td>\n",
              "      <td>11.199346</td>\n",
              "      <td>14.652009</td>\n",
              "      <td>2.23</td>\n",
              "      <td>0.71</td>\n",
              "      <td>0.76</td>\n",
              "      <td>0.96</td>\n",
              "      <td>1.26</td>\n",
              "      <td>1.06</td>\n",
              "    </tr>\n",
              "    <tr>\n",
              "      <th>13</th>\n",
              "      <td>13</td>\n",
              "      <td>0</td>\n",
              "      <td>0</td>\n",
              "      <td>177.310242</td>\n",
              "      <td>196.880997</td>\n",
              "      <td>196.835800</td>\n",
              "      <td>196.622559</td>\n",
              "      <td>196.429016</td>\n",
              "      <td>169.710007</td>\n",
              "      <td>283.203064</td>\n",
              "      <td>...</td>\n",
              "      <td>170.197037</td>\n",
              "      <td>52.643723</td>\n",
              "      <td>9.536500</td>\n",
              "      <td>7.073823</td>\n",
              "      <td>3.71</td>\n",
              "      <td>1.00</td>\n",
              "      <td>0.67</td>\n",
              "      <td>0.77</td>\n",
              "      <td>0.77</td>\n",
              "      <td>0.91</td>\n",
              "    </tr>\n",
              "    <tr>\n",
              "      <th>14</th>\n",
              "      <td>14</td>\n",
              "      <td>0</td>\n",
              "      <td>0</td>\n",
              "      <td>170.258987</td>\n",
              "      <td>202.284668</td>\n",
              "      <td>202.366318</td>\n",
              "      <td>202.218246</td>\n",
              "      <td>201.977463</td>\n",
              "      <td>169.259995</td>\n",
              "      <td>94.678185</td>\n",
              "      <td>...</td>\n",
              "      <td>169.416534</td>\n",
              "      <td>12.031251</td>\n",
              "      <td>7.318162</td>\n",
              "      <td>8.812004</td>\n",
              "      <td>3.26</td>\n",
              "      <td>0.70</td>\n",
              "      <td>0.73</td>\n",
              "      <td>0.83</td>\n",
              "      <td>0.67</td>\n",
              "      <td>0.55</td>\n",
              "    </tr>\n",
              "  </tbody>\n",
              "</table>\n",
              "<p>5 rows × 22 columns</p>\n",
              "</div>\n",
              "      <button class=\"colab-df-convert\" onclick=\"convertToInteractive('df-b7fefc31-2b2a-41ba-9db1-d2afcc49dc77')\"\n",
              "              title=\"Convert this dataframe to an interactive table.\"\n",
              "              style=\"display:none;\">\n",
              "        \n",
              "  <svg xmlns=\"http://www.w3.org/2000/svg\" height=\"24px\"viewBox=\"0 0 24 24\"\n",
              "       width=\"24px\">\n",
              "    <path d=\"M0 0h24v24H0V0z\" fill=\"none\"/>\n",
              "    <path d=\"M18.56 5.44l.94 2.06.94-2.06 2.06-.94-2.06-.94-.94-2.06-.94 2.06-2.06.94zm-11 1L8.5 8.5l.94-2.06 2.06-.94-2.06-.94L8.5 2.5l-.94 2.06-2.06.94zm10 10l.94 2.06.94-2.06 2.06-.94-2.06-.94-.94-2.06-.94 2.06-2.06.94z\"/><path d=\"M17.41 7.96l-1.37-1.37c-.4-.4-.92-.59-1.43-.59-.52 0-1.04.2-1.43.59L10.3 9.45l-7.72 7.72c-.78.78-.78 2.05 0 2.83L4 21.41c.39.39.9.59 1.41.59.51 0 1.02-.2 1.41-.59l7.78-7.78 2.81-2.81c.8-.78.8-2.07 0-2.86zM5.41 20L4 18.59l7.72-7.72 1.47 1.35L5.41 20z\"/>\n",
              "  </svg>\n",
              "      </button>\n",
              "      \n",
              "  <style>\n",
              "    .colab-df-container {\n",
              "      display:flex;\n",
              "      flex-wrap:wrap;\n",
              "      gap: 12px;\n",
              "    }\n",
              "\n",
              "    .colab-df-convert {\n",
              "      background-color: #E8F0FE;\n",
              "      border: none;\n",
              "      border-radius: 50%;\n",
              "      cursor: pointer;\n",
              "      display: none;\n",
              "      fill: #1967D2;\n",
              "      height: 32px;\n",
              "      padding: 0 0 0 0;\n",
              "      width: 32px;\n",
              "    }\n",
              "\n",
              "    .colab-df-convert:hover {\n",
              "      background-color: #E2EBFA;\n",
              "      box-shadow: 0px 1px 2px rgba(60, 64, 67, 0.3), 0px 1px 3px 1px rgba(60, 64, 67, 0.15);\n",
              "      fill: #174EA6;\n",
              "    }\n",
              "\n",
              "    [theme=dark] .colab-df-convert {\n",
              "      background-color: #3B4455;\n",
              "      fill: #D2E3FC;\n",
              "    }\n",
              "\n",
              "    [theme=dark] .colab-df-convert:hover {\n",
              "      background-color: #434B5C;\n",
              "      box-shadow: 0px 1px 3px 1px rgba(0, 0, 0, 0.15);\n",
              "      filter: drop-shadow(0px 1px 2px rgba(0, 0, 0, 0.3));\n",
              "      fill: #FFFFFF;\n",
              "    }\n",
              "  </style>\n",
              "\n",
              "      <script>\n",
              "        const buttonEl =\n",
              "          document.querySelector('#df-b7fefc31-2b2a-41ba-9db1-d2afcc49dc77 button.colab-df-convert');\n",
              "        buttonEl.style.display =\n",
              "          google.colab.kernel.accessAllowed ? 'block' : 'none';\n",
              "\n",
              "        async function convertToInteractive(key) {\n",
              "          const element = document.querySelector('#df-b7fefc31-2b2a-41ba-9db1-d2afcc49dc77');\n",
              "          const dataTable =\n",
              "            await google.colab.kernel.invokeFunction('convertToInteractive',\n",
              "                                                     [key], {});\n",
              "          if (!dataTable) return;\n",
              "\n",
              "          const docLinkHtml = 'Like what you see? Visit the ' +\n",
              "            '<a target=\"_blank\" href=https://colab.research.google.com/notebooks/data_table.ipynb>data table notebook</a>'\n",
              "            + ' to learn more about interactive tables.';\n",
              "          element.innerHTML = '';\n",
              "          dataTable['output_type'] = 'display_data';\n",
              "          await google.colab.output.renderOutput(dataTable, element);\n",
              "          const docLink = document.createElement('div');\n",
              "          docLink.innerHTML = docLinkHtml;\n",
              "          element.appendChild(docLink);\n",
              "        }\n",
              "      </script>\n",
              "    </div>\n",
              "  </div>\n",
              "  "
            ]
          },
          "metadata": {},
          "execution_count": 8
        }
      ]
    },
    {
      "cell_type": "markdown",
      "source": [
        "#Losowa zmiana pozycji wierszy w df\n"
      ],
      "metadata": {
        "id": "1RzzSte6vMHp"
      }
    },
    {
      "cell_type": "code",
      "source": [
        "df = df.sample(frac = 1)"
      ],
      "metadata": {
        "id": "Uyb1K7hZtmUO"
      },
      "execution_count": 9,
      "outputs": []
    },
    {
      "cell_type": "markdown",
      "source": [
        "#Podział danych na X i y"
      ],
      "metadata": {
        "id": "423q4tCVvt9I"
      }
    },
    {
      "cell_type": "code",
      "source": [
        "df.columns"
      ],
      "metadata": {
        "id": "DI_eftoyv7bg",
        "colab": {
          "base_uri": "https://localhost:8080/"
        },
        "outputId": "6bc68cb6-3a5f-4a69-ea64-b0699bafddb1"
      },
      "execution_count": 10,
      "outputs": [
        {
          "output_type": "execute_result",
          "data": {
            "text/plain": [
              "Index(['Unnamed: 0', 'error_output', 'time_output', 'head_output_001',\n",
              "       'head_output_002', 'head_output_055', 'head_output_083',\n",
              "       'head_output_158', 'head_output_180', 'flow_output_F1',\n",
              "       'flow_output_K1', 'flow_output_P1', 'tank_output_180',\n",
              "       'energy_output_F1', 'energy_output_K1', 'energy_output_P1',\n",
              "       'tank_input_180', 'pump_input_F1', 'pump_input_K1', 'pump_input_P1',\n",
              "       'demand_input_par2', 'demand_input_kar2'],\n",
              "      dtype='object')"
            ]
          },
          "metadata": {},
          "execution_count": 10
        }
      ]
    },
    {
      "cell_type": "code",
      "source": [],
      "metadata": {
        "id": "ZOQe3DiWeun6"
      },
      "execution_count": 10,
      "outputs": []
    },
    {
      "cell_type": "code",
      "source": [
        "'''x_columns =['tank_input_180',  'head_output_001',\n",
        "            'head_output_002', 'head_output_055', 'head_output_083',\n",
        "            'head_output_158', 'head_output_180', 'pump_input_P1',\n",
        "            'demand_input_par2', 'demand_input_kar2','flow_output_F1',\n",
        "            'flow_output_K1', 'flow_output_P1']\n",
        "y_column = ['pump_input_F1', 'pump_input_K1', 'pump_input_P1']'''"
      ],
      "metadata": {
        "id": "M69MhA2av3fN",
        "colab": {
          "base_uri": "https://localhost:8080/",
          "height": 53
        },
        "outputId": "14ab7f94-e7cd-495b-a8cf-366a6713e07a"
      },
      "execution_count": 11,
      "outputs": [
        {
          "output_type": "execute_result",
          "data": {
            "text/plain": [
              "\"x_columns =['tank_input_180',  'head_output_001',\\n            'head_output_002', 'head_output_055', 'head_output_083',\\n            'head_output_158', 'head_output_180', 'pump_input_P1',\\n            'demand_input_par2', 'demand_input_kar2','flow_output_F1',\\n            'flow_output_K1', 'flow_output_P1']\\ny_column = ['pump_input_F1', 'pump_input_K1', 'pump_input_P1']\""
            ],
            "application/vnd.google.colaboratory.intrinsic+json": {
              "type": "string"
            }
          },
          "metadata": {},
          "execution_count": 11
        }
      ]
    },
    {
      "cell_type": "code",
      "source": [
        "x_columns =['tank_input_180', 'head_output_180','head_output_083',\n",
        "            'head_output_158', 'demand_input_par2', 'demand_input_kar2']\n",
        "y_column = ['head_output_001', 'head_output_002','head_output_055']"
      ],
      "metadata": {
        "id": "kYrsZP3motg3"
      },
      "execution_count": 12,
      "outputs": []
    },
    {
      "cell_type": "code",
      "source": [
        "X = df[x_columns]\n",
        "y = df[y_column]\n",
        "y"
      ],
      "metadata": {
        "id": "edERo4WMwOr-",
        "colab": {
          "base_uri": "https://localhost:8080/",
          "height": 424
        },
        "outputId": "838f546b-6887-43b2-ba5d-8e445c73a890"
      },
      "execution_count": 13,
      "outputs": [
        {
          "output_type": "execute_result",
          "data": {
            "text/plain": [
              "        head_output_001  head_output_002  head_output_055\n",
              "182417       173.751434       189.113159       189.189682\n",
              "224061       169.317795       188.320587       188.406219\n",
              "9662         176.448822       216.041824       215.658905\n",
              "170552       172.845459       200.446014       200.401886\n",
              "254412       174.287308       200.497070       200.695190\n",
              "...                 ...              ...              ...\n",
              "88166        175.102997       203.723709       203.695602\n",
              "51580        174.815842       204.182327       204.137115\n",
              "170793       175.586731       203.440628       203.365692\n",
              "287759       174.050125       182.681580       182.358139\n",
              "113554       175.984756       189.607452       189.878601\n",
              "\n",
              "[100000 rows x 3 columns]"
            ],
            "text/html": [
              "\n",
              "  <div id=\"df-29c63d25-ec15-4bcd-8b38-a25b382a4395\">\n",
              "    <div class=\"colab-df-container\">\n",
              "      <div>\n",
              "<style scoped>\n",
              "    .dataframe tbody tr th:only-of-type {\n",
              "        vertical-align: middle;\n",
              "    }\n",
              "\n",
              "    .dataframe tbody tr th {\n",
              "        vertical-align: top;\n",
              "    }\n",
              "\n",
              "    .dataframe thead th {\n",
              "        text-align: right;\n",
              "    }\n",
              "</style>\n",
              "<table border=\"1\" class=\"dataframe\">\n",
              "  <thead>\n",
              "    <tr style=\"text-align: right;\">\n",
              "      <th></th>\n",
              "      <th>head_output_001</th>\n",
              "      <th>head_output_002</th>\n",
              "      <th>head_output_055</th>\n",
              "    </tr>\n",
              "  </thead>\n",
              "  <tbody>\n",
              "    <tr>\n",
              "      <th>182417</th>\n",
              "      <td>173.751434</td>\n",
              "      <td>189.113159</td>\n",
              "      <td>189.189682</td>\n",
              "    </tr>\n",
              "    <tr>\n",
              "      <th>224061</th>\n",
              "      <td>169.317795</td>\n",
              "      <td>188.320587</td>\n",
              "      <td>188.406219</td>\n",
              "    </tr>\n",
              "    <tr>\n",
              "      <th>9662</th>\n",
              "      <td>176.448822</td>\n",
              "      <td>216.041824</td>\n",
              "      <td>215.658905</td>\n",
              "    </tr>\n",
              "    <tr>\n",
              "      <th>170552</th>\n",
              "      <td>172.845459</td>\n",
              "      <td>200.446014</td>\n",
              "      <td>200.401886</td>\n",
              "    </tr>\n",
              "    <tr>\n",
              "      <th>254412</th>\n",
              "      <td>174.287308</td>\n",
              "      <td>200.497070</td>\n",
              "      <td>200.695190</td>\n",
              "    </tr>\n",
              "    <tr>\n",
              "      <th>...</th>\n",
              "      <td>...</td>\n",
              "      <td>...</td>\n",
              "      <td>...</td>\n",
              "    </tr>\n",
              "    <tr>\n",
              "      <th>88166</th>\n",
              "      <td>175.102997</td>\n",
              "      <td>203.723709</td>\n",
              "      <td>203.695602</td>\n",
              "    </tr>\n",
              "    <tr>\n",
              "      <th>51580</th>\n",
              "      <td>174.815842</td>\n",
              "      <td>204.182327</td>\n",
              "      <td>204.137115</td>\n",
              "    </tr>\n",
              "    <tr>\n",
              "      <th>170793</th>\n",
              "      <td>175.586731</td>\n",
              "      <td>203.440628</td>\n",
              "      <td>203.365692</td>\n",
              "    </tr>\n",
              "    <tr>\n",
              "      <th>287759</th>\n",
              "      <td>174.050125</td>\n",
              "      <td>182.681580</td>\n",
              "      <td>182.358139</td>\n",
              "    </tr>\n",
              "    <tr>\n",
              "      <th>113554</th>\n",
              "      <td>175.984756</td>\n",
              "      <td>189.607452</td>\n",
              "      <td>189.878601</td>\n",
              "    </tr>\n",
              "  </tbody>\n",
              "</table>\n",
              "<p>100000 rows × 3 columns</p>\n",
              "</div>\n",
              "      <button class=\"colab-df-convert\" onclick=\"convertToInteractive('df-29c63d25-ec15-4bcd-8b38-a25b382a4395')\"\n",
              "              title=\"Convert this dataframe to an interactive table.\"\n",
              "              style=\"display:none;\">\n",
              "        \n",
              "  <svg xmlns=\"http://www.w3.org/2000/svg\" height=\"24px\"viewBox=\"0 0 24 24\"\n",
              "       width=\"24px\">\n",
              "    <path d=\"M0 0h24v24H0V0z\" fill=\"none\"/>\n",
              "    <path d=\"M18.56 5.44l.94 2.06.94-2.06 2.06-.94-2.06-.94-.94-2.06-.94 2.06-2.06.94zm-11 1L8.5 8.5l.94-2.06 2.06-.94-2.06-.94L8.5 2.5l-.94 2.06-2.06.94zm10 10l.94 2.06.94-2.06 2.06-.94-2.06-.94-.94-2.06-.94 2.06-2.06.94z\"/><path d=\"M17.41 7.96l-1.37-1.37c-.4-.4-.92-.59-1.43-.59-.52 0-1.04.2-1.43.59L10.3 9.45l-7.72 7.72c-.78.78-.78 2.05 0 2.83L4 21.41c.39.39.9.59 1.41.59.51 0 1.02-.2 1.41-.59l7.78-7.78 2.81-2.81c.8-.78.8-2.07 0-2.86zM5.41 20L4 18.59l7.72-7.72 1.47 1.35L5.41 20z\"/>\n",
              "  </svg>\n",
              "      </button>\n",
              "      \n",
              "  <style>\n",
              "    .colab-df-container {\n",
              "      display:flex;\n",
              "      flex-wrap:wrap;\n",
              "      gap: 12px;\n",
              "    }\n",
              "\n",
              "    .colab-df-convert {\n",
              "      background-color: #E8F0FE;\n",
              "      border: none;\n",
              "      border-radius: 50%;\n",
              "      cursor: pointer;\n",
              "      display: none;\n",
              "      fill: #1967D2;\n",
              "      height: 32px;\n",
              "      padding: 0 0 0 0;\n",
              "      width: 32px;\n",
              "    }\n",
              "\n",
              "    .colab-df-convert:hover {\n",
              "      background-color: #E2EBFA;\n",
              "      box-shadow: 0px 1px 2px rgba(60, 64, 67, 0.3), 0px 1px 3px 1px rgba(60, 64, 67, 0.15);\n",
              "      fill: #174EA6;\n",
              "    }\n",
              "\n",
              "    [theme=dark] .colab-df-convert {\n",
              "      background-color: #3B4455;\n",
              "      fill: #D2E3FC;\n",
              "    }\n",
              "\n",
              "    [theme=dark] .colab-df-convert:hover {\n",
              "      background-color: #434B5C;\n",
              "      box-shadow: 0px 1px 3px 1px rgba(0, 0, 0, 0.15);\n",
              "      filter: drop-shadow(0px 1px 2px rgba(0, 0, 0, 0.3));\n",
              "      fill: #FFFFFF;\n",
              "    }\n",
              "  </style>\n",
              "\n",
              "      <script>\n",
              "        const buttonEl =\n",
              "          document.querySelector('#df-29c63d25-ec15-4bcd-8b38-a25b382a4395 button.colab-df-convert');\n",
              "        buttonEl.style.display =\n",
              "          google.colab.kernel.accessAllowed ? 'block' : 'none';\n",
              "\n",
              "        async function convertToInteractive(key) {\n",
              "          const element = document.querySelector('#df-29c63d25-ec15-4bcd-8b38-a25b382a4395');\n",
              "          const dataTable =\n",
              "            await google.colab.kernel.invokeFunction('convertToInteractive',\n",
              "                                                     [key], {});\n",
              "          if (!dataTable) return;\n",
              "\n",
              "          const docLinkHtml = 'Like what you see? Visit the ' +\n",
              "            '<a target=\"_blank\" href=https://colab.research.google.com/notebooks/data_table.ipynb>data table notebook</a>'\n",
              "            + ' to learn more about interactive tables.';\n",
              "          element.innerHTML = '';\n",
              "          dataTable['output_type'] = 'display_data';\n",
              "          await google.colab.output.renderOutput(dataTable, element);\n",
              "          const docLink = document.createElement('div');\n",
              "          docLink.innerHTML = docLinkHtml;\n",
              "          element.appendChild(docLink);\n",
              "        }\n",
              "      </script>\n",
              "    </div>\n",
              "  </div>\n",
              "  "
            ]
          },
          "metadata": {},
          "execution_count": 13
        }
      ]
    },
    {
      "cell_type": "markdown",
      "source": [
        "#Podział danych na testowe i treningowe"
      ],
      "metadata": {
        "id": "FWZ6Omcrvnt5"
      }
    },
    {
      "cell_type": "code",
      "source": [
        "X_train, X_test, y_train, y_test = train_test_split(X, y, test_size=0.3)"
      ],
      "metadata": {
        "id": "TQtGNzUAt0uj"
      },
      "execution_count": 14,
      "outputs": []
    },
    {
      "cell_type": "code",
      "source": [
        "# example of making a prediction with the direct multioutput regression model\n",
        "from sklearn.datasets import make_regression\n",
        "from sklearn.multioutput import MultiOutputRegressor, RegressorChain\n",
        "from sklearn.model_selection import cross_val_score\n",
        "from sklearn.model_selection import RepeatedKFold\n",
        "from sklearn.svm import LinearSVR\n",
        "from sklearn.neighbors import KNeighborsRegressor\n"
      ],
      "metadata": {
        "id": "md1y1xT2sWgu"
      },
      "execution_count": 15,
      "outputs": []
    },
    {
      "cell_type": "markdown",
      "source": [
        "#Linear SVR Regressor"
      ],
      "metadata": {
        "id": "U4oDF0IYj8-b"
      }
    },
    {
      "cell_type": "code",
      "source": [
        "# define dataset\n",
        "# define base model\n",
        "model = LinearSVR()\n",
        "# define the direct multioutput wrapper model\n",
        "MOR = MultiOutputRegressor(model)\n"
      ],
      "metadata": {
        "id": "vGHc0hKf0Z-q"
      },
      "execution_count": 16,
      "outputs": []
    },
    {
      "cell_type": "code",
      "source": [],
      "metadata": {
        "id": "fwhCZkPc2jZ9"
      },
      "execution_count": 16,
      "outputs": []
    },
    {
      "cell_type": "code",
      "source": [
        "# fit the model on the whole dataset\n",
        "MOR.fit(X_train, y_train)\n"
      ],
      "metadata": {
        "id": "oqOmZVdF0boV",
        "colab": {
          "base_uri": "https://localhost:8080/",
          "height": 225
        },
        "outputId": "2b11bf49-9e67-4be5-ea5a-3a2d5f00b743"
      },
      "execution_count": 17,
      "outputs": [
        {
          "output_type": "stream",
          "name": "stderr",
          "text": [
            "/usr/local/lib/python3.10/dist-packages/sklearn/svm/_base.py:1244: ConvergenceWarning: Liblinear failed to converge, increase the number of iterations.\n",
            "  warnings.warn(\n",
            "/usr/local/lib/python3.10/dist-packages/sklearn/svm/_base.py:1244: ConvergenceWarning: Liblinear failed to converge, increase the number of iterations.\n",
            "  warnings.warn(\n",
            "/usr/local/lib/python3.10/dist-packages/sklearn/svm/_base.py:1244: ConvergenceWarning: Liblinear failed to converge, increase the number of iterations.\n",
            "  warnings.warn(\n"
          ]
        },
        {
          "output_type": "execute_result",
          "data": {
            "text/plain": [
              "MultiOutputRegressor(estimator=LinearSVR())"
            ],
            "text/html": [
              "<style>#sk-container-id-1 {color: black;background-color: white;}#sk-container-id-1 pre{padding: 0;}#sk-container-id-1 div.sk-toggleable {background-color: white;}#sk-container-id-1 label.sk-toggleable__label {cursor: pointer;display: block;width: 100%;margin-bottom: 0;padding: 0.3em;box-sizing: border-box;text-align: center;}#sk-container-id-1 label.sk-toggleable__label-arrow:before {content: \"▸\";float: left;margin-right: 0.25em;color: #696969;}#sk-container-id-1 label.sk-toggleable__label-arrow:hover:before {color: black;}#sk-container-id-1 div.sk-estimator:hover label.sk-toggleable__label-arrow:before {color: black;}#sk-container-id-1 div.sk-toggleable__content {max-height: 0;max-width: 0;overflow: hidden;text-align: left;background-color: #f0f8ff;}#sk-container-id-1 div.sk-toggleable__content pre {margin: 0.2em;color: black;border-radius: 0.25em;background-color: #f0f8ff;}#sk-container-id-1 input.sk-toggleable__control:checked~div.sk-toggleable__content {max-height: 200px;max-width: 100%;overflow: auto;}#sk-container-id-1 input.sk-toggleable__control:checked~label.sk-toggleable__label-arrow:before {content: \"▾\";}#sk-container-id-1 div.sk-estimator input.sk-toggleable__control:checked~label.sk-toggleable__label {background-color: #d4ebff;}#sk-container-id-1 div.sk-label input.sk-toggleable__control:checked~label.sk-toggleable__label {background-color: #d4ebff;}#sk-container-id-1 input.sk-hidden--visually {border: 0;clip: rect(1px 1px 1px 1px);clip: rect(1px, 1px, 1px, 1px);height: 1px;margin: -1px;overflow: hidden;padding: 0;position: absolute;width: 1px;}#sk-container-id-1 div.sk-estimator {font-family: monospace;background-color: #f0f8ff;border: 1px dotted black;border-radius: 0.25em;box-sizing: border-box;margin-bottom: 0.5em;}#sk-container-id-1 div.sk-estimator:hover {background-color: #d4ebff;}#sk-container-id-1 div.sk-parallel-item::after {content: \"\";width: 100%;border-bottom: 1px solid gray;flex-grow: 1;}#sk-container-id-1 div.sk-label:hover label.sk-toggleable__label {background-color: #d4ebff;}#sk-container-id-1 div.sk-serial::before {content: \"\";position: absolute;border-left: 1px solid gray;box-sizing: border-box;top: 0;bottom: 0;left: 50%;z-index: 0;}#sk-container-id-1 div.sk-serial {display: flex;flex-direction: column;align-items: center;background-color: white;padding-right: 0.2em;padding-left: 0.2em;position: relative;}#sk-container-id-1 div.sk-item {position: relative;z-index: 1;}#sk-container-id-1 div.sk-parallel {display: flex;align-items: stretch;justify-content: center;background-color: white;position: relative;}#sk-container-id-1 div.sk-item::before, #sk-container-id-1 div.sk-parallel-item::before {content: \"\";position: absolute;border-left: 1px solid gray;box-sizing: border-box;top: 0;bottom: 0;left: 50%;z-index: -1;}#sk-container-id-1 div.sk-parallel-item {display: flex;flex-direction: column;z-index: 1;position: relative;background-color: white;}#sk-container-id-1 div.sk-parallel-item:first-child::after {align-self: flex-end;width: 50%;}#sk-container-id-1 div.sk-parallel-item:last-child::after {align-self: flex-start;width: 50%;}#sk-container-id-1 div.sk-parallel-item:only-child::after {width: 0;}#sk-container-id-1 div.sk-dashed-wrapped {border: 1px dashed gray;margin: 0 0.4em 0.5em 0.4em;box-sizing: border-box;padding-bottom: 0.4em;background-color: white;}#sk-container-id-1 div.sk-label label {font-family: monospace;font-weight: bold;display: inline-block;line-height: 1.2em;}#sk-container-id-1 div.sk-label-container {text-align: center;}#sk-container-id-1 div.sk-container {/* jupyter's `normalize.less` sets `[hidden] { display: none; }` but bootstrap.min.css set `[hidden] { display: none !important; }` so we also need the `!important` here to be able to override the default hidden behavior on the sphinx rendered scikit-learn.org. See: https://github.com/scikit-learn/scikit-learn/issues/21755 */display: inline-block !important;position: relative;}#sk-container-id-1 div.sk-text-repr-fallback {display: none;}</style><div id=\"sk-container-id-1\" class=\"sk-top-container\"><div class=\"sk-text-repr-fallback\"><pre>MultiOutputRegressor(estimator=LinearSVR())</pre><b>In a Jupyter environment, please rerun this cell to show the HTML representation or trust the notebook. <br />On GitHub, the HTML representation is unable to render, please try loading this page with nbviewer.org.</b></div><div class=\"sk-container\" hidden><div class=\"sk-item sk-dashed-wrapped\"><div class=\"sk-label-container\"><div class=\"sk-label sk-toggleable\"><input class=\"sk-toggleable__control sk-hidden--visually\" id=\"sk-estimator-id-1\" type=\"checkbox\" ><label for=\"sk-estimator-id-1\" class=\"sk-toggleable__label sk-toggleable__label-arrow\">MultiOutputRegressor</label><div class=\"sk-toggleable__content\"><pre>MultiOutputRegressor(estimator=LinearSVR())</pre></div></div></div><div class=\"sk-parallel\"><div class=\"sk-parallel-item\"><div class=\"sk-item\"><div class=\"sk-label-container\"><div class=\"sk-label sk-toggleable\"><input class=\"sk-toggleable__control sk-hidden--visually\" id=\"sk-estimator-id-2\" type=\"checkbox\" ><label for=\"sk-estimator-id-2\" class=\"sk-toggleable__label sk-toggleable__label-arrow\">estimator: LinearSVR</label><div class=\"sk-toggleable__content\"><pre>LinearSVR()</pre></div></div></div><div class=\"sk-serial\"><div class=\"sk-item\"><div class=\"sk-estimator sk-toggleable\"><input class=\"sk-toggleable__control sk-hidden--visually\" id=\"sk-estimator-id-3\" type=\"checkbox\" ><label for=\"sk-estimator-id-3\" class=\"sk-toggleable__label sk-toggleable__label-arrow\">LinearSVR</label><div class=\"sk-toggleable__content\"><pre>LinearSVR()</pre></div></div></div></div></div></div></div></div></div></div>"
            ]
          },
          "metadata": {},
          "execution_count": 17
        }
      ]
    },
    {
      "cell_type": "code",
      "source": [
        "# make a single prediction\n",
        "y_pred_MOR = MOR.predict(X_test)\n",
        "\n",
        "#for i in range(len(y_pred_MOR)):\n",
        "#  print(y_pred_MOR[i][6],y_test['error_output'][i])\n",
        "y_pred_MOR[0]"
      ],
      "metadata": {
        "id": "mhG2oQyt0dfA",
        "colab": {
          "base_uri": "https://localhost:8080/"
        },
        "outputId": "72831703-cf2c-459c-978d-0918a79423e8"
      },
      "execution_count": 18,
      "outputs": [
        {
          "output_type": "execute_result",
          "data": {
            "text/plain": [
              "array([173.53599111, 214.60532288, 214.38416083])"
            ]
          },
          "metadata": {},
          "execution_count": 18
        }
      ]
    },
    {
      "cell_type": "code",
      "source": [
        "y_test"
      ],
      "metadata": {
        "id": "QwocBHoO3R2O",
        "colab": {
          "base_uri": "https://localhost:8080/",
          "height": 424
        },
        "outputId": "5618408e-256e-4ecd-aaa3-6929b39b2526"
      },
      "execution_count": 19,
      "outputs": [
        {
          "output_type": "execute_result",
          "data": {
            "text/plain": [
              "        head_output_001  head_output_002  head_output_055\n",
              "235199       172.029373       214.848816       214.400192\n",
              "189106       175.432846       202.079132       201.938171\n",
              "253799       173.924072       193.520706       193.684647\n",
              "77974        173.986023       210.555450       210.379745\n",
              "149054       174.903168       188.570953       188.042130\n",
              "...                 ...              ...              ...\n",
              "169079       174.143173       200.219421       200.292648\n",
              "20649        175.963654       193.063980       192.989151\n",
              "133251       172.855133       202.082504       201.564087\n",
              "274929       172.716583       194.928345       194.705872\n",
              "124726       176.591431       190.814911       190.732285\n",
              "\n",
              "[30000 rows x 3 columns]"
            ],
            "text/html": [
              "\n",
              "  <div id=\"df-ef3e112e-387a-4826-a123-266d45d32bb9\">\n",
              "    <div class=\"colab-df-container\">\n",
              "      <div>\n",
              "<style scoped>\n",
              "    .dataframe tbody tr th:only-of-type {\n",
              "        vertical-align: middle;\n",
              "    }\n",
              "\n",
              "    .dataframe tbody tr th {\n",
              "        vertical-align: top;\n",
              "    }\n",
              "\n",
              "    .dataframe thead th {\n",
              "        text-align: right;\n",
              "    }\n",
              "</style>\n",
              "<table border=\"1\" class=\"dataframe\">\n",
              "  <thead>\n",
              "    <tr style=\"text-align: right;\">\n",
              "      <th></th>\n",
              "      <th>head_output_001</th>\n",
              "      <th>head_output_002</th>\n",
              "      <th>head_output_055</th>\n",
              "    </tr>\n",
              "  </thead>\n",
              "  <tbody>\n",
              "    <tr>\n",
              "      <th>235199</th>\n",
              "      <td>172.029373</td>\n",
              "      <td>214.848816</td>\n",
              "      <td>214.400192</td>\n",
              "    </tr>\n",
              "    <tr>\n",
              "      <th>189106</th>\n",
              "      <td>175.432846</td>\n",
              "      <td>202.079132</td>\n",
              "      <td>201.938171</td>\n",
              "    </tr>\n",
              "    <tr>\n",
              "      <th>253799</th>\n",
              "      <td>173.924072</td>\n",
              "      <td>193.520706</td>\n",
              "      <td>193.684647</td>\n",
              "    </tr>\n",
              "    <tr>\n",
              "      <th>77974</th>\n",
              "      <td>173.986023</td>\n",
              "      <td>210.555450</td>\n",
              "      <td>210.379745</td>\n",
              "    </tr>\n",
              "    <tr>\n",
              "      <th>149054</th>\n",
              "      <td>174.903168</td>\n",
              "      <td>188.570953</td>\n",
              "      <td>188.042130</td>\n",
              "    </tr>\n",
              "    <tr>\n",
              "      <th>...</th>\n",
              "      <td>...</td>\n",
              "      <td>...</td>\n",
              "      <td>...</td>\n",
              "    </tr>\n",
              "    <tr>\n",
              "      <th>169079</th>\n",
              "      <td>174.143173</td>\n",
              "      <td>200.219421</td>\n",
              "      <td>200.292648</td>\n",
              "    </tr>\n",
              "    <tr>\n",
              "      <th>20649</th>\n",
              "      <td>175.963654</td>\n",
              "      <td>193.063980</td>\n",
              "      <td>192.989151</td>\n",
              "    </tr>\n",
              "    <tr>\n",
              "      <th>133251</th>\n",
              "      <td>172.855133</td>\n",
              "      <td>202.082504</td>\n",
              "      <td>201.564087</td>\n",
              "    </tr>\n",
              "    <tr>\n",
              "      <th>274929</th>\n",
              "      <td>172.716583</td>\n",
              "      <td>194.928345</td>\n",
              "      <td>194.705872</td>\n",
              "    </tr>\n",
              "    <tr>\n",
              "      <th>124726</th>\n",
              "      <td>176.591431</td>\n",
              "      <td>190.814911</td>\n",
              "      <td>190.732285</td>\n",
              "    </tr>\n",
              "  </tbody>\n",
              "</table>\n",
              "<p>30000 rows × 3 columns</p>\n",
              "</div>\n",
              "      <button class=\"colab-df-convert\" onclick=\"convertToInteractive('df-ef3e112e-387a-4826-a123-266d45d32bb9')\"\n",
              "              title=\"Convert this dataframe to an interactive table.\"\n",
              "              style=\"display:none;\">\n",
              "        \n",
              "  <svg xmlns=\"http://www.w3.org/2000/svg\" height=\"24px\"viewBox=\"0 0 24 24\"\n",
              "       width=\"24px\">\n",
              "    <path d=\"M0 0h24v24H0V0z\" fill=\"none\"/>\n",
              "    <path d=\"M18.56 5.44l.94 2.06.94-2.06 2.06-.94-2.06-.94-.94-2.06-.94 2.06-2.06.94zm-11 1L8.5 8.5l.94-2.06 2.06-.94-2.06-.94L8.5 2.5l-.94 2.06-2.06.94zm10 10l.94 2.06.94-2.06 2.06-.94-2.06-.94-.94-2.06-.94 2.06-2.06.94z\"/><path d=\"M17.41 7.96l-1.37-1.37c-.4-.4-.92-.59-1.43-.59-.52 0-1.04.2-1.43.59L10.3 9.45l-7.72 7.72c-.78.78-.78 2.05 0 2.83L4 21.41c.39.39.9.59 1.41.59.51 0 1.02-.2 1.41-.59l7.78-7.78 2.81-2.81c.8-.78.8-2.07 0-2.86zM5.41 20L4 18.59l7.72-7.72 1.47 1.35L5.41 20z\"/>\n",
              "  </svg>\n",
              "      </button>\n",
              "      \n",
              "  <style>\n",
              "    .colab-df-container {\n",
              "      display:flex;\n",
              "      flex-wrap:wrap;\n",
              "      gap: 12px;\n",
              "    }\n",
              "\n",
              "    .colab-df-convert {\n",
              "      background-color: #E8F0FE;\n",
              "      border: none;\n",
              "      border-radius: 50%;\n",
              "      cursor: pointer;\n",
              "      display: none;\n",
              "      fill: #1967D2;\n",
              "      height: 32px;\n",
              "      padding: 0 0 0 0;\n",
              "      width: 32px;\n",
              "    }\n",
              "\n",
              "    .colab-df-convert:hover {\n",
              "      background-color: #E2EBFA;\n",
              "      box-shadow: 0px 1px 2px rgba(60, 64, 67, 0.3), 0px 1px 3px 1px rgba(60, 64, 67, 0.15);\n",
              "      fill: #174EA6;\n",
              "    }\n",
              "\n",
              "    [theme=dark] .colab-df-convert {\n",
              "      background-color: #3B4455;\n",
              "      fill: #D2E3FC;\n",
              "    }\n",
              "\n",
              "    [theme=dark] .colab-df-convert:hover {\n",
              "      background-color: #434B5C;\n",
              "      box-shadow: 0px 1px 3px 1px rgba(0, 0, 0, 0.15);\n",
              "      filter: drop-shadow(0px 1px 2px rgba(0, 0, 0, 0.3));\n",
              "      fill: #FFFFFF;\n",
              "    }\n",
              "  </style>\n",
              "\n",
              "      <script>\n",
              "        const buttonEl =\n",
              "          document.querySelector('#df-ef3e112e-387a-4826-a123-266d45d32bb9 button.colab-df-convert');\n",
              "        buttonEl.style.display =\n",
              "          google.colab.kernel.accessAllowed ? 'block' : 'none';\n",
              "\n",
              "        async function convertToInteractive(key) {\n",
              "          const element = document.querySelector('#df-ef3e112e-387a-4826-a123-266d45d32bb9');\n",
              "          const dataTable =\n",
              "            await google.colab.kernel.invokeFunction('convertToInteractive',\n",
              "                                                     [key], {});\n",
              "          if (!dataTable) return;\n",
              "\n",
              "          const docLinkHtml = 'Like what you see? Visit the ' +\n",
              "            '<a target=\"_blank\" href=https://colab.research.google.com/notebooks/data_table.ipynb>data table notebook</a>'\n",
              "            + ' to learn more about interactive tables.';\n",
              "          element.innerHTML = '';\n",
              "          dataTable['output_type'] = 'display_data';\n",
              "          await google.colab.output.renderOutput(dataTable, element);\n",
              "          const docLink = document.createElement('div');\n",
              "          docLink.innerHTML = docLinkHtml;\n",
              "          element.appendChild(docLink);\n",
              "        }\n",
              "      </script>\n",
              "    </div>\n",
              "  </div>\n",
              "  "
            ]
          },
          "metadata": {},
          "execution_count": 19
        }
      ]
    },
    {
      "cell_type": "code",
      "source": [
        "MSE_test_LR = mean_squared_error(y_test, y_pred_MOR)\n",
        "r2_test_LR = r2_score(y_test, y_pred_MOR)\n",
        "[MSE_test_LR, r2_test_LR]"
      ],
      "metadata": {
        "id": "EvYkaDP30edZ",
        "colab": {
          "base_uri": "https://localhost:8080/"
        },
        "outputId": "6e33ee54-2fd1-450e-e74a-93437b318c1e"
      },
      "execution_count": 20,
      "outputs": [
        {
          "output_type": "execute_result",
          "data": {
            "text/plain": [
              "[1.7254690606764278, 0.6903223070624952]"
            ]
          },
          "metadata": {},
          "execution_count": 20
        }
      ]
    },
    {
      "cell_type": "code",
      "source": [
        "dump(MOR, folder + 'MOR_best.joblib')"
      ],
      "metadata": {
        "id": "__2JdWwDevSW",
        "colab": {
          "base_uri": "https://localhost:8080/"
        },
        "outputId": "1a42b410-9f6b-41f5-bc4e-c4421479f2ae"
      },
      "execution_count": 21,
      "outputs": [
        {
          "output_type": "execute_result",
          "data": {
            "text/plain": [
              "['/content/drive/MyDrive/Colab Notebooks/final_project/MOR_best.joblib']"
            ]
          },
          "metadata": {},
          "execution_count": 21
        }
      ]
    },
    {
      "cell_type": "markdown",
      "source": [
        "#KNN Regresor"
      ],
      "metadata": {
        "id": "Y3KWrSkuj1bE"
      }
    },
    {
      "cell_type": "code",
      "source": [
        "param_grid_knr ={\n",
        "    'n_neighbors' : list(range(2,10,2)),\n",
        "    'algorithm' : ['ball_tree' , 'kd_tree'],\n",
        "}"
      ],
      "metadata": {
        "id": "0Jq7JTdk_Hjt"
      },
      "execution_count": 22,
      "outputs": []
    },
    {
      "cell_type": "code",
      "source": [
        "KNR = KNeighborsRegressor()"
      ],
      "metadata": {
        "id": "LDv87AqY_dsx"
      },
      "execution_count": 23,
      "outputs": []
    },
    {
      "cell_type": "code",
      "source": [
        "\n",
        "#KNR_reg_GS = GridSearchCV(KNR, param_grid_knr,verbose=2,n_jobs=1)\n",
        "\n",
        "#KNR_reg_GS.fit(X_train, y_train)"
      ],
      "metadata": {
        "id": "N9UTD8PM03dR"
      },
      "execution_count": 24,
      "outputs": []
    },
    {
      "cell_type": "code",
      "source": [
        "best_params_ = {'algorithm': 'ball_tree', 'n_neighbors': 8}\n"
      ],
      "metadata": {
        "id": "TIDyVYo11q0n"
      },
      "execution_count": 25,
      "outputs": []
    },
    {
      "cell_type": "code",
      "source": [
        "#KNR_best = KNeighborsRegressor(n_neighbors = KNR_reg_GS.best_params_['n_neighbors'],algorithm = KNR_reg_GS.best_params_['algorithm'])"
      ],
      "metadata": {
        "id": "YsostOXW_59z"
      },
      "execution_count": 26,
      "outputs": []
    },
    {
      "cell_type": "code",
      "source": [
        "KNR_best = KNeighborsRegressor(n_neighbors = best_params_['n_neighbors'],algorithm = best_params_['algorithm'])"
      ],
      "metadata": {
        "id": "YViwaAfewEms"
      },
      "execution_count": 27,
      "outputs": []
    },
    {
      "cell_type": "code",
      "source": [
        "KNR_best.fit(X_train,y_train)"
      ],
      "metadata": {
        "id": "81KG8dXzAbmK",
        "colab": {
          "base_uri": "https://localhost:8080/",
          "height": 75
        },
        "outputId": "fce4d221-662f-47c0-ffc6-0d79171b511f"
      },
      "execution_count": 28,
      "outputs": [
        {
          "output_type": "execute_result",
          "data": {
            "text/plain": [
              "KNeighborsRegressor(algorithm='ball_tree', n_neighbors=8)"
            ],
            "text/html": [
              "<style>#sk-container-id-2 {color: black;background-color: white;}#sk-container-id-2 pre{padding: 0;}#sk-container-id-2 div.sk-toggleable {background-color: white;}#sk-container-id-2 label.sk-toggleable__label {cursor: pointer;display: block;width: 100%;margin-bottom: 0;padding: 0.3em;box-sizing: border-box;text-align: center;}#sk-container-id-2 label.sk-toggleable__label-arrow:before {content: \"▸\";float: left;margin-right: 0.25em;color: #696969;}#sk-container-id-2 label.sk-toggleable__label-arrow:hover:before {color: black;}#sk-container-id-2 div.sk-estimator:hover label.sk-toggleable__label-arrow:before {color: black;}#sk-container-id-2 div.sk-toggleable__content {max-height: 0;max-width: 0;overflow: hidden;text-align: left;background-color: #f0f8ff;}#sk-container-id-2 div.sk-toggleable__content pre {margin: 0.2em;color: black;border-radius: 0.25em;background-color: #f0f8ff;}#sk-container-id-2 input.sk-toggleable__control:checked~div.sk-toggleable__content {max-height: 200px;max-width: 100%;overflow: auto;}#sk-container-id-2 input.sk-toggleable__control:checked~label.sk-toggleable__label-arrow:before {content: \"▾\";}#sk-container-id-2 div.sk-estimator input.sk-toggleable__control:checked~label.sk-toggleable__label {background-color: #d4ebff;}#sk-container-id-2 div.sk-label input.sk-toggleable__control:checked~label.sk-toggleable__label {background-color: #d4ebff;}#sk-container-id-2 input.sk-hidden--visually {border: 0;clip: rect(1px 1px 1px 1px);clip: rect(1px, 1px, 1px, 1px);height: 1px;margin: -1px;overflow: hidden;padding: 0;position: absolute;width: 1px;}#sk-container-id-2 div.sk-estimator {font-family: monospace;background-color: #f0f8ff;border: 1px dotted black;border-radius: 0.25em;box-sizing: border-box;margin-bottom: 0.5em;}#sk-container-id-2 div.sk-estimator:hover {background-color: #d4ebff;}#sk-container-id-2 div.sk-parallel-item::after {content: \"\";width: 100%;border-bottom: 1px solid gray;flex-grow: 1;}#sk-container-id-2 div.sk-label:hover label.sk-toggleable__label {background-color: #d4ebff;}#sk-container-id-2 div.sk-serial::before {content: \"\";position: absolute;border-left: 1px solid gray;box-sizing: border-box;top: 0;bottom: 0;left: 50%;z-index: 0;}#sk-container-id-2 div.sk-serial {display: flex;flex-direction: column;align-items: center;background-color: white;padding-right: 0.2em;padding-left: 0.2em;position: relative;}#sk-container-id-2 div.sk-item {position: relative;z-index: 1;}#sk-container-id-2 div.sk-parallel {display: flex;align-items: stretch;justify-content: center;background-color: white;position: relative;}#sk-container-id-2 div.sk-item::before, #sk-container-id-2 div.sk-parallel-item::before {content: \"\";position: absolute;border-left: 1px solid gray;box-sizing: border-box;top: 0;bottom: 0;left: 50%;z-index: -1;}#sk-container-id-2 div.sk-parallel-item {display: flex;flex-direction: column;z-index: 1;position: relative;background-color: white;}#sk-container-id-2 div.sk-parallel-item:first-child::after {align-self: flex-end;width: 50%;}#sk-container-id-2 div.sk-parallel-item:last-child::after {align-self: flex-start;width: 50%;}#sk-container-id-2 div.sk-parallel-item:only-child::after {width: 0;}#sk-container-id-2 div.sk-dashed-wrapped {border: 1px dashed gray;margin: 0 0.4em 0.5em 0.4em;box-sizing: border-box;padding-bottom: 0.4em;background-color: white;}#sk-container-id-2 div.sk-label label {font-family: monospace;font-weight: bold;display: inline-block;line-height: 1.2em;}#sk-container-id-2 div.sk-label-container {text-align: center;}#sk-container-id-2 div.sk-container {/* jupyter's `normalize.less` sets `[hidden] { display: none; }` but bootstrap.min.css set `[hidden] { display: none !important; }` so we also need the `!important` here to be able to override the default hidden behavior on the sphinx rendered scikit-learn.org. See: https://github.com/scikit-learn/scikit-learn/issues/21755 */display: inline-block !important;position: relative;}#sk-container-id-2 div.sk-text-repr-fallback {display: none;}</style><div id=\"sk-container-id-2\" class=\"sk-top-container\"><div class=\"sk-text-repr-fallback\"><pre>KNeighborsRegressor(algorithm=&#x27;ball_tree&#x27;, n_neighbors=8)</pre><b>In a Jupyter environment, please rerun this cell to show the HTML representation or trust the notebook. <br />On GitHub, the HTML representation is unable to render, please try loading this page with nbviewer.org.</b></div><div class=\"sk-container\" hidden><div class=\"sk-item\"><div class=\"sk-estimator sk-toggleable\"><input class=\"sk-toggleable__control sk-hidden--visually\" id=\"sk-estimator-id-4\" type=\"checkbox\" checked><label for=\"sk-estimator-id-4\" class=\"sk-toggleable__label sk-toggleable__label-arrow\">KNeighborsRegressor</label><div class=\"sk-toggleable__content\"><pre>KNeighborsRegressor(algorithm=&#x27;ball_tree&#x27;, n_neighbors=8)</pre></div></div></div></div></div>"
            ]
          },
          "metadata": {},
          "execution_count": 28
        }
      ]
    },
    {
      "cell_type": "code",
      "source": [
        "y_pred_KNR = KNR_best.predict(X_test)"
      ],
      "metadata": {
        "id": "gBFbK7GN2Nn5"
      },
      "execution_count": 29,
      "outputs": []
    },
    {
      "cell_type": "code",
      "source": [
        "MSE_test_KNR = mean_squared_error(y_test, y_pred_KNR)\n",
        "r2_test_KNR = r2_score(y_test, y_pred_KNR)\n",
        "[MSE_test_KNR, r2_test_KNR]"
      ],
      "metadata": {
        "id": "Kaz25OQJ8fGT",
        "colab": {
          "base_uri": "https://localhost:8080/"
        },
        "outputId": "4accd622-c943-450c-d824-13b4597318ce"
      },
      "execution_count": 30,
      "outputs": [
        {
          "output_type": "execute_result",
          "data": {
            "text/plain": [
              "[1.6179588790861201, 0.7084421244280198]"
            ]
          },
          "metadata": {},
          "execution_count": 30
        }
      ]
    },
    {
      "cell_type": "code",
      "source": [
        "\n",
        "dump(KNR_best, folder + 'KNR_best.joblib')"
      ],
      "metadata": {
        "id": "GV3STf07e4Vu",
        "colab": {
          "base_uri": "https://localhost:8080/"
        },
        "outputId": "9aa5193f-9e60-43f2-8d1a-cce06887a833"
      },
      "execution_count": 31,
      "outputs": [
        {
          "output_type": "execute_result",
          "data": {
            "text/plain": [
              "['/content/drive/MyDrive/Colab Notebooks/final_project/KNR_best.joblib']"
            ]
          },
          "metadata": {},
          "execution_count": 31
        }
      ]
    },
    {
      "cell_type": "markdown",
      "source": [
        "#MLP Regressor\n"
      ],
      "metadata": {
        "id": "ii7oL27HjvKK"
      }
    },
    {
      "cell_type": "code",
      "source": [
        "from sklearn.neural_network import MLPRegressor\n",
        "from sklearn.datasets import make_regression\n",
        "from sklearn.preprocessing import StandardScaler "
      ],
      "metadata": {
        "id": "52Nxu8-22PSD"
      },
      "execution_count": 32,
      "outputs": []
    },
    {
      "cell_type": "code",
      "source": [
        "scaler = StandardScaler()  \n",
        "scaler.fit(X_train)  \n",
        "X_train_scale = scaler.transform(X_train)  \n",
        "X_test_scale = scaler.transform(X_test)"
      ],
      "metadata": {
        "id": "McD1lnv2Mi9h"
      },
      "execution_count": 33,
      "outputs": []
    },
    {
      "cell_type": "code",
      "source": [
        "param_grid_mlp ={\n",
        "        'hidden_layer_sizes' : list(range(10,100,20)),\n",
        "        'activation' : ['identity', 'relu'],\n",
        "}\n"
      ],
      "metadata": {
        "id": "Lq_DazqMDXhz"
      },
      "execution_count": 34,
      "outputs": []
    },
    {
      "cell_type": "code",
      "source": [
        "MLP_reg = MLPRegressor(max_iter=5000)\n",
        "\n",
        "MLP_reg_GS = GridSearchCV(MLP_reg, param_grid_mlp,verbose=2)\n",
        "\n",
        "MLP_reg_GS.fit(X_train_scale, y_train)\n"
      ],
      "metadata": {
        "id": "G-z-8Fad2QVT",
        "colab": {
          "base_uri": "https://localhost:8080/",
          "height": 1000
        },
        "outputId": "59e7c67d-ca63-455f-b9de-2c3f3be738c2"
      },
      "execution_count": 35,
      "outputs": [
        {
          "output_type": "stream",
          "name": "stdout",
          "text": [
            "Fitting 5 folds for each of 10 candidates, totalling 50 fits\n",
            "[CV] END .........activation=identity, hidden_layer_sizes=10; total time=   5.0s\n",
            "[CV] END .........activation=identity, hidden_layer_sizes=10; total time=   3.3s\n",
            "[CV] END .........activation=identity, hidden_layer_sizes=10; total time=   3.7s\n",
            "[CV] END .........activation=identity, hidden_layer_sizes=10; total time=   3.5s\n",
            "[CV] END .........activation=identity, hidden_layer_sizes=10; total time=   5.4s\n",
            "[CV] END .........activation=identity, hidden_layer_sizes=30; total time=   3.6s\n",
            "[CV] END .........activation=identity, hidden_layer_sizes=30; total time=   4.0s\n",
            "[CV] END .........activation=identity, hidden_layer_sizes=30; total time=   5.6s\n",
            "[CV] END .........activation=identity, hidden_layer_sizes=30; total time=   2.9s\n",
            "[CV] END .........activation=identity, hidden_layer_sizes=30; total time=   4.1s\n",
            "[CV] END .........activation=identity, hidden_layer_sizes=50; total time=   3.7s\n",
            "[CV] END .........activation=identity, hidden_layer_sizes=50; total time=   3.6s\n",
            "[CV] END .........activation=identity, hidden_layer_sizes=50; total time=   3.0s\n",
            "[CV] END .........activation=identity, hidden_layer_sizes=50; total time=   2.8s\n",
            "[CV] END .........activation=identity, hidden_layer_sizes=50; total time=   3.7s\n",
            "[CV] END .........activation=identity, hidden_layer_sizes=70; total time=   3.8s\n",
            "[CV] END .........activation=identity, hidden_layer_sizes=70; total time=   3.2s\n",
            "[CV] END .........activation=identity, hidden_layer_sizes=70; total time=   3.0s\n",
            "[CV] END .........activation=identity, hidden_layer_sizes=70; total time=   3.3s\n",
            "[CV] END .........activation=identity, hidden_layer_sizes=70; total time=   3.8s\n",
            "[CV] END .........activation=identity, hidden_layer_sizes=90; total time=   3.0s\n",
            "[CV] END .........activation=identity, hidden_layer_sizes=90; total time=   3.2s\n",
            "[CV] END .........activation=identity, hidden_layer_sizes=90; total time=   3.6s\n",
            "[CV] END .........activation=identity, hidden_layer_sizes=90; total time=   3.7s\n",
            "[CV] END .........activation=identity, hidden_layer_sizes=90; total time=   3.7s\n",
            "[CV] END .............activation=relu, hidden_layer_sizes=10; total time=   8.0s\n",
            "[CV] END .............activation=relu, hidden_layer_sizes=10; total time=   7.2s\n",
            "[CV] END .............activation=relu, hidden_layer_sizes=10; total time=  10.3s\n",
            "[CV] END .............activation=relu, hidden_layer_sizes=10; total time=   7.4s\n",
            "[CV] END .............activation=relu, hidden_layer_sizes=10; total time=   8.5s\n",
            "[CV] END .............activation=relu, hidden_layer_sizes=30; total time=  14.1s\n",
            "[CV] END .............activation=relu, hidden_layer_sizes=30; total time=  10.4s\n",
            "[CV] END .............activation=relu, hidden_layer_sizes=30; total time=   6.2s\n",
            "[CV] END .............activation=relu, hidden_layer_sizes=30; total time=   9.3s\n",
            "[CV] END .............activation=relu, hidden_layer_sizes=30; total time=  12.1s\n",
            "[CV] END .............activation=relu, hidden_layer_sizes=50; total time=  10.1s\n",
            "[CV] END .............activation=relu, hidden_layer_sizes=50; total time=   8.6s\n",
            "[CV] END .............activation=relu, hidden_layer_sizes=50; total time=  14.8s\n",
            "[CV] END .............activation=relu, hidden_layer_sizes=50; total time=  13.9s\n",
            "[CV] END .............activation=relu, hidden_layer_sizes=50; total time=  11.4s\n",
            "[CV] END .............activation=relu, hidden_layer_sizes=70; total time=  16.5s\n",
            "[CV] END .............activation=relu, hidden_layer_sizes=70; total time=  10.1s\n",
            "[CV] END .............activation=relu, hidden_layer_sizes=70; total time=  25.5s\n",
            "[CV] END .............activation=relu, hidden_layer_sizes=70; total time=  15.3s\n",
            "[CV] END .............activation=relu, hidden_layer_sizes=70; total time=  21.1s\n",
            "[CV] END .............activation=relu, hidden_layer_sizes=90; total time=  29.0s\n",
            "[CV] END .............activation=relu, hidden_layer_sizes=90; total time=  21.8s\n",
            "[CV] END .............activation=relu, hidden_layer_sizes=90; total time=  24.6s\n",
            "[CV] END .............activation=relu, hidden_layer_sizes=90; total time=  16.4s\n",
            "[CV] END .............activation=relu, hidden_layer_sizes=90; total time=  18.5s\n"
          ]
        },
        {
          "output_type": "execute_result",
          "data": {
            "text/plain": [
              "GridSearchCV(estimator=MLPRegressor(max_iter=5000),\n",
              "             param_grid={'activation': ['identity', 'relu'],\n",
              "                         'hidden_layer_sizes': [10, 30, 50, 70, 90]},\n",
              "             verbose=2)"
            ],
            "text/html": [
              "<style>#sk-container-id-3 {color: black;background-color: white;}#sk-container-id-3 pre{padding: 0;}#sk-container-id-3 div.sk-toggleable {background-color: white;}#sk-container-id-3 label.sk-toggleable__label {cursor: pointer;display: block;width: 100%;margin-bottom: 0;padding: 0.3em;box-sizing: border-box;text-align: center;}#sk-container-id-3 label.sk-toggleable__label-arrow:before {content: \"▸\";float: left;margin-right: 0.25em;color: #696969;}#sk-container-id-3 label.sk-toggleable__label-arrow:hover:before {color: black;}#sk-container-id-3 div.sk-estimator:hover label.sk-toggleable__label-arrow:before {color: black;}#sk-container-id-3 div.sk-toggleable__content {max-height: 0;max-width: 0;overflow: hidden;text-align: left;background-color: #f0f8ff;}#sk-container-id-3 div.sk-toggleable__content pre {margin: 0.2em;color: black;border-radius: 0.25em;background-color: #f0f8ff;}#sk-container-id-3 input.sk-toggleable__control:checked~div.sk-toggleable__content {max-height: 200px;max-width: 100%;overflow: auto;}#sk-container-id-3 input.sk-toggleable__control:checked~label.sk-toggleable__label-arrow:before {content: \"▾\";}#sk-container-id-3 div.sk-estimator input.sk-toggleable__control:checked~label.sk-toggleable__label {background-color: #d4ebff;}#sk-container-id-3 div.sk-label input.sk-toggleable__control:checked~label.sk-toggleable__label {background-color: #d4ebff;}#sk-container-id-3 input.sk-hidden--visually {border: 0;clip: rect(1px 1px 1px 1px);clip: rect(1px, 1px, 1px, 1px);height: 1px;margin: -1px;overflow: hidden;padding: 0;position: absolute;width: 1px;}#sk-container-id-3 div.sk-estimator {font-family: monospace;background-color: #f0f8ff;border: 1px dotted black;border-radius: 0.25em;box-sizing: border-box;margin-bottom: 0.5em;}#sk-container-id-3 div.sk-estimator:hover {background-color: #d4ebff;}#sk-container-id-3 div.sk-parallel-item::after {content: \"\";width: 100%;border-bottom: 1px solid gray;flex-grow: 1;}#sk-container-id-3 div.sk-label:hover label.sk-toggleable__label {background-color: #d4ebff;}#sk-container-id-3 div.sk-serial::before {content: \"\";position: absolute;border-left: 1px solid gray;box-sizing: border-box;top: 0;bottom: 0;left: 50%;z-index: 0;}#sk-container-id-3 div.sk-serial {display: flex;flex-direction: column;align-items: center;background-color: white;padding-right: 0.2em;padding-left: 0.2em;position: relative;}#sk-container-id-3 div.sk-item {position: relative;z-index: 1;}#sk-container-id-3 div.sk-parallel {display: flex;align-items: stretch;justify-content: center;background-color: white;position: relative;}#sk-container-id-3 div.sk-item::before, #sk-container-id-3 div.sk-parallel-item::before {content: \"\";position: absolute;border-left: 1px solid gray;box-sizing: border-box;top: 0;bottom: 0;left: 50%;z-index: -1;}#sk-container-id-3 div.sk-parallel-item {display: flex;flex-direction: column;z-index: 1;position: relative;background-color: white;}#sk-container-id-3 div.sk-parallel-item:first-child::after {align-self: flex-end;width: 50%;}#sk-container-id-3 div.sk-parallel-item:last-child::after {align-self: flex-start;width: 50%;}#sk-container-id-3 div.sk-parallel-item:only-child::after {width: 0;}#sk-container-id-3 div.sk-dashed-wrapped {border: 1px dashed gray;margin: 0 0.4em 0.5em 0.4em;box-sizing: border-box;padding-bottom: 0.4em;background-color: white;}#sk-container-id-3 div.sk-label label {font-family: monospace;font-weight: bold;display: inline-block;line-height: 1.2em;}#sk-container-id-3 div.sk-label-container {text-align: center;}#sk-container-id-3 div.sk-container {/* jupyter's `normalize.less` sets `[hidden] { display: none; }` but bootstrap.min.css set `[hidden] { display: none !important; }` so we also need the `!important` here to be able to override the default hidden behavior on the sphinx rendered scikit-learn.org. See: https://github.com/scikit-learn/scikit-learn/issues/21755 */display: inline-block !important;position: relative;}#sk-container-id-3 div.sk-text-repr-fallback {display: none;}</style><div id=\"sk-container-id-3\" class=\"sk-top-container\"><div class=\"sk-text-repr-fallback\"><pre>GridSearchCV(estimator=MLPRegressor(max_iter=5000),\n",
              "             param_grid={&#x27;activation&#x27;: [&#x27;identity&#x27;, &#x27;relu&#x27;],\n",
              "                         &#x27;hidden_layer_sizes&#x27;: [10, 30, 50, 70, 90]},\n",
              "             verbose=2)</pre><b>In a Jupyter environment, please rerun this cell to show the HTML representation or trust the notebook. <br />On GitHub, the HTML representation is unable to render, please try loading this page with nbviewer.org.</b></div><div class=\"sk-container\" hidden><div class=\"sk-item sk-dashed-wrapped\"><div class=\"sk-label-container\"><div class=\"sk-label sk-toggleable\"><input class=\"sk-toggleable__control sk-hidden--visually\" id=\"sk-estimator-id-5\" type=\"checkbox\" ><label for=\"sk-estimator-id-5\" class=\"sk-toggleable__label sk-toggleable__label-arrow\">GridSearchCV</label><div class=\"sk-toggleable__content\"><pre>GridSearchCV(estimator=MLPRegressor(max_iter=5000),\n",
              "             param_grid={&#x27;activation&#x27;: [&#x27;identity&#x27;, &#x27;relu&#x27;],\n",
              "                         &#x27;hidden_layer_sizes&#x27;: [10, 30, 50, 70, 90]},\n",
              "             verbose=2)</pre></div></div></div><div class=\"sk-parallel\"><div class=\"sk-parallel-item\"><div class=\"sk-item\"><div class=\"sk-label-container\"><div class=\"sk-label sk-toggleable\"><input class=\"sk-toggleable__control sk-hidden--visually\" id=\"sk-estimator-id-6\" type=\"checkbox\" ><label for=\"sk-estimator-id-6\" class=\"sk-toggleable__label sk-toggleable__label-arrow\">estimator: MLPRegressor</label><div class=\"sk-toggleable__content\"><pre>MLPRegressor(max_iter=5000)</pre></div></div></div><div class=\"sk-serial\"><div class=\"sk-item\"><div class=\"sk-estimator sk-toggleable\"><input class=\"sk-toggleable__control sk-hidden--visually\" id=\"sk-estimator-id-7\" type=\"checkbox\" ><label for=\"sk-estimator-id-7\" class=\"sk-toggleable__label sk-toggleable__label-arrow\">MLPRegressor</label><div class=\"sk-toggleable__content\"><pre>MLPRegressor(max_iter=5000)</pre></div></div></div></div></div></div></div></div></div></div>"
            ]
          },
          "metadata": {},
          "execution_count": 35
        }
      ]
    },
    {
      "cell_type": "code",
      "source": [],
      "metadata": {
        "id": "inuA3rvUUZpO"
      },
      "execution_count": 35,
      "outputs": []
    },
    {
      "cell_type": "code",
      "source": [
        "best_params_ = {'activation': 'identity','hidden_layer_sizes': 100}\n",
        "best_params_ = MLP_reg_GS.best_params_\n",
        "best_params_"
      ],
      "metadata": {
        "id": "y14Yz7pKUges",
        "colab": {
          "base_uri": "https://localhost:8080/"
        },
        "outputId": "edf569f8-323a-4d52-e4e1-033063132465"
      },
      "execution_count": 60,
      "outputs": [
        {
          "output_type": "execute_result",
          "data": {
            "text/plain": [
              "{'activation': 'relu', 'hidden_layer_sizes': 30}"
            ]
          },
          "metadata": {},
          "execution_count": 60
        }
      ]
    },
    {
      "cell_type": "code",
      "source": [
        "MLP_reg_GS_best = MLPRegressor(max_iter=500,verbose=1,hidden_layer_sizes = best_params_['hidden_layer_sizes'],activation = best_params_['activation'])"
      ],
      "metadata": {
        "id": "OK0B8pXQwVcF"
      },
      "execution_count": 37,
      "outputs": []
    },
    {
      "cell_type": "code",
      "source": [
        "dump(MLP_reg_GS_best, folder + 'MLP_reg_GS_best.joblib')"
      ],
      "metadata": {
        "id": "AIcD8vfdCQuc",
        "colab": {
          "base_uri": "https://localhost:8080/"
        },
        "outputId": "261602b4-eb1b-4e2e-b4fd-dab636846074"
      },
      "execution_count": 38,
      "outputs": [
        {
          "output_type": "execute_result",
          "data": {
            "text/plain": [
              "['/content/drive/MyDrive/Colab Notebooks/final_project/MLP_reg_GS_best.joblib']"
            ]
          },
          "metadata": {},
          "execution_count": 38
        }
      ]
    },
    {
      "cell_type": "code",
      "source": [
        "MLP_reg_GS_best.fit(X_train_scale,y_train)"
      ],
      "metadata": {
        "id": "0GWy5fU-4BfT",
        "colab": {
          "base_uri": "https://localhost:8080/",
          "height": 1000
        },
        "outputId": "aaf02c82-f7ec-4e6c-ad6a-6a219295b4d8"
      },
      "execution_count": 39,
      "outputs": [
        {
          "output_type": "stream",
          "name": "stdout",
          "text": [
            "Iteration 1, loss = 16981.43525602\n",
            "Iteration 2, loss = 12386.82644608\n",
            "Iteration 3, loss = 6137.59978844\n",
            "Iteration 4, loss = 2400.81755341\n",
            "Iteration 5, loss = 1108.37222863\n",
            "Iteration 6, loss = 726.30050592\n",
            "Iteration 7, loss = 552.83347575\n",
            "Iteration 8, loss = 441.00273288\n",
            "Iteration 9, loss = 362.33953825\n",
            "Iteration 10, loss = 301.16747112\n",
            "Iteration 11, loss = 248.22724918\n",
            "Iteration 12, loss = 199.61498319\n",
            "Iteration 13, loss = 154.83898849\n",
            "Iteration 14, loss = 115.17454931\n",
            "Iteration 15, loss = 82.23605036\n",
            "Iteration 16, loss = 56.98362437\n",
            "Iteration 17, loss = 39.18044625\n",
            "Iteration 18, loss = 27.30828929\n",
            "Iteration 19, loss = 19.52520660\n",
            "Iteration 20, loss = 14.34866911\n",
            "Iteration 21, loss = 10.78899949\n",
            "Iteration 22, loss = 8.26861635\n",
            "Iteration 23, loss = 6.45284633\n",
            "Iteration 24, loss = 5.14567591\n",
            "Iteration 25, loss = 4.19456214\n",
            "Iteration 26, loss = 3.48635558\n",
            "Iteration 27, loss = 2.93372332\n",
            "Iteration 28, loss = 2.48534124\n",
            "Iteration 29, loss = 2.10201070\n",
            "Iteration 30, loss = 1.76465526\n",
            "Iteration 31, loss = 1.47704888\n",
            "Iteration 32, loss = 1.24895967\n",
            "Iteration 33, loss = 1.08308545\n",
            "Iteration 34, loss = 0.97208101\n",
            "Iteration 35, loss = 0.89945662\n",
            "Iteration 36, loss = 0.85289402\n",
            "Iteration 37, loss = 0.82151948\n",
            "Iteration 38, loss = 0.79843561\n",
            "Iteration 39, loss = 0.78238762\n",
            "Iteration 40, loss = 0.77107654\n",
            "Iteration 41, loss = 0.76191890\n",
            "Iteration 42, loss = 0.75518579\n",
            "Iteration 43, loss = 0.74991871\n",
            "Iteration 44, loss = 0.74724874\n",
            "Iteration 45, loss = 0.74418726\n",
            "Iteration 46, loss = 0.74233772\n",
            "Iteration 47, loss = 0.74230855\n",
            "Iteration 48, loss = 0.74153755\n",
            "Iteration 49, loss = 0.74088713\n",
            "Iteration 50, loss = 0.74050275\n",
            "Iteration 51, loss = 0.74150641\n",
            "Iteration 52, loss = 0.74097667\n",
            "Iteration 53, loss = 0.74082438\n",
            "Iteration 54, loss = 0.74160201\n",
            "Iteration 55, loss = 0.74036307\n",
            "Iteration 56, loss = 0.74072304\n",
            "Iteration 57, loss = 0.74013487\n",
            "Iteration 58, loss = 0.73990768\n",
            "Iteration 59, loss = 0.74149504\n",
            "Iteration 60, loss = 0.74154145\n",
            "Iteration 61, loss = 0.73940856\n",
            "Iteration 62, loss = 0.74060394\n",
            "Iteration 63, loss = 0.74041707\n",
            "Iteration 64, loss = 0.73942817\n",
            "Iteration 65, loss = 0.73987671\n",
            "Iteration 66, loss = 0.73990156\n",
            "Iteration 67, loss = 0.73896591\n",
            "Iteration 68, loss = 0.74141832\n",
            "Iteration 69, loss = 0.73976368\n",
            "Iteration 70, loss = 0.74031641\n",
            "Iteration 71, loss = 0.74071770\n",
            "Iteration 72, loss = 0.74068962\n",
            "Iteration 73, loss = 0.73971478\n",
            "Iteration 74, loss = 0.74044293\n",
            "Iteration 75, loss = 0.73989167\n",
            "Iteration 76, loss = 0.73981840\n",
            "Iteration 77, loss = 0.74034598\n",
            "Iteration 78, loss = 0.73996232\n",
            "Training loss did not improve more than tol=0.000100 for 10 consecutive epochs. Stopping.\n"
          ]
        },
        {
          "output_type": "execute_result",
          "data": {
            "text/plain": [
              "MLPRegressor(hidden_layer_sizes=30, max_iter=500, verbose=1)"
            ],
            "text/html": [
              "<style>#sk-container-id-4 {color: black;background-color: white;}#sk-container-id-4 pre{padding: 0;}#sk-container-id-4 div.sk-toggleable {background-color: white;}#sk-container-id-4 label.sk-toggleable__label {cursor: pointer;display: block;width: 100%;margin-bottom: 0;padding: 0.3em;box-sizing: border-box;text-align: center;}#sk-container-id-4 label.sk-toggleable__label-arrow:before {content: \"▸\";float: left;margin-right: 0.25em;color: #696969;}#sk-container-id-4 label.sk-toggleable__label-arrow:hover:before {color: black;}#sk-container-id-4 div.sk-estimator:hover label.sk-toggleable__label-arrow:before {color: black;}#sk-container-id-4 div.sk-toggleable__content {max-height: 0;max-width: 0;overflow: hidden;text-align: left;background-color: #f0f8ff;}#sk-container-id-4 div.sk-toggleable__content pre {margin: 0.2em;color: black;border-radius: 0.25em;background-color: #f0f8ff;}#sk-container-id-4 input.sk-toggleable__control:checked~div.sk-toggleable__content {max-height: 200px;max-width: 100%;overflow: auto;}#sk-container-id-4 input.sk-toggleable__control:checked~label.sk-toggleable__label-arrow:before {content: \"▾\";}#sk-container-id-4 div.sk-estimator input.sk-toggleable__control:checked~label.sk-toggleable__label {background-color: #d4ebff;}#sk-container-id-4 div.sk-label input.sk-toggleable__control:checked~label.sk-toggleable__label {background-color: #d4ebff;}#sk-container-id-4 input.sk-hidden--visually {border: 0;clip: rect(1px 1px 1px 1px);clip: rect(1px, 1px, 1px, 1px);height: 1px;margin: -1px;overflow: hidden;padding: 0;position: absolute;width: 1px;}#sk-container-id-4 div.sk-estimator {font-family: monospace;background-color: #f0f8ff;border: 1px dotted black;border-radius: 0.25em;box-sizing: border-box;margin-bottom: 0.5em;}#sk-container-id-4 div.sk-estimator:hover {background-color: #d4ebff;}#sk-container-id-4 div.sk-parallel-item::after {content: \"\";width: 100%;border-bottom: 1px solid gray;flex-grow: 1;}#sk-container-id-4 div.sk-label:hover label.sk-toggleable__label {background-color: #d4ebff;}#sk-container-id-4 div.sk-serial::before {content: \"\";position: absolute;border-left: 1px solid gray;box-sizing: border-box;top: 0;bottom: 0;left: 50%;z-index: 0;}#sk-container-id-4 div.sk-serial {display: flex;flex-direction: column;align-items: center;background-color: white;padding-right: 0.2em;padding-left: 0.2em;position: relative;}#sk-container-id-4 div.sk-item {position: relative;z-index: 1;}#sk-container-id-4 div.sk-parallel {display: flex;align-items: stretch;justify-content: center;background-color: white;position: relative;}#sk-container-id-4 div.sk-item::before, #sk-container-id-4 div.sk-parallel-item::before {content: \"\";position: absolute;border-left: 1px solid gray;box-sizing: border-box;top: 0;bottom: 0;left: 50%;z-index: -1;}#sk-container-id-4 div.sk-parallel-item {display: flex;flex-direction: column;z-index: 1;position: relative;background-color: white;}#sk-container-id-4 div.sk-parallel-item:first-child::after {align-self: flex-end;width: 50%;}#sk-container-id-4 div.sk-parallel-item:last-child::after {align-self: flex-start;width: 50%;}#sk-container-id-4 div.sk-parallel-item:only-child::after {width: 0;}#sk-container-id-4 div.sk-dashed-wrapped {border: 1px dashed gray;margin: 0 0.4em 0.5em 0.4em;box-sizing: border-box;padding-bottom: 0.4em;background-color: white;}#sk-container-id-4 div.sk-label label {font-family: monospace;font-weight: bold;display: inline-block;line-height: 1.2em;}#sk-container-id-4 div.sk-label-container {text-align: center;}#sk-container-id-4 div.sk-container {/* jupyter's `normalize.less` sets `[hidden] { display: none; }` but bootstrap.min.css set `[hidden] { display: none !important; }` so we also need the `!important` here to be able to override the default hidden behavior on the sphinx rendered scikit-learn.org. See: https://github.com/scikit-learn/scikit-learn/issues/21755 */display: inline-block !important;position: relative;}#sk-container-id-4 div.sk-text-repr-fallback {display: none;}</style><div id=\"sk-container-id-4\" class=\"sk-top-container\"><div class=\"sk-text-repr-fallback\"><pre>MLPRegressor(hidden_layer_sizes=30, max_iter=500, verbose=1)</pre><b>In a Jupyter environment, please rerun this cell to show the HTML representation or trust the notebook. <br />On GitHub, the HTML representation is unable to render, please try loading this page with nbviewer.org.</b></div><div class=\"sk-container\" hidden><div class=\"sk-item\"><div class=\"sk-estimator sk-toggleable\"><input class=\"sk-toggleable__control sk-hidden--visually\" id=\"sk-estimator-id-8\" type=\"checkbox\" checked><label for=\"sk-estimator-id-8\" class=\"sk-toggleable__label sk-toggleable__label-arrow\">MLPRegressor</label><div class=\"sk-toggleable__content\"><pre>MLPRegressor(hidden_layer_sizes=30, max_iter=500, verbose=1)</pre></div></div></div></div></div>"
            ]
          },
          "metadata": {},
          "execution_count": 39
        }
      ]
    },
    {
      "cell_type": "code",
      "source": [
        "y_pred_MLP = MLP_reg_GS_best.predict(X_test_scale)"
      ],
      "metadata": {
        "id": "m0qkVCr2CTOO"
      },
      "execution_count": 40,
      "outputs": []
    },
    {
      "cell_type": "code",
      "source": [
        "MSE_test_MLP = mean_squared_error(y_test, y_pred_MLP)\n",
        "r2_test_MLP = r2_score(y_test, y_pred_MLP)\n",
        "[MSE_test_KNR,r2_test_MLP]"
      ],
      "metadata": {
        "id": "9LAHw3JW3zQ_",
        "colab": {
          "base_uri": "https://localhost:8080/"
        },
        "outputId": "15e08b08-50f4-4423-a6cc-f7fcd822e2eb"
      },
      "execution_count": 41,
      "outputs": [
        {
          "output_type": "execute_result",
          "data": {
            "text/plain": [
              "[1.6179588790861201, 0.7404749870246464]"
            ]
          },
          "metadata": {},
          "execution_count": 41
        }
      ]
    },
    {
      "cell_type": "markdown",
      "source": [
        "#Decission Tree Regresor"
      ],
      "metadata": {
        "id": "0_K6iQLejqBp"
      }
    },
    {
      "cell_type": "code",
      "source": [
        "dt_reg = DecisionTreeRegressor(random_state=0)"
      ],
      "metadata": {
        "id": "BsO5I5CzfkQl"
      },
      "execution_count": 42,
      "outputs": []
    },
    {
      "cell_type": "code",
      "source": [
        "param_grid_dt ={\n",
        "    'max_depth' : list(range(2,21,2)),\n",
        "    'min_samples_split' : list(range(2,21,2)),\n",
        "}"
      ],
      "metadata": {
        "id": "amkmcm-Mjbbi"
      },
      "execution_count": 43,
      "outputs": []
    },
    {
      "cell_type": "code",
      "source": [
        "dt_reg_GS = GridSearchCV(dt_reg, param_grid_dt,verbose=2,n_jobs=1)\n",
        "\n",
        "dt_reg_GS.fit(X_train, y_train)"
      ],
      "metadata": {
        "id": "tUdBBToEjeNX",
        "colab": {
          "base_uri": "https://localhost:8080/",
          "height": 1000
        },
        "outputId": "1fd8872b-af4a-4967-b18a-20d03f70a0f2"
      },
      "execution_count": 44,
      "outputs": [
        {
          "output_type": "stream",
          "name": "stdout",
          "text": [
            "Fitting 5 folds for each of 100 candidates, totalling 500 fits\n",
            "[CV] END ...................max_depth=2, min_samples_split=2; total time=   0.1s\n",
            "[CV] END ...................max_depth=2, min_samples_split=2; total time=   0.1s\n",
            "[CV] END ...................max_depth=2, min_samples_split=2; total time=   0.1s\n",
            "[CV] END ...................max_depth=2, min_samples_split=2; total time=   0.1s\n",
            "[CV] END ...................max_depth=2, min_samples_split=2; total time=   0.1s\n",
            "[CV] END ...................max_depth=2, min_samples_split=4; total time=   0.1s\n",
            "[CV] END ...................max_depth=2, min_samples_split=4; total time=   0.1s\n",
            "[CV] END ...................max_depth=2, min_samples_split=4; total time=   0.1s\n",
            "[CV] END ...................max_depth=2, min_samples_split=4; total time=   0.1s\n",
            "[CV] END ...................max_depth=2, min_samples_split=4; total time=   0.1s\n",
            "[CV] END ...................max_depth=2, min_samples_split=6; total time=   0.1s\n",
            "[CV] END ...................max_depth=2, min_samples_split=6; total time=   0.1s\n",
            "[CV] END ...................max_depth=2, min_samples_split=6; total time=   0.1s\n",
            "[CV] END ...................max_depth=2, min_samples_split=6; total time=   0.1s\n",
            "[CV] END ...................max_depth=2, min_samples_split=6; total time=   0.1s\n",
            "[CV] END ...................max_depth=2, min_samples_split=8; total time=   0.1s\n",
            "[CV] END ...................max_depth=2, min_samples_split=8; total time=   0.1s\n",
            "[CV] END ...................max_depth=2, min_samples_split=8; total time=   0.1s\n",
            "[CV] END ...................max_depth=2, min_samples_split=8; total time=   0.1s\n",
            "[CV] END ...................max_depth=2, min_samples_split=8; total time=   0.1s\n",
            "[CV] END ..................max_depth=2, min_samples_split=10; total time=   0.1s\n",
            "[CV] END ..................max_depth=2, min_samples_split=10; total time=   0.1s\n",
            "[CV] END ..................max_depth=2, min_samples_split=10; total time=   0.1s\n",
            "[CV] END ..................max_depth=2, min_samples_split=10; total time=   0.1s\n",
            "[CV] END ..................max_depth=2, min_samples_split=10; total time=   0.1s\n",
            "[CV] END ..................max_depth=2, min_samples_split=12; total time=   0.1s\n",
            "[CV] END ..................max_depth=2, min_samples_split=12; total time=   0.1s\n",
            "[CV] END ..................max_depth=2, min_samples_split=12; total time=   0.1s\n",
            "[CV] END ..................max_depth=2, min_samples_split=12; total time=   0.1s\n",
            "[CV] END ..................max_depth=2, min_samples_split=12; total time=   0.1s\n",
            "[CV] END ..................max_depth=2, min_samples_split=14; total time=   0.1s\n",
            "[CV] END ..................max_depth=2, min_samples_split=14; total time=   0.1s\n",
            "[CV] END ..................max_depth=2, min_samples_split=14; total time=   0.1s\n",
            "[CV] END ..................max_depth=2, min_samples_split=14; total time=   0.1s\n",
            "[CV] END ..................max_depth=2, min_samples_split=14; total time=   0.1s\n",
            "[CV] END ..................max_depth=2, min_samples_split=16; total time=   0.1s\n",
            "[CV] END ..................max_depth=2, min_samples_split=16; total time=   0.1s\n",
            "[CV] END ..................max_depth=2, min_samples_split=16; total time=   0.1s\n",
            "[CV] END ..................max_depth=2, min_samples_split=16; total time=   0.1s\n",
            "[CV] END ..................max_depth=2, min_samples_split=16; total time=   0.1s\n",
            "[CV] END ..................max_depth=2, min_samples_split=18; total time=   0.1s\n",
            "[CV] END ..................max_depth=2, min_samples_split=18; total time=   0.1s\n",
            "[CV] END ..................max_depth=2, min_samples_split=18; total time=   0.1s\n",
            "[CV] END ..................max_depth=2, min_samples_split=18; total time=   0.1s\n",
            "[CV] END ..................max_depth=2, min_samples_split=18; total time=   0.1s\n",
            "[CV] END ..................max_depth=2, min_samples_split=20; total time=   0.1s\n",
            "[CV] END ..................max_depth=2, min_samples_split=20; total time=   0.1s\n",
            "[CV] END ..................max_depth=2, min_samples_split=20; total time=   0.1s\n",
            "[CV] END ..................max_depth=2, min_samples_split=20; total time=   0.1s\n",
            "[CV] END ..................max_depth=2, min_samples_split=20; total time=   0.1s\n",
            "[CV] END ...................max_depth=4, min_samples_split=2; total time=   0.1s\n",
            "[CV] END ...................max_depth=4, min_samples_split=2; total time=   0.1s\n",
            "[CV] END ...................max_depth=4, min_samples_split=2; total time=   0.1s\n",
            "[CV] END ...................max_depth=4, min_samples_split=2; total time=   0.1s\n",
            "[CV] END ...................max_depth=4, min_samples_split=2; total time=   0.1s\n",
            "[CV] END ...................max_depth=4, min_samples_split=4; total time=   0.1s\n",
            "[CV] END ...................max_depth=4, min_samples_split=4; total time=   0.1s\n",
            "[CV] END ...................max_depth=4, min_samples_split=4; total time=   0.1s\n",
            "[CV] END ...................max_depth=4, min_samples_split=4; total time=   0.1s\n",
            "[CV] END ...................max_depth=4, min_samples_split=4; total time=   0.1s\n",
            "[CV] END ...................max_depth=4, min_samples_split=6; total time=   0.1s\n",
            "[CV] END ...................max_depth=4, min_samples_split=6; total time=   0.1s\n",
            "[CV] END ...................max_depth=4, min_samples_split=6; total time=   0.1s\n",
            "[CV] END ...................max_depth=4, min_samples_split=6; total time=   0.1s\n",
            "[CV] END ...................max_depth=4, min_samples_split=6; total time=   0.1s\n",
            "[CV] END ...................max_depth=4, min_samples_split=8; total time=   0.1s\n",
            "[CV] END ...................max_depth=4, min_samples_split=8; total time=   0.2s\n",
            "[CV] END ...................max_depth=4, min_samples_split=8; total time=   0.2s\n",
            "[CV] END ...................max_depth=4, min_samples_split=8; total time=   0.2s\n",
            "[CV] END ...................max_depth=4, min_samples_split=8; total time=   0.2s\n",
            "[CV] END ..................max_depth=4, min_samples_split=10; total time=   0.2s\n",
            "[CV] END ..................max_depth=4, min_samples_split=10; total time=   0.2s\n",
            "[CV] END ..................max_depth=4, min_samples_split=10; total time=   0.2s\n",
            "[CV] END ..................max_depth=4, min_samples_split=10; total time=   0.2s\n",
            "[CV] END ..................max_depth=4, min_samples_split=10; total time=   0.2s\n",
            "[CV] END ..................max_depth=4, min_samples_split=12; total time=   0.2s\n",
            "[CV] END ..................max_depth=4, min_samples_split=12; total time=   0.2s\n",
            "[CV] END ..................max_depth=4, min_samples_split=12; total time=   0.2s\n",
            "[CV] END ..................max_depth=4, min_samples_split=12; total time=   0.2s\n",
            "[CV] END ..................max_depth=4, min_samples_split=12; total time=   0.2s\n",
            "[CV] END ..................max_depth=4, min_samples_split=14; total time=   0.2s\n",
            "[CV] END ..................max_depth=4, min_samples_split=14; total time=   0.2s\n",
            "[CV] END ..................max_depth=4, min_samples_split=14; total time=   0.2s\n",
            "[CV] END ..................max_depth=4, min_samples_split=14; total time=   0.2s\n",
            "[CV] END ..................max_depth=4, min_samples_split=14; total time=   0.2s\n",
            "[CV] END ..................max_depth=4, min_samples_split=16; total time=   0.2s\n",
            "[CV] END ..................max_depth=4, min_samples_split=16; total time=   0.2s\n",
            "[CV] END ..................max_depth=4, min_samples_split=16; total time=   0.2s\n",
            "[CV] END ..................max_depth=4, min_samples_split=16; total time=   0.1s\n",
            "[CV] END ..................max_depth=4, min_samples_split=16; total time=   0.1s\n",
            "[CV] END ..................max_depth=4, min_samples_split=18; total time=   0.1s\n",
            "[CV] END ..................max_depth=4, min_samples_split=18; total time=   0.1s\n",
            "[CV] END ..................max_depth=4, min_samples_split=18; total time=   0.1s\n",
            "[CV] END ..................max_depth=4, min_samples_split=18; total time=   0.1s\n",
            "[CV] END ..................max_depth=4, min_samples_split=18; total time=   0.1s\n",
            "[CV] END ..................max_depth=4, min_samples_split=20; total time=   0.1s\n",
            "[CV] END ..................max_depth=4, min_samples_split=20; total time=   0.1s\n",
            "[CV] END ..................max_depth=4, min_samples_split=20; total time=   0.1s\n",
            "[CV] END ..................max_depth=4, min_samples_split=20; total time=   0.1s\n",
            "[CV] END ..................max_depth=4, min_samples_split=20; total time=   0.1s\n",
            "[CV] END ...................max_depth=6, min_samples_split=2; total time=   0.2s\n",
            "[CV] END ...................max_depth=6, min_samples_split=2; total time=   0.2s\n",
            "[CV] END ...................max_depth=6, min_samples_split=2; total time=   0.2s\n",
            "[CV] END ...................max_depth=6, min_samples_split=2; total time=   0.2s\n",
            "[CV] END ...................max_depth=6, min_samples_split=2; total time=   0.2s\n",
            "[CV] END ...................max_depth=6, min_samples_split=4; total time=   0.2s\n",
            "[CV] END ...................max_depth=6, min_samples_split=4; total time=   0.2s\n",
            "[CV] END ...................max_depth=6, min_samples_split=4; total time=   0.2s\n",
            "[CV] END ...................max_depth=6, min_samples_split=4; total time=   0.2s\n",
            "[CV] END ...................max_depth=6, min_samples_split=4; total time=   0.2s\n",
            "[CV] END ...................max_depth=6, min_samples_split=6; total time=   0.2s\n",
            "[CV] END ...................max_depth=6, min_samples_split=6; total time=   0.2s\n",
            "[CV] END ...................max_depth=6, min_samples_split=6; total time=   0.2s\n",
            "[CV] END ...................max_depth=6, min_samples_split=6; total time=   0.2s\n",
            "[CV] END ...................max_depth=6, min_samples_split=6; total time=   0.2s\n",
            "[CV] END ...................max_depth=6, min_samples_split=8; total time=   0.2s\n",
            "[CV] END ...................max_depth=6, min_samples_split=8; total time=   0.2s\n",
            "[CV] END ...................max_depth=6, min_samples_split=8; total time=   0.2s\n",
            "[CV] END ...................max_depth=6, min_samples_split=8; total time=   0.2s\n",
            "[CV] END ...................max_depth=6, min_samples_split=8; total time=   0.2s\n",
            "[CV] END ..................max_depth=6, min_samples_split=10; total time=   0.2s\n",
            "[CV] END ..................max_depth=6, min_samples_split=10; total time=   0.2s\n",
            "[CV] END ..................max_depth=6, min_samples_split=10; total time=   0.2s\n",
            "[CV] END ..................max_depth=6, min_samples_split=10; total time=   0.2s\n",
            "[CV] END ..................max_depth=6, min_samples_split=10; total time=   0.2s\n",
            "[CV] END ..................max_depth=6, min_samples_split=12; total time=   0.2s\n",
            "[CV] END ..................max_depth=6, min_samples_split=12; total time=   0.2s\n",
            "[CV] END ..................max_depth=6, min_samples_split=12; total time=   0.2s\n",
            "[CV] END ..................max_depth=6, min_samples_split=12; total time=   0.2s\n",
            "[CV] END ..................max_depth=6, min_samples_split=12; total time=   0.2s\n",
            "[CV] END ..................max_depth=6, min_samples_split=14; total time=   0.2s\n",
            "[CV] END ..................max_depth=6, min_samples_split=14; total time=   0.2s\n",
            "[CV] END ..................max_depth=6, min_samples_split=14; total time=   0.2s\n",
            "[CV] END ..................max_depth=6, min_samples_split=14; total time=   0.2s\n",
            "[CV] END ..................max_depth=6, min_samples_split=14; total time=   0.2s\n",
            "[CV] END ..................max_depth=6, min_samples_split=16; total time=   0.2s\n",
            "[CV] END ..................max_depth=6, min_samples_split=16; total time=   0.2s\n",
            "[CV] END ..................max_depth=6, min_samples_split=16; total time=   0.2s\n",
            "[CV] END ..................max_depth=6, min_samples_split=16; total time=   0.2s\n",
            "[CV] END ..................max_depth=6, min_samples_split=16; total time=   0.2s\n",
            "[CV] END ..................max_depth=6, min_samples_split=18; total time=   0.2s\n",
            "[CV] END ..................max_depth=6, min_samples_split=18; total time=   0.2s\n",
            "[CV] END ..................max_depth=6, min_samples_split=18; total time=   0.2s\n",
            "[CV] END ..................max_depth=6, min_samples_split=18; total time=   0.2s\n",
            "[CV] END ..................max_depth=6, min_samples_split=18; total time=   0.2s\n",
            "[CV] END ..................max_depth=6, min_samples_split=20; total time=   0.2s\n",
            "[CV] END ..................max_depth=6, min_samples_split=20; total time=   0.2s\n",
            "[CV] END ..................max_depth=6, min_samples_split=20; total time=   0.2s\n",
            "[CV] END ..................max_depth=6, min_samples_split=20; total time=   0.2s\n",
            "[CV] END ..................max_depth=6, min_samples_split=20; total time=   0.2s\n",
            "[CV] END ...................max_depth=8, min_samples_split=2; total time=   0.2s\n",
            "[CV] END ...................max_depth=8, min_samples_split=2; total time=   0.2s\n",
            "[CV] END ...................max_depth=8, min_samples_split=2; total time=   0.3s\n",
            "[CV] END ...................max_depth=8, min_samples_split=2; total time=   0.3s\n",
            "[CV] END ...................max_depth=8, min_samples_split=2; total time=   0.3s\n",
            "[CV] END ...................max_depth=8, min_samples_split=4; total time=   0.3s\n",
            "[CV] END ...................max_depth=8, min_samples_split=4; total time=   0.3s\n",
            "[CV] END ...................max_depth=8, min_samples_split=4; total time=   0.3s\n",
            "[CV] END ...................max_depth=8, min_samples_split=4; total time=   0.3s\n",
            "[CV] END ...................max_depth=8, min_samples_split=4; total time=   0.3s\n",
            "[CV] END ...................max_depth=8, min_samples_split=6; total time=   0.3s\n",
            "[CV] END ...................max_depth=8, min_samples_split=6; total time=   0.3s\n",
            "[CV] END ...................max_depth=8, min_samples_split=6; total time=   0.3s\n",
            "[CV] END ...................max_depth=8, min_samples_split=6; total time=   0.3s\n",
            "[CV] END ...................max_depth=8, min_samples_split=6; total time=   0.2s\n",
            "[CV] END ...................max_depth=8, min_samples_split=8; total time=   0.2s\n",
            "[CV] END ...................max_depth=8, min_samples_split=8; total time=   0.2s\n",
            "[CV] END ...................max_depth=8, min_samples_split=8; total time=   0.2s\n",
            "[CV] END ...................max_depth=8, min_samples_split=8; total time=   0.2s\n",
            "[CV] END ...................max_depth=8, min_samples_split=8; total time=   0.2s\n",
            "[CV] END ..................max_depth=8, min_samples_split=10; total time=   0.2s\n",
            "[CV] END ..................max_depth=8, min_samples_split=10; total time=   0.2s\n",
            "[CV] END ..................max_depth=8, min_samples_split=10; total time=   0.2s\n",
            "[CV] END ..................max_depth=8, min_samples_split=10; total time=   0.2s\n",
            "[CV] END ..................max_depth=8, min_samples_split=10; total time=   0.2s\n",
            "[CV] END ..................max_depth=8, min_samples_split=12; total time=   0.2s\n",
            "[CV] END ..................max_depth=8, min_samples_split=12; total time=   0.2s\n",
            "[CV] END ..................max_depth=8, min_samples_split=12; total time=   0.2s\n",
            "[CV] END ..................max_depth=8, min_samples_split=12; total time=   0.2s\n",
            "[CV] END ..................max_depth=8, min_samples_split=12; total time=   0.2s\n",
            "[CV] END ..................max_depth=8, min_samples_split=14; total time=   0.2s\n",
            "[CV] END ..................max_depth=8, min_samples_split=14; total time=   0.2s\n",
            "[CV] END ..................max_depth=8, min_samples_split=14; total time=   0.2s\n",
            "[CV] END ..................max_depth=8, min_samples_split=14; total time=   0.2s\n",
            "[CV] END ..................max_depth=8, min_samples_split=14; total time=   0.2s\n",
            "[CV] END ..................max_depth=8, min_samples_split=16; total time=   0.2s\n",
            "[CV] END ..................max_depth=8, min_samples_split=16; total time=   0.2s\n",
            "[CV] END ..................max_depth=8, min_samples_split=16; total time=   0.2s\n",
            "[CV] END ..................max_depth=8, min_samples_split=16; total time=   0.2s\n",
            "[CV] END ..................max_depth=8, min_samples_split=16; total time=   0.2s\n",
            "[CV] END ..................max_depth=8, min_samples_split=18; total time=   0.2s\n",
            "[CV] END ..................max_depth=8, min_samples_split=18; total time=   0.2s\n",
            "[CV] END ..................max_depth=8, min_samples_split=18; total time=   0.2s\n",
            "[CV] END ..................max_depth=8, min_samples_split=18; total time=   0.2s\n",
            "[CV] END ..................max_depth=8, min_samples_split=18; total time=   0.2s\n",
            "[CV] END ..................max_depth=8, min_samples_split=20; total time=   0.2s\n",
            "[CV] END ..................max_depth=8, min_samples_split=20; total time=   0.2s\n",
            "[CV] END ..................max_depth=8, min_samples_split=20; total time=   0.2s\n",
            "[CV] END ..................max_depth=8, min_samples_split=20; total time=   0.2s\n",
            "[CV] END ..................max_depth=8, min_samples_split=20; total time=   0.2s\n",
            "[CV] END ..................max_depth=10, min_samples_split=2; total time=   0.3s\n",
            "[CV] END ..................max_depth=10, min_samples_split=2; total time=   0.2s\n",
            "[CV] END ..................max_depth=10, min_samples_split=2; total time=   0.2s\n",
            "[CV] END ..................max_depth=10, min_samples_split=2; total time=   0.3s\n",
            "[CV] END ..................max_depth=10, min_samples_split=2; total time=   0.3s\n",
            "[CV] END ..................max_depth=10, min_samples_split=4; total time=   0.2s\n",
            "[CV] END ..................max_depth=10, min_samples_split=4; total time=   0.2s\n",
            "[CV] END ..................max_depth=10, min_samples_split=4; total time=   0.3s\n",
            "[CV] END ..................max_depth=10, min_samples_split=4; total time=   0.2s\n",
            "[CV] END ..................max_depth=10, min_samples_split=4; total time=   0.3s\n",
            "[CV] END ..................max_depth=10, min_samples_split=6; total time=   0.3s\n",
            "[CV] END ..................max_depth=10, min_samples_split=6; total time=   0.3s\n",
            "[CV] END ..................max_depth=10, min_samples_split=6; total time=   0.3s\n",
            "[CV] END ..................max_depth=10, min_samples_split=6; total time=   0.4s\n",
            "[CV] END ..................max_depth=10, min_samples_split=6; total time=   0.3s\n",
            "[CV] END ..................max_depth=10, min_samples_split=8; total time=   0.3s\n",
            "[CV] END ..................max_depth=10, min_samples_split=8; total time=   0.3s\n",
            "[CV] END ..................max_depth=10, min_samples_split=8; total time=   0.4s\n",
            "[CV] END ..................max_depth=10, min_samples_split=8; total time=   0.3s\n",
            "[CV] END ..................max_depth=10, min_samples_split=8; total time=   0.4s\n",
            "[CV] END .................max_depth=10, min_samples_split=10; total time=   0.3s\n",
            "[CV] END .................max_depth=10, min_samples_split=10; total time=   0.2s\n",
            "[CV] END .................max_depth=10, min_samples_split=10; total time=   0.3s\n",
            "[CV] END .................max_depth=10, min_samples_split=10; total time=   0.3s\n",
            "[CV] END .................max_depth=10, min_samples_split=10; total time=   0.3s\n",
            "[CV] END .................max_depth=10, min_samples_split=12; total time=   0.3s\n",
            "[CV] END .................max_depth=10, min_samples_split=12; total time=   0.3s\n",
            "[CV] END .................max_depth=10, min_samples_split=12; total time=   0.3s\n",
            "[CV] END .................max_depth=10, min_samples_split=12; total time=   0.3s\n",
            "[CV] END .................max_depth=10, min_samples_split=12; total time=   0.2s\n",
            "[CV] END .................max_depth=10, min_samples_split=14; total time=   0.3s\n",
            "[CV] END .................max_depth=10, min_samples_split=14; total time=   0.3s\n",
            "[CV] END .................max_depth=10, min_samples_split=14; total time=   0.2s\n",
            "[CV] END .................max_depth=10, min_samples_split=14; total time=   0.2s\n",
            "[CV] END .................max_depth=10, min_samples_split=14; total time=   0.3s\n",
            "[CV] END .................max_depth=10, min_samples_split=16; total time=   0.2s\n",
            "[CV] END .................max_depth=10, min_samples_split=16; total time=   0.2s\n",
            "[CV] END .................max_depth=10, min_samples_split=16; total time=   0.2s\n",
            "[CV] END .................max_depth=10, min_samples_split=16; total time=   0.3s\n",
            "[CV] END .................max_depth=10, min_samples_split=16; total time=   0.3s\n",
            "[CV] END .................max_depth=10, min_samples_split=18; total time=   0.2s\n",
            "[CV] END .................max_depth=10, min_samples_split=18; total time=   0.2s\n",
            "[CV] END .................max_depth=10, min_samples_split=18; total time=   0.3s\n",
            "[CV] END .................max_depth=10, min_samples_split=18; total time=   0.3s\n",
            "[CV] END .................max_depth=10, min_samples_split=18; total time=   0.2s\n",
            "[CV] END .................max_depth=10, min_samples_split=20; total time=   0.2s\n",
            "[CV] END .................max_depth=10, min_samples_split=20; total time=   0.3s\n",
            "[CV] END .................max_depth=10, min_samples_split=20; total time=   0.2s\n",
            "[CV] END .................max_depth=10, min_samples_split=20; total time=   0.2s\n",
            "[CV] END .................max_depth=10, min_samples_split=20; total time=   0.3s\n",
            "[CV] END ..................max_depth=12, min_samples_split=2; total time=   0.3s\n",
            "[CV] END ..................max_depth=12, min_samples_split=2; total time=   0.3s\n",
            "[CV] END ..................max_depth=12, min_samples_split=2; total time=   0.3s\n",
            "[CV] END ..................max_depth=12, min_samples_split=2; total time=   0.3s\n",
            "[CV] END ..................max_depth=12, min_samples_split=2; total time=   0.3s\n",
            "[CV] END ..................max_depth=12, min_samples_split=4; total time=   0.3s\n",
            "[CV] END ..................max_depth=12, min_samples_split=4; total time=   0.3s\n",
            "[CV] END ..................max_depth=12, min_samples_split=4; total time=   0.3s\n",
            "[CV] END ..................max_depth=12, min_samples_split=4; total time=   0.3s\n",
            "[CV] END ..................max_depth=12, min_samples_split=4; total time=   0.4s\n",
            "[CV] END ..................max_depth=12, min_samples_split=6; total time=   0.4s\n",
            "[CV] END ..................max_depth=12, min_samples_split=6; total time=   0.4s\n",
            "[CV] END ..................max_depth=12, min_samples_split=6; total time=   0.4s\n",
            "[CV] END ..................max_depth=12, min_samples_split=6; total time=   0.4s\n",
            "[CV] END ..................max_depth=12, min_samples_split=6; total time=   0.4s\n",
            "[CV] END ..................max_depth=12, min_samples_split=8; total time=   0.4s\n",
            "[CV] END ..................max_depth=12, min_samples_split=8; total time=   0.4s\n",
            "[CV] END ..................max_depth=12, min_samples_split=8; total time=   0.4s\n",
            "[CV] END ..................max_depth=12, min_samples_split=8; total time=   0.3s\n",
            "[CV] END ..................max_depth=12, min_samples_split=8; total time=   0.3s\n",
            "[CV] END .................max_depth=12, min_samples_split=10; total time=   0.3s\n",
            "[CV] END .................max_depth=12, min_samples_split=10; total time=   0.3s\n",
            "[CV] END .................max_depth=12, min_samples_split=10; total time=   0.3s\n",
            "[CV] END .................max_depth=12, min_samples_split=10; total time=   0.3s\n",
            "[CV] END .................max_depth=12, min_samples_split=10; total time=   0.3s\n",
            "[CV] END .................max_depth=12, min_samples_split=12; total time=   0.3s\n",
            "[CV] END .................max_depth=12, min_samples_split=12; total time=   0.3s\n",
            "[CV] END .................max_depth=12, min_samples_split=12; total time=   0.3s\n",
            "[CV] END .................max_depth=12, min_samples_split=12; total time=   0.3s\n",
            "[CV] END .................max_depth=12, min_samples_split=12; total time=   0.3s\n",
            "[CV] END .................max_depth=12, min_samples_split=14; total time=   0.3s\n",
            "[CV] END .................max_depth=12, min_samples_split=14; total time=   0.3s\n",
            "[CV] END .................max_depth=12, min_samples_split=14; total time=   0.3s\n",
            "[CV] END .................max_depth=12, min_samples_split=14; total time=   0.3s\n",
            "[CV] END .................max_depth=12, min_samples_split=14; total time=   0.3s\n",
            "[CV] END .................max_depth=12, min_samples_split=16; total time=   0.3s\n",
            "[CV] END .................max_depth=12, min_samples_split=16; total time=   0.3s\n",
            "[CV] END .................max_depth=12, min_samples_split=16; total time=   0.3s\n",
            "[CV] END .................max_depth=12, min_samples_split=16; total time=   0.3s\n",
            "[CV] END .................max_depth=12, min_samples_split=16; total time=   0.3s\n",
            "[CV] END .................max_depth=12, min_samples_split=18; total time=   0.3s\n",
            "[CV] END .................max_depth=12, min_samples_split=18; total time=   0.3s\n",
            "[CV] END .................max_depth=12, min_samples_split=18; total time=   0.3s\n",
            "[CV] END .................max_depth=12, min_samples_split=18; total time=   0.3s\n",
            "[CV] END .................max_depth=12, min_samples_split=18; total time=   0.3s\n",
            "[CV] END .................max_depth=12, min_samples_split=20; total time=   0.3s\n",
            "[CV] END .................max_depth=12, min_samples_split=20; total time=   0.3s\n",
            "[CV] END .................max_depth=12, min_samples_split=20; total time=   0.3s\n",
            "[CV] END .................max_depth=12, min_samples_split=20; total time=   0.3s\n",
            "[CV] END .................max_depth=12, min_samples_split=20; total time=   0.3s\n",
            "[CV] END ..................max_depth=14, min_samples_split=2; total time=   0.3s\n",
            "[CV] END ..................max_depth=14, min_samples_split=2; total time=   0.5s\n",
            "[CV] END ..................max_depth=14, min_samples_split=2; total time=   0.5s\n",
            "[CV] END ..................max_depth=14, min_samples_split=2; total time=   0.5s\n",
            "[CV] END ..................max_depth=14, min_samples_split=2; total time=   0.5s\n",
            "[CV] END ..................max_depth=14, min_samples_split=4; total time=   0.5s\n",
            "[CV] END ..................max_depth=14, min_samples_split=4; total time=   0.5s\n",
            "[CV] END ..................max_depth=14, min_samples_split=4; total time=   0.5s\n",
            "[CV] END ..................max_depth=14, min_samples_split=4; total time=   0.5s\n",
            "[CV] END ..................max_depth=14, min_samples_split=4; total time=   0.3s\n",
            "[CV] END ..................max_depth=14, min_samples_split=6; total time=   0.3s\n",
            "[CV] END ..................max_depth=14, min_samples_split=6; total time=   0.3s\n",
            "[CV] END ..................max_depth=14, min_samples_split=6; total time=   0.3s\n",
            "[CV] END ..................max_depth=14, min_samples_split=6; total time=   0.3s\n",
            "[CV] END ..................max_depth=14, min_samples_split=6; total time=   0.3s\n",
            "[CV] END ..................max_depth=14, min_samples_split=8; total time=   0.3s\n",
            "[CV] END ..................max_depth=14, min_samples_split=8; total time=   0.3s\n",
            "[CV] END ..................max_depth=14, min_samples_split=8; total time=   0.3s\n",
            "[CV] END ..................max_depth=14, min_samples_split=8; total time=   0.3s\n",
            "[CV] END ..................max_depth=14, min_samples_split=8; total time=   0.3s\n",
            "[CV] END .................max_depth=14, min_samples_split=10; total time=   0.3s\n",
            "[CV] END .................max_depth=14, min_samples_split=10; total time=   0.3s\n",
            "[CV] END .................max_depth=14, min_samples_split=10; total time=   0.3s\n",
            "[CV] END .................max_depth=14, min_samples_split=10; total time=   0.3s\n",
            "[CV] END .................max_depth=14, min_samples_split=10; total time=   0.3s\n",
            "[CV] END .................max_depth=14, min_samples_split=12; total time=   0.3s\n",
            "[CV] END .................max_depth=14, min_samples_split=12; total time=   0.3s\n",
            "[CV] END .................max_depth=14, min_samples_split=12; total time=   0.3s\n",
            "[CV] END .................max_depth=14, min_samples_split=12; total time=   0.3s\n",
            "[CV] END .................max_depth=14, min_samples_split=12; total time=   0.3s\n",
            "[CV] END .................max_depth=14, min_samples_split=14; total time=   0.3s\n",
            "[CV] END .................max_depth=14, min_samples_split=14; total time=   0.3s\n",
            "[CV] END .................max_depth=14, min_samples_split=14; total time=   0.3s\n",
            "[CV] END .................max_depth=14, min_samples_split=14; total time=   0.3s\n",
            "[CV] END .................max_depth=14, min_samples_split=14; total time=   0.3s\n",
            "[CV] END .................max_depth=14, min_samples_split=16; total time=   0.3s\n",
            "[CV] END .................max_depth=14, min_samples_split=16; total time=   0.3s\n",
            "[CV] END .................max_depth=14, min_samples_split=16; total time=   0.3s\n",
            "[CV] END .................max_depth=14, min_samples_split=16; total time=   0.3s\n",
            "[CV] END .................max_depth=14, min_samples_split=16; total time=   0.4s\n",
            "[CV] END .................max_depth=14, min_samples_split=18; total time=   0.4s\n",
            "[CV] END .................max_depth=14, min_samples_split=18; total time=   0.5s\n",
            "[CV] END .................max_depth=14, min_samples_split=18; total time=   0.4s\n",
            "[CV] END .................max_depth=14, min_samples_split=18; total time=   0.4s\n",
            "[CV] END .................max_depth=14, min_samples_split=18; total time=   0.4s\n",
            "[CV] END .................max_depth=14, min_samples_split=20; total time=   0.5s\n",
            "[CV] END .................max_depth=14, min_samples_split=20; total time=   0.4s\n",
            "[CV] END .................max_depth=14, min_samples_split=20; total time=   0.4s\n",
            "[CV] END .................max_depth=14, min_samples_split=20; total time=   0.3s\n",
            "[CV] END .................max_depth=14, min_samples_split=20; total time=   0.3s\n",
            "[CV] END ..................max_depth=16, min_samples_split=2; total time=   0.4s\n",
            "[CV] END ..................max_depth=16, min_samples_split=2; total time=   0.4s\n",
            "[CV] END ..................max_depth=16, min_samples_split=2; total time=   0.4s\n",
            "[CV] END ..................max_depth=16, min_samples_split=2; total time=   0.4s\n",
            "[CV] END ..................max_depth=16, min_samples_split=2; total time=   0.4s\n",
            "[CV] END ..................max_depth=16, min_samples_split=4; total time=   0.4s\n",
            "[CV] END ..................max_depth=16, min_samples_split=4; total time=   0.4s\n",
            "[CV] END ..................max_depth=16, min_samples_split=4; total time=   0.4s\n",
            "[CV] END ..................max_depth=16, min_samples_split=4; total time=   0.4s\n",
            "[CV] END ..................max_depth=16, min_samples_split=4; total time=   0.4s\n",
            "[CV] END ..................max_depth=16, min_samples_split=6; total time=   0.4s\n",
            "[CV] END ..................max_depth=16, min_samples_split=6; total time=   0.4s\n",
            "[CV] END ..................max_depth=16, min_samples_split=6; total time=   0.4s\n",
            "[CV] END ..................max_depth=16, min_samples_split=6; total time=   0.4s\n",
            "[CV] END ..................max_depth=16, min_samples_split=6; total time=   0.4s\n",
            "[CV] END ..................max_depth=16, min_samples_split=8; total time=   0.4s\n",
            "[CV] END ..................max_depth=16, min_samples_split=8; total time=   0.4s\n",
            "[CV] END ..................max_depth=16, min_samples_split=8; total time=   0.4s\n",
            "[CV] END ..................max_depth=16, min_samples_split=8; total time=   0.4s\n",
            "[CV] END ..................max_depth=16, min_samples_split=8; total time=   0.4s\n",
            "[CV] END .................max_depth=16, min_samples_split=10; total time=   0.4s\n",
            "[CV] END .................max_depth=16, min_samples_split=10; total time=   0.4s\n",
            "[CV] END .................max_depth=16, min_samples_split=10; total time=   0.4s\n",
            "[CV] END .................max_depth=16, min_samples_split=10; total time=   0.4s\n",
            "[CV] END .................max_depth=16, min_samples_split=10; total time=   0.4s\n",
            "[CV] END .................max_depth=16, min_samples_split=12; total time=   0.5s\n",
            "[CV] END .................max_depth=16, min_samples_split=12; total time=   0.5s\n",
            "[CV] END .................max_depth=16, min_samples_split=12; total time=   0.5s\n",
            "[CV] END .................max_depth=16, min_samples_split=12; total time=   0.5s\n",
            "[CV] END .................max_depth=16, min_samples_split=12; total time=   0.5s\n",
            "[CV] END .................max_depth=16, min_samples_split=14; total time=   0.5s\n",
            "[CV] END .................max_depth=16, min_samples_split=14; total time=   0.5s\n",
            "[CV] END .................max_depth=16, min_samples_split=14; total time=   0.4s\n",
            "[CV] END .................max_depth=16, min_samples_split=14; total time=   0.4s\n",
            "[CV] END .................max_depth=16, min_samples_split=14; total time=   0.4s\n",
            "[CV] END .................max_depth=16, min_samples_split=16; total time=   0.4s\n",
            "[CV] END .................max_depth=16, min_samples_split=16; total time=   0.3s\n",
            "[CV] END .................max_depth=16, min_samples_split=16; total time=   0.3s\n",
            "[CV] END .................max_depth=16, min_samples_split=16; total time=   0.4s\n",
            "[CV] END .................max_depth=16, min_samples_split=16; total time=   0.3s\n",
            "[CV] END .................max_depth=16, min_samples_split=18; total time=   0.3s\n",
            "[CV] END .................max_depth=16, min_samples_split=18; total time=   0.3s\n",
            "[CV] END .................max_depth=16, min_samples_split=18; total time=   0.3s\n",
            "[CV] END .................max_depth=16, min_samples_split=18; total time=   0.4s\n",
            "[CV] END .................max_depth=16, min_samples_split=18; total time=   0.4s\n",
            "[CV] END .................max_depth=16, min_samples_split=20; total time=   0.3s\n",
            "[CV] END .................max_depth=16, min_samples_split=20; total time=   0.3s\n",
            "[CV] END .................max_depth=16, min_samples_split=20; total time=   0.3s\n",
            "[CV] END .................max_depth=16, min_samples_split=20; total time=   0.3s\n",
            "[CV] END .................max_depth=16, min_samples_split=20; total time=   0.4s\n",
            "[CV] END ..................max_depth=18, min_samples_split=2; total time=   0.4s\n",
            "[CV] END ..................max_depth=18, min_samples_split=2; total time=   0.4s\n",
            "[CV] END ..................max_depth=18, min_samples_split=2; total time=   0.4s\n",
            "[CV] END ..................max_depth=18, min_samples_split=2; total time=   0.4s\n",
            "[CV] END ..................max_depth=18, min_samples_split=2; total time=   0.4s\n",
            "[CV] END ..................max_depth=18, min_samples_split=4; total time=   0.4s\n",
            "[CV] END ..................max_depth=18, min_samples_split=4; total time=   0.4s\n",
            "[CV] END ..................max_depth=18, min_samples_split=4; total time=   0.4s\n",
            "[CV] END ..................max_depth=18, min_samples_split=4; total time=   0.4s\n",
            "[CV] END ..................max_depth=18, min_samples_split=4; total time=   0.5s\n",
            "[CV] END ..................max_depth=18, min_samples_split=6; total time=   0.5s\n",
            "[CV] END ..................max_depth=18, min_samples_split=6; total time=   0.5s\n",
            "[CV] END ..................max_depth=18, min_samples_split=6; total time=   0.6s\n",
            "[CV] END ..................max_depth=18, min_samples_split=6; total time=   0.5s\n",
            "[CV] END ..................max_depth=18, min_samples_split=6; total time=   0.5s\n",
            "[CV] END ..................max_depth=18, min_samples_split=8; total time=   0.5s\n",
            "[CV] END ..................max_depth=18, min_samples_split=8; total time=   0.5s\n",
            "[CV] END ..................max_depth=18, min_samples_split=8; total time=   0.4s\n",
            "[CV] END ..................max_depth=18, min_samples_split=8; total time=   0.4s\n",
            "[CV] END ..................max_depth=18, min_samples_split=8; total time=   0.4s\n",
            "[CV] END .................max_depth=18, min_samples_split=10; total time=   0.4s\n",
            "[CV] END .................max_depth=18, min_samples_split=10; total time=   0.4s\n",
            "[CV] END .................max_depth=18, min_samples_split=10; total time=   0.4s\n",
            "[CV] END .................max_depth=18, min_samples_split=10; total time=   0.4s\n",
            "[CV] END .................max_depth=18, min_samples_split=10; total time=   0.4s\n",
            "[CV] END .................max_depth=18, min_samples_split=12; total time=   0.4s\n",
            "[CV] END .................max_depth=18, min_samples_split=12; total time=   0.4s\n",
            "[CV] END .................max_depth=18, min_samples_split=12; total time=   0.4s\n",
            "[CV] END .................max_depth=18, min_samples_split=12; total time=   0.4s\n",
            "[CV] END .................max_depth=18, min_samples_split=12; total time=   0.4s\n",
            "[CV] END .................max_depth=18, min_samples_split=14; total time=   0.4s\n",
            "[CV] END .................max_depth=18, min_samples_split=14; total time=   0.4s\n",
            "[CV] END .................max_depth=18, min_samples_split=14; total time=   0.4s\n",
            "[CV] END .................max_depth=18, min_samples_split=14; total time=   0.4s\n",
            "[CV] END .................max_depth=18, min_samples_split=14; total time=   0.4s\n",
            "[CV] END .................max_depth=18, min_samples_split=16; total time=   0.4s\n",
            "[CV] END .................max_depth=18, min_samples_split=16; total time=   0.4s\n",
            "[CV] END .................max_depth=18, min_samples_split=16; total time=   0.4s\n",
            "[CV] END .................max_depth=18, min_samples_split=16; total time=   0.4s\n",
            "[CV] END .................max_depth=18, min_samples_split=16; total time=   0.4s\n",
            "[CV] END .................max_depth=18, min_samples_split=18; total time=   0.4s\n",
            "[CV] END .................max_depth=18, min_samples_split=18; total time=   0.4s\n",
            "[CV] END .................max_depth=18, min_samples_split=18; total time=   0.4s\n",
            "[CV] END .................max_depth=18, min_samples_split=18; total time=   0.5s\n",
            "[CV] END .................max_depth=18, min_samples_split=18; total time=   0.5s\n",
            "[CV] END .................max_depth=18, min_samples_split=20; total time=   0.5s\n",
            "[CV] END .................max_depth=18, min_samples_split=20; total time=   0.5s\n",
            "[CV] END .................max_depth=18, min_samples_split=20; total time=   0.5s\n",
            "[CV] END .................max_depth=18, min_samples_split=20; total time=   0.5s\n",
            "[CV] END .................max_depth=18, min_samples_split=20; total time=   0.5s\n",
            "[CV] END ..................max_depth=20, min_samples_split=2; total time=   0.5s\n",
            "[CV] END ..................max_depth=20, min_samples_split=2; total time=   0.5s\n",
            "[CV] END ..................max_depth=20, min_samples_split=2; total time=   0.5s\n",
            "[CV] END ..................max_depth=20, min_samples_split=2; total time=   0.4s\n",
            "[CV] END ..................max_depth=20, min_samples_split=2; total time=   0.5s\n",
            "[CV] END ..................max_depth=20, min_samples_split=4; total time=   0.4s\n",
            "[CV] END ..................max_depth=20, min_samples_split=4; total time=   0.4s\n",
            "[CV] END ..................max_depth=20, min_samples_split=4; total time=   0.4s\n",
            "[CV] END ..................max_depth=20, min_samples_split=4; total time=   0.4s\n",
            "[CV] END ..................max_depth=20, min_samples_split=4; total time=   0.4s\n",
            "[CV] END ..................max_depth=20, min_samples_split=6; total time=   0.4s\n",
            "[CV] END ..................max_depth=20, min_samples_split=6; total time=   0.4s\n",
            "[CV] END ..................max_depth=20, min_samples_split=6; total time=   0.4s\n",
            "[CV] END ..................max_depth=20, min_samples_split=6; total time=   0.4s\n",
            "[CV] END ..................max_depth=20, min_samples_split=6; total time=   0.4s\n",
            "[CV] END ..................max_depth=20, min_samples_split=8; total time=   0.4s\n",
            "[CV] END ..................max_depth=20, min_samples_split=8; total time=   0.4s\n",
            "[CV] END ..................max_depth=20, min_samples_split=8; total time=   0.4s\n",
            "[CV] END ..................max_depth=20, min_samples_split=8; total time=   0.4s\n",
            "[CV] END ..................max_depth=20, min_samples_split=8; total time=   0.4s\n",
            "[CV] END .................max_depth=20, min_samples_split=10; total time=   0.4s\n",
            "[CV] END .................max_depth=20, min_samples_split=10; total time=   0.4s\n",
            "[CV] END .................max_depth=20, min_samples_split=10; total time=   0.4s\n",
            "[CV] END .................max_depth=20, min_samples_split=10; total time=   0.4s\n",
            "[CV] END .................max_depth=20, min_samples_split=10; total time=   0.5s\n",
            "[CV] END .................max_depth=20, min_samples_split=12; total time=   0.5s\n",
            "[CV] END .................max_depth=20, min_samples_split=12; total time=   0.5s\n",
            "[CV] END .................max_depth=20, min_samples_split=12; total time=   0.5s\n",
            "[CV] END .................max_depth=20, min_samples_split=12; total time=   0.5s\n",
            "[CV] END .................max_depth=20, min_samples_split=12; total time=   0.5s\n",
            "[CV] END .................max_depth=20, min_samples_split=14; total time=   0.5s\n",
            "[CV] END .................max_depth=20, min_samples_split=14; total time=   0.4s\n",
            "[CV] END .................max_depth=20, min_samples_split=14; total time=   0.4s\n",
            "[CV] END .................max_depth=20, min_samples_split=14; total time=   0.4s\n",
            "[CV] END .................max_depth=20, min_samples_split=14; total time=   0.4s\n",
            "[CV] END .................max_depth=20, min_samples_split=16; total time=   0.4s\n",
            "[CV] END .................max_depth=20, min_samples_split=16; total time=   0.4s\n",
            "[CV] END .................max_depth=20, min_samples_split=16; total time=   0.4s\n",
            "[CV] END .................max_depth=20, min_samples_split=16; total time=   0.4s\n",
            "[CV] END .................max_depth=20, min_samples_split=16; total time=   0.4s\n",
            "[CV] END .................max_depth=20, min_samples_split=18; total time=   0.4s\n",
            "[CV] END .................max_depth=20, min_samples_split=18; total time=   0.4s\n",
            "[CV] END .................max_depth=20, min_samples_split=18; total time=   0.4s\n",
            "[CV] END .................max_depth=20, min_samples_split=18; total time=   0.4s\n",
            "[CV] END .................max_depth=20, min_samples_split=18; total time=   0.4s\n",
            "[CV] END .................max_depth=20, min_samples_split=20; total time=   0.4s\n",
            "[CV] END .................max_depth=20, min_samples_split=20; total time=   0.4s\n",
            "[CV] END .................max_depth=20, min_samples_split=20; total time=   0.4s\n",
            "[CV] END .................max_depth=20, min_samples_split=20; total time=   0.4s\n",
            "[CV] END .................max_depth=20, min_samples_split=20; total time=   0.4s\n"
          ]
        },
        {
          "output_type": "execute_result",
          "data": {
            "text/plain": [
              "GridSearchCV(estimator=DecisionTreeRegressor(random_state=0), n_jobs=1,\n",
              "             param_grid={'max_depth': [2, 4, 6, 8, 10, 12, 14, 16, 18, 20],\n",
              "                         'min_samples_split': [2, 4, 6, 8, 10, 12, 14, 16, 18,\n",
              "                                               20]},\n",
              "             verbose=2)"
            ],
            "text/html": [
              "<style>#sk-container-id-5 {color: black;background-color: white;}#sk-container-id-5 pre{padding: 0;}#sk-container-id-5 div.sk-toggleable {background-color: white;}#sk-container-id-5 label.sk-toggleable__label {cursor: pointer;display: block;width: 100%;margin-bottom: 0;padding: 0.3em;box-sizing: border-box;text-align: center;}#sk-container-id-5 label.sk-toggleable__label-arrow:before {content: \"▸\";float: left;margin-right: 0.25em;color: #696969;}#sk-container-id-5 label.sk-toggleable__label-arrow:hover:before {color: black;}#sk-container-id-5 div.sk-estimator:hover label.sk-toggleable__label-arrow:before {color: black;}#sk-container-id-5 div.sk-toggleable__content {max-height: 0;max-width: 0;overflow: hidden;text-align: left;background-color: #f0f8ff;}#sk-container-id-5 div.sk-toggleable__content pre {margin: 0.2em;color: black;border-radius: 0.25em;background-color: #f0f8ff;}#sk-container-id-5 input.sk-toggleable__control:checked~div.sk-toggleable__content {max-height: 200px;max-width: 100%;overflow: auto;}#sk-container-id-5 input.sk-toggleable__control:checked~label.sk-toggleable__label-arrow:before {content: \"▾\";}#sk-container-id-5 div.sk-estimator input.sk-toggleable__control:checked~label.sk-toggleable__label {background-color: #d4ebff;}#sk-container-id-5 div.sk-label input.sk-toggleable__control:checked~label.sk-toggleable__label {background-color: #d4ebff;}#sk-container-id-5 input.sk-hidden--visually {border: 0;clip: rect(1px 1px 1px 1px);clip: rect(1px, 1px, 1px, 1px);height: 1px;margin: -1px;overflow: hidden;padding: 0;position: absolute;width: 1px;}#sk-container-id-5 div.sk-estimator {font-family: monospace;background-color: #f0f8ff;border: 1px dotted black;border-radius: 0.25em;box-sizing: border-box;margin-bottom: 0.5em;}#sk-container-id-5 div.sk-estimator:hover {background-color: #d4ebff;}#sk-container-id-5 div.sk-parallel-item::after {content: \"\";width: 100%;border-bottom: 1px solid gray;flex-grow: 1;}#sk-container-id-5 div.sk-label:hover label.sk-toggleable__label {background-color: #d4ebff;}#sk-container-id-5 div.sk-serial::before {content: \"\";position: absolute;border-left: 1px solid gray;box-sizing: border-box;top: 0;bottom: 0;left: 50%;z-index: 0;}#sk-container-id-5 div.sk-serial {display: flex;flex-direction: column;align-items: center;background-color: white;padding-right: 0.2em;padding-left: 0.2em;position: relative;}#sk-container-id-5 div.sk-item {position: relative;z-index: 1;}#sk-container-id-5 div.sk-parallel {display: flex;align-items: stretch;justify-content: center;background-color: white;position: relative;}#sk-container-id-5 div.sk-item::before, #sk-container-id-5 div.sk-parallel-item::before {content: \"\";position: absolute;border-left: 1px solid gray;box-sizing: border-box;top: 0;bottom: 0;left: 50%;z-index: -1;}#sk-container-id-5 div.sk-parallel-item {display: flex;flex-direction: column;z-index: 1;position: relative;background-color: white;}#sk-container-id-5 div.sk-parallel-item:first-child::after {align-self: flex-end;width: 50%;}#sk-container-id-5 div.sk-parallel-item:last-child::after {align-self: flex-start;width: 50%;}#sk-container-id-5 div.sk-parallel-item:only-child::after {width: 0;}#sk-container-id-5 div.sk-dashed-wrapped {border: 1px dashed gray;margin: 0 0.4em 0.5em 0.4em;box-sizing: border-box;padding-bottom: 0.4em;background-color: white;}#sk-container-id-5 div.sk-label label {font-family: monospace;font-weight: bold;display: inline-block;line-height: 1.2em;}#sk-container-id-5 div.sk-label-container {text-align: center;}#sk-container-id-5 div.sk-container {/* jupyter's `normalize.less` sets `[hidden] { display: none; }` but bootstrap.min.css set `[hidden] { display: none !important; }` so we also need the `!important` here to be able to override the default hidden behavior on the sphinx rendered scikit-learn.org. See: https://github.com/scikit-learn/scikit-learn/issues/21755 */display: inline-block !important;position: relative;}#sk-container-id-5 div.sk-text-repr-fallback {display: none;}</style><div id=\"sk-container-id-5\" class=\"sk-top-container\"><div class=\"sk-text-repr-fallback\"><pre>GridSearchCV(estimator=DecisionTreeRegressor(random_state=0), n_jobs=1,\n",
              "             param_grid={&#x27;max_depth&#x27;: [2, 4, 6, 8, 10, 12, 14, 16, 18, 20],\n",
              "                         &#x27;min_samples_split&#x27;: [2, 4, 6, 8, 10, 12, 14, 16, 18,\n",
              "                                               20]},\n",
              "             verbose=2)</pre><b>In a Jupyter environment, please rerun this cell to show the HTML representation or trust the notebook. <br />On GitHub, the HTML representation is unable to render, please try loading this page with nbviewer.org.</b></div><div class=\"sk-container\" hidden><div class=\"sk-item sk-dashed-wrapped\"><div class=\"sk-label-container\"><div class=\"sk-label sk-toggleable\"><input class=\"sk-toggleable__control sk-hidden--visually\" id=\"sk-estimator-id-9\" type=\"checkbox\" ><label for=\"sk-estimator-id-9\" class=\"sk-toggleable__label sk-toggleable__label-arrow\">GridSearchCV</label><div class=\"sk-toggleable__content\"><pre>GridSearchCV(estimator=DecisionTreeRegressor(random_state=0), n_jobs=1,\n",
              "             param_grid={&#x27;max_depth&#x27;: [2, 4, 6, 8, 10, 12, 14, 16, 18, 20],\n",
              "                         &#x27;min_samples_split&#x27;: [2, 4, 6, 8, 10, 12, 14, 16, 18,\n",
              "                                               20]},\n",
              "             verbose=2)</pre></div></div></div><div class=\"sk-parallel\"><div class=\"sk-parallel-item\"><div class=\"sk-item\"><div class=\"sk-label-container\"><div class=\"sk-label sk-toggleable\"><input class=\"sk-toggleable__control sk-hidden--visually\" id=\"sk-estimator-id-10\" type=\"checkbox\" ><label for=\"sk-estimator-id-10\" class=\"sk-toggleable__label sk-toggleable__label-arrow\">estimator: DecisionTreeRegressor</label><div class=\"sk-toggleable__content\"><pre>DecisionTreeRegressor(random_state=0)</pre></div></div></div><div class=\"sk-serial\"><div class=\"sk-item\"><div class=\"sk-estimator sk-toggleable\"><input class=\"sk-toggleable__control sk-hidden--visually\" id=\"sk-estimator-id-11\" type=\"checkbox\" ><label for=\"sk-estimator-id-11\" class=\"sk-toggleable__label sk-toggleable__label-arrow\">DecisionTreeRegressor</label><div class=\"sk-toggleable__content\"><pre>DecisionTreeRegressor(random_state=0)</pre></div></div></div></div></div></div></div></div></div></div>"
            ]
          },
          "metadata": {},
          "execution_count": 44
        }
      ]
    },
    {
      "cell_type": "code",
      "source": [
        "best_params_ = {'max_depth': dt_reg_GS.best_params_['max_depth'], 'min_samples_split' : dt_reg_GS.best_params_['min_samples_split']}\n",
        "print(best_params_)\n",
        "best_params_= dt_reg_GS.best_params_\n",
        "\n"
      ],
      "metadata": {
        "id": "ZEJ-ThT2w0B8",
        "colab": {
          "base_uri": "https://localhost:8080/"
        },
        "outputId": "31920044-bd52-4837-e060-8ae48f7455a3"
      },
      "execution_count": 61,
      "outputs": [
        {
          "output_type": "stream",
          "name": "stdout",
          "text": [
            "{'max_depth': 8, 'min_samples_split': 14}\n"
          ]
        }
      ]
    },
    {
      "cell_type": "code",
      "source": [
        "\n",
        "dt_reg = DecisionTreeRegressor(random_state=0,max_depth = best_params_['max_depth'],min_samples_split = best_params_['min_samples_split'])"
      ],
      "metadata": {
        "id": "y3cI8eV2xAyk"
      },
      "execution_count": 46,
      "outputs": []
    },
    {
      "cell_type": "code",
      "source": [
        "y_pred_DT = dt_reg_GS.predict(X_test)"
      ],
      "metadata": {
        "id": "oObsXYfIjhfg"
      },
      "execution_count": 47,
      "outputs": []
    },
    {
      "cell_type": "code",
      "source": [
        "MSE_test_DT = mean_squared_error(y_test, y_pred_DT)\n",
        "r2_test_DT = r2_score(y_test, y_pred_DT)\n",
        "[MSE_test_DT, r2_test_DT]"
      ],
      "metadata": {
        "id": "aLTlbr91jkB6",
        "colab": {
          "base_uri": "https://localhost:8080/"
        },
        "outputId": "c128819c-31f7-4a12-d63d-37b6c60a54fb"
      },
      "execution_count": 48,
      "outputs": [
        {
          "output_type": "execute_result",
          "data": {
            "text/plain": [
              "[1.4865855361855658, 0.7412173466160162]"
            ]
          },
          "metadata": {},
          "execution_count": 48
        }
      ]
    },
    {
      "cell_type": "code",
      "source": [
        "dump(dt_reg_GS, folder + 'DT_best_pred_model.joblib')"
      ],
      "metadata": {
        "id": "odn5sE4xkJGa",
        "colab": {
          "base_uri": "https://localhost:8080/"
        },
        "outputId": "7c75e55c-5bb5-4d2c-83d7-abe50cb74c28"
      },
      "execution_count": 49,
      "outputs": [
        {
          "output_type": "execute_result",
          "data": {
            "text/plain": [
              "['/content/drive/MyDrive/Colab Notebooks/final_project/DT_best_pred_model.joblib']"
            ]
          },
          "metadata": {},
          "execution_count": 49
        }
      ]
    },
    {
      "cell_type": "code",
      "source": [
        "y_pred_DT[0]"
      ],
      "metadata": {
        "id": "SciSjUlMkeDk",
        "colab": {
          "base_uri": "https://localhost:8080/"
        },
        "outputId": "df8ecabb-d44f-4887-f5eb-334bd0bfbb11"
      },
      "execution_count": 50,
      "outputs": [
        {
          "output_type": "execute_result",
          "data": {
            "text/plain": [
              "array([174.64733226, 214.35595809, 214.12361537])"
            ]
          },
          "metadata": {},
          "execution_count": 50
        }
      ]
    },
    {
      "cell_type": "code",
      "source": [
        "y_test.iloc[0,:]"
      ],
      "metadata": {
        "id": "UQ1GRp9zt4hX",
        "colab": {
          "base_uri": "https://localhost:8080/"
        },
        "outputId": "fdeebb15-2d38-46dc-98f6-2f2e04e9d167"
      },
      "execution_count": 51,
      "outputs": [
        {
          "output_type": "execute_result",
          "data": {
            "text/plain": [
              "head_output_001    172.029373\n",
              "head_output_002    214.848816\n",
              "head_output_055    214.400192\n",
              "Name: 235199, dtype: float64"
            ]
          },
          "metadata": {},
          "execution_count": 51
        }
      ]
    },
    {
      "cell_type": "code",
      "source": [],
      "metadata": {
        "id": "-WFKiIEMt9Cy"
      },
      "execution_count": 51,
      "outputs": []
    },
    {
      "cell_type": "markdown",
      "source": [
        "#ANN"
      ],
      "metadata": {
        "id": "KVntVB-jQOFR"
      }
    },
    {
      "cell_type": "code",
      "source": [
        "from keras import models\n",
        "from keras import layers\n",
        "from keras.layers import Dropout"
      ],
      "metadata": {
        "id": "5wd83v0BQPQ3"
      },
      "execution_count": 52,
      "outputs": []
    },
    {
      "cell_type": "code",
      "source": [
        "len(y_train.columns)"
      ],
      "metadata": {
        "id": "dtJzW_IcnsXl",
        "colab": {
          "base_uri": "https://localhost:8080/"
        },
        "outputId": "8996e340-f83f-4bf4-cb15-12327298c73b"
      },
      "execution_count": 53,
      "outputs": [
        {
          "output_type": "execute_result",
          "data": {
            "text/plain": [
              "3"
            ]
          },
          "metadata": {},
          "execution_count": 53
        }
      ]
    },
    {
      "cell_type": "code",
      "source": [
        "ANN = models.Sequential()\n",
        "ANN.add(layers.Dense(512, activation='elu', input_shape=(len(X_train_scale[0]),)))\n",
        "ANN.add(Dropout(0.2))\n",
        "ANN.add(layers.Dense(256, activation='elu'))\n",
        "ANN.add(layers.Dense(len(y_train.columns), activation='relu'))"
      ],
      "metadata": {
        "id": "nd5uYZ0cQYX5"
      },
      "execution_count": 54,
      "outputs": []
    },
    {
      "cell_type": "code",
      "source": [
        "ANN.compile(optimizer=\"adam\",loss='mean_squared_error')"
      ],
      "metadata": {
        "id": "0vGJ7Ny7Qsp_"
      },
      "execution_count": 55,
      "outputs": []
    },
    {
      "cell_type": "code",
      "source": [
        "ANN_reg_best = ANN.fit(X_train_scale, y_train, validation_data=(X_test_scale, y_test), epochs=100, batch_size=64)"
      ],
      "metadata": {
        "id": "LSx-Y_6kQt_Z",
        "colab": {
          "base_uri": "https://localhost:8080/"
        },
        "outputId": "ddba13d9-12df-4b02-8ab2-dd3e79eea9a8"
      },
      "execution_count": 56,
      "outputs": [
        {
          "output_type": "stream",
          "name": "stdout",
          "text": [
            "Epoch 1/100\n",
            "1094/1094 [==============================] - 10s 4ms/step - loss: 2785.2351 - val_loss: 2.3301\n",
            "Epoch 2/100\n",
            "1094/1094 [==============================] - 4s 4ms/step - loss: 24.2422 - val_loss: 2.3619\n",
            "Epoch 3/100\n",
            "1094/1094 [==============================] - 4s 4ms/step - loss: 19.5939 - val_loss: 2.6570\n",
            "Epoch 4/100\n",
            "1094/1094 [==============================] - 5s 4ms/step - loss: 17.1182 - val_loss: 2.0183\n",
            "Epoch 5/100\n",
            "1094/1094 [==============================] - 4s 4ms/step - loss: 15.1534 - val_loss: 2.2973\n",
            "Epoch 6/100\n",
            "1094/1094 [==============================] - 4s 4ms/step - loss: 13.6604 - val_loss: 2.2093\n",
            "Epoch 7/100\n",
            "1094/1094 [==============================] - 5s 4ms/step - loss: 11.8938 - val_loss: 1.8085\n",
            "Epoch 8/100\n",
            "1094/1094 [==============================] - 4s 4ms/step - loss: 10.5092 - val_loss: 1.6913\n",
            "Epoch 9/100\n",
            "1094/1094 [==============================] - 4s 4ms/step - loss: 8.8183 - val_loss: 2.2566\n",
            "Epoch 10/100\n",
            "1094/1094 [==============================] - 4s 4ms/step - loss: 7.3774 - val_loss: 2.7886\n",
            "Epoch 11/100\n",
            "1094/1094 [==============================] - 5s 5ms/step - loss: 6.1245 - val_loss: 2.2627\n",
            "Epoch 12/100\n",
            "1094/1094 [==============================] - 5s 4ms/step - loss: 5.0780 - val_loss: 1.7013\n",
            "Epoch 13/100\n",
            "1094/1094 [==============================] - 5s 4ms/step - loss: 4.0337 - val_loss: 1.9269\n",
            "Epoch 14/100\n",
            "1094/1094 [==============================] - 4s 4ms/step - loss: 3.2589 - val_loss: 1.5268\n",
            "Epoch 15/100\n",
            "1094/1094 [==============================] - 4s 4ms/step - loss: 2.5795 - val_loss: 1.6517\n",
            "Epoch 16/100\n",
            "1094/1094 [==============================] - 5s 4ms/step - loss: 2.1260 - val_loss: 1.6309\n",
            "Epoch 17/100\n",
            "1094/1094 [==============================] - 4s 4ms/step - loss: 1.8908 - val_loss: 1.4797\n",
            "Epoch 18/100\n",
            "1094/1094 [==============================] - 5s 4ms/step - loss: 1.7583 - val_loss: 1.5252\n",
            "Epoch 19/100\n",
            "1094/1094 [==============================] - 5s 5ms/step - loss: 1.6924 - val_loss: 1.6336\n",
            "Epoch 20/100\n",
            "1094/1094 [==============================] - 4s 4ms/step - loss: 1.6659 - val_loss: 1.4616\n",
            "Epoch 21/100\n",
            "1094/1094 [==============================] - 4s 4ms/step - loss: 1.6270 - val_loss: 1.5307\n",
            "Epoch 22/100\n",
            "1094/1094 [==============================] - 5s 5ms/step - loss: 1.6146 - val_loss: 1.5674\n",
            "Epoch 23/100\n",
            "1094/1094 [==============================] - 5s 4ms/step - loss: 1.6077 - val_loss: 1.5691\n",
            "Epoch 24/100\n",
            "1094/1094 [==============================] - 4s 4ms/step - loss: 1.6009 - val_loss: 1.4880\n",
            "Epoch 25/100\n",
            "1094/1094 [==============================] - 5s 5ms/step - loss: 1.6019 - val_loss: 1.5246\n",
            "Epoch 26/100\n",
            "1094/1094 [==============================] - 4s 4ms/step - loss: 1.5957 - val_loss: 1.4648\n",
            "Epoch 27/100\n",
            "1094/1094 [==============================] - 4s 4ms/step - loss: 1.5984 - val_loss: 1.6157\n",
            "Epoch 28/100\n",
            "1094/1094 [==============================] - 5s 4ms/step - loss: 1.5876 - val_loss: 1.5309\n",
            "Epoch 29/100\n",
            "1094/1094 [==============================] - 4s 4ms/step - loss: 1.5922 - val_loss: 1.5093\n",
            "Epoch 30/100\n",
            "1094/1094 [==============================] - 4s 4ms/step - loss: 1.5884 - val_loss: 1.5551\n",
            "Epoch 31/100\n",
            "1094/1094 [==============================] - 5s 5ms/step - loss: 1.5962 - val_loss: 1.4833\n",
            "Epoch 32/100\n",
            "1094/1094 [==============================] - 5s 4ms/step - loss: 1.5944 - val_loss: 1.4671\n",
            "Epoch 33/100\n",
            "1094/1094 [==============================] - 4s 4ms/step - loss: 1.5927 - val_loss: 1.4610\n",
            "Epoch 34/100\n",
            "1094/1094 [==============================] - 5s 5ms/step - loss: 1.5846 - val_loss: 1.4816\n",
            "Epoch 35/100\n",
            "1094/1094 [==============================] - 4s 4ms/step - loss: 1.5938 - val_loss: 1.5076\n",
            "Epoch 36/100\n",
            "1094/1094 [==============================] - 4s 4ms/step - loss: 1.5867 - val_loss: 1.5039\n",
            "Epoch 37/100\n",
            "1094/1094 [==============================] - 5s 5ms/step - loss: 1.5861 - val_loss: 1.5471\n",
            "Epoch 38/100\n",
            "1094/1094 [==============================] - 4s 4ms/step - loss: 1.5846 - val_loss: 1.5015\n",
            "Epoch 39/100\n",
            "1094/1094 [==============================] - 4s 4ms/step - loss: 1.5898 - val_loss: 1.5226\n",
            "Epoch 40/100\n",
            "1094/1094 [==============================] - 5s 5ms/step - loss: 1.5818 - val_loss: 1.4658\n",
            "Epoch 41/100\n",
            "1094/1094 [==============================] - 4s 4ms/step - loss: 1.5861 - val_loss: 1.4778\n",
            "Epoch 42/100\n",
            "1094/1094 [==============================] - 4s 4ms/step - loss: 1.5920 - val_loss: 1.5558\n",
            "Epoch 43/100\n",
            "1094/1094 [==============================] - 5s 5ms/step - loss: 1.5835 - val_loss: 1.4717\n",
            "Epoch 44/100\n",
            "1094/1094 [==============================] - 4s 4ms/step - loss: 1.5847 - val_loss: 1.4829\n",
            "Epoch 45/100\n",
            "1094/1094 [==============================] - 5s 4ms/step - loss: 1.5853 - val_loss: 1.4687\n",
            "Epoch 46/100\n",
            "1094/1094 [==============================] - 5s 5ms/step - loss: 1.5893 - val_loss: 1.5624\n",
            "Epoch 47/100\n",
            "1094/1094 [==============================] - 5s 4ms/step - loss: 1.5809 - val_loss: 1.6347\n",
            "Epoch 48/100\n",
            "1094/1094 [==============================] - 5s 4ms/step - loss: 1.5835 - val_loss: 1.5511\n",
            "Epoch 49/100\n",
            "1094/1094 [==============================] - 5s 5ms/step - loss: 1.5794 - val_loss: 1.5463\n",
            "Epoch 50/100\n",
            "1094/1094 [==============================] - 4s 4ms/step - loss: 1.5866 - val_loss: 1.4823\n",
            "Epoch 51/100\n",
            "1094/1094 [==============================] - 4s 4ms/step - loss: 1.5817 - val_loss: 1.5486\n",
            "Epoch 52/100\n",
            "1094/1094 [==============================] - 5s 5ms/step - loss: 1.5787 - val_loss: 1.4909\n",
            "Epoch 53/100\n",
            "1094/1094 [==============================] - 4s 4ms/step - loss: 1.5857 - val_loss: 1.4857\n",
            "Epoch 54/100\n",
            "1094/1094 [==============================] - 5s 4ms/step - loss: 1.5795 - val_loss: 1.4622\n",
            "Epoch 55/100\n",
            "1094/1094 [==============================] - 5s 4ms/step - loss: 1.5882 - val_loss: 1.5081\n",
            "Epoch 56/100\n",
            "1094/1094 [==============================] - 5s 4ms/step - loss: 1.5789 - val_loss: 1.5224\n",
            "Epoch 57/100\n",
            "1094/1094 [==============================] - 5s 5ms/step - loss: 1.5755 - val_loss: 1.4852\n",
            "Epoch 58/100\n",
            "1094/1094 [==============================] - 5s 4ms/step - loss: 1.5713 - val_loss: 1.4933\n",
            "Epoch 59/100\n",
            "1094/1094 [==============================] - 5s 4ms/step - loss: 1.5805 - val_loss: 1.5907\n",
            "Epoch 60/100\n",
            "1094/1094 [==============================] - 5s 5ms/step - loss: 1.5817 - val_loss: 1.4579\n",
            "Epoch 61/100\n",
            "1094/1094 [==============================] - 5s 4ms/step - loss: 1.5803 - val_loss: 1.5062\n",
            "Epoch 62/100\n",
            "1094/1094 [==============================] - 5s 4ms/step - loss: 1.5768 - val_loss: 1.5263\n",
            "Epoch 63/100\n",
            "1094/1094 [==============================] - 5s 5ms/step - loss: 1.5778 - val_loss: 1.5214\n",
            "Epoch 64/100\n",
            "1094/1094 [==============================] - 5s 4ms/step - loss: 1.5742 - val_loss: 1.5049\n",
            "Epoch 65/100\n",
            "1094/1094 [==============================] - 5s 4ms/step - loss: 1.5800 - val_loss: 1.4612\n",
            "Epoch 66/100\n",
            "1094/1094 [==============================] - 5s 5ms/step - loss: 1.5778 - val_loss: 1.4543\n",
            "Epoch 67/100\n",
            "1094/1094 [==============================] - 5s 4ms/step - loss: 1.5763 - val_loss: 1.4959\n",
            "Epoch 68/100\n",
            "1094/1094 [==============================] - 4s 4ms/step - loss: 1.5755 - val_loss: 1.5280\n",
            "Epoch 69/100\n",
            "1094/1094 [==============================] - 5s 5ms/step - loss: 1.5852 - val_loss: 1.4724\n",
            "Epoch 70/100\n",
            "1094/1094 [==============================] - 5s 4ms/step - loss: 1.5749 - val_loss: 1.6212\n",
            "Epoch 71/100\n",
            "1094/1094 [==============================] - 5s 5ms/step - loss: 1.5791 - val_loss: 1.4799\n",
            "Epoch 72/100\n",
            "1094/1094 [==============================] - 5s 4ms/step - loss: 1.5722 - val_loss: 1.4996\n",
            "Epoch 73/100\n",
            "1094/1094 [==============================] - 4s 4ms/step - loss: 1.5832 - val_loss: 1.5221\n",
            "Epoch 74/100\n",
            "1094/1094 [==============================] - 5s 5ms/step - loss: 1.5802 - val_loss: 1.4759\n",
            "Epoch 75/100\n",
            "1094/1094 [==============================] - 5s 5ms/step - loss: 1.5740 - val_loss: 1.5748\n",
            "Epoch 76/100\n",
            "1094/1094 [==============================] - 4s 4ms/step - loss: 1.5781 - val_loss: 1.5861\n",
            "Epoch 77/100\n",
            "1094/1094 [==============================] - 5s 5ms/step - loss: 1.5735 - val_loss: 1.5376\n",
            "Epoch 78/100\n",
            "1094/1094 [==============================] - 5s 4ms/step - loss: 1.5822 - val_loss: 1.5146\n",
            "Epoch 79/100\n",
            "1094/1094 [==============================] - 4s 4ms/step - loss: 1.5758 - val_loss: 1.5347\n",
            "Epoch 80/100\n",
            "1094/1094 [==============================] - 5s 5ms/step - loss: 1.5721 - val_loss: 1.5782\n",
            "Epoch 81/100\n",
            "1094/1094 [==============================] - 4s 4ms/step - loss: 1.5802 - val_loss: 1.4958\n",
            "Epoch 82/100\n",
            "1094/1094 [==============================] - 4s 4ms/step - loss: 1.5755 - val_loss: 1.4582\n",
            "Epoch 83/100\n",
            "1094/1094 [==============================] - 5s 5ms/step - loss: 1.5745 - val_loss: 1.5353\n",
            "Epoch 84/100\n",
            "1094/1094 [==============================] - 5s 4ms/step - loss: 1.5790 - val_loss: 1.5104\n",
            "Epoch 85/100\n",
            "1094/1094 [==============================] - 5s 4ms/step - loss: 1.5723 - val_loss: 1.5468\n",
            "Epoch 86/100\n",
            "1094/1094 [==============================] - 5s 4ms/step - loss: 1.5755 - val_loss: 1.4556\n",
            "Epoch 87/100\n",
            "1094/1094 [==============================] - 4s 4ms/step - loss: 1.5715 - val_loss: 1.4745\n",
            "Epoch 88/100\n",
            "1094/1094 [==============================] - 4s 4ms/step - loss: 1.5752 - val_loss: 1.4879\n",
            "Epoch 89/100\n",
            "1094/1094 [==============================] - 5s 4ms/step - loss: 1.5746 - val_loss: 1.4900\n",
            "Epoch 90/100\n",
            "1094/1094 [==============================] - 4s 4ms/step - loss: 1.5676 - val_loss: 1.4505\n",
            "Epoch 91/100\n",
            "1094/1094 [==============================] - 5s 4ms/step - loss: 1.5745 - val_loss: 1.5014\n",
            "Epoch 92/100\n",
            "1094/1094 [==============================] - 5s 5ms/step - loss: 1.5734 - val_loss: 1.4767\n",
            "Epoch 93/100\n",
            "1094/1094 [==============================] - 5s 4ms/step - loss: 1.5757 - val_loss: 1.5070\n",
            "Epoch 94/100\n",
            "1094/1094 [==============================] - 5s 5ms/step - loss: 1.5778 - val_loss: 1.4980\n",
            "Epoch 95/100\n",
            "1094/1094 [==============================] - 5s 4ms/step - loss: 1.5740 - val_loss: 1.5262\n",
            "Epoch 96/100\n",
            "1094/1094 [==============================] - 5s 4ms/step - loss: 1.5754 - val_loss: 1.5654\n",
            "Epoch 97/100\n",
            "1094/1094 [==============================] - 5s 5ms/step - loss: 1.5725 - val_loss: 1.4848\n",
            "Epoch 98/100\n",
            "1094/1094 [==============================] - 4s 4ms/step - loss: 1.5678 - val_loss: 1.5016\n",
            "Epoch 99/100\n",
            "1094/1094 [==============================] - 4s 4ms/step - loss: 1.5784 - val_loss: 1.5335\n",
            "Epoch 100/100\n",
            "1094/1094 [==============================] - 5s 5ms/step - loss: 1.5722 - val_loss: 1.4691\n"
          ]
        }
      ]
    },
    {
      "cell_type": "code",
      "source": [
        "dump(ANN, folder + 'ANN_reg_best.joblib')"
      ],
      "metadata": {
        "id": "ZQEX55MoSUB3",
        "colab": {
          "base_uri": "https://localhost:8080/"
        },
        "outputId": "8a7b2460-48f4-4306-89cb-2f8903be29e5"
      },
      "execution_count": 57,
      "outputs": [
        {
          "output_type": "execute_result",
          "data": {
            "text/plain": [
              "['/content/drive/MyDrive/Colab Notebooks/final_project/ANN_reg_best.joblib']"
            ]
          },
          "metadata": {},
          "execution_count": 57
        }
      ]
    },
    {
      "cell_type": "code",
      "source": [
        "y_pred_ANN = ANN_reg_best.model.predict(X_test_scale)"
      ],
      "metadata": {
        "id": "RLrIN08kRtKx",
        "colab": {
          "base_uri": "https://localhost:8080/"
        },
        "outputId": "fe23dc88-39c2-4ee5-e60d-f2740e894079"
      },
      "execution_count": 58,
      "outputs": [
        {
          "output_type": "stream",
          "name": "stdout",
          "text": [
            "938/938 [==============================] - 1s 1ms/step\n"
          ]
        }
      ]
    },
    {
      "cell_type": "code",
      "source": [
        "MSE_test_ANN = mean_squared_error(y_test, y_pred_ANN)\n",
        "r2_test_ANN = r2_score(y_test, y_pred_ANN)\n",
        "[MSE_test_ANN, r2_test_ANN]"
      ],
      "metadata": {
        "id": "sKsn7bcFSJ1s",
        "colab": {
          "base_uri": "https://localhost:8080/"
        },
        "outputId": "a3d0afbf-61c2-4fb0-d084-09ad2293c4f6"
      },
      "execution_count": 59,
      "outputs": [
        {
          "output_type": "execute_result",
          "data": {
            "text/plain": [
              "[1.4690872439088147, 0.7389844101693955]"
            ]
          },
          "metadata": {},
          "execution_count": 59
        }
      ]
    },
    {
      "cell_type": "code",
      "source": [],
      "metadata": {
        "id": "lOY5RwRGfMla"
      },
      "execution_count": 59,
      "outputs": []
    }
  ]
}